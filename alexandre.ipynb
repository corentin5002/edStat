{
 "cells": [
  {
   "cell_type": "markdown",
   "id": "79599688",
   "metadata": {},
   "source": [
    "Vous êtes Data Scientist dans une start-up de la EdTech, nommée academy, qui propose des contenus de formation en ligne pour un public de niveau lycée et université.\n",
    "\n",
    "Mark, votre manager, vous a convié à une réunion pour vous présenter le projet d’expansion à l’international de l’entreprise. Il vous confie une première mission d’analyse exploratoire, pour déterminer si les données sur l’éducation de la banque mondiale permettent d’informer le projet d’expansion.\n",
    "\n",
    "Voici les différentes questions que Mark aimerait explorer, que vous avez notées durant la réunion :\n",
    "\n",
    "Quels sont les pays avec un fort potentiel de clients pour nos services ?\n",
    "Pour chacun de ces pays, quelle sera l’évolution de ce potentiel de clients ?\n",
    "Dans quels pays l'entreprise doit-elle opérer en priorité ?\n",
    "Votre mission\n",
    "Mark vous a donc demandé de réaliser une analyse pré-exploratoire de ce jeu de données. Il vous a transmis cet email à la suite de la réunion :\n",
    "\n",
    "Hello,\n",
    "\n",
    "Les données de la Banque mondiale sont disponibles à l’adresse suivante :\n",
    "\n",
    "https://datacatalog.worldbank.org/dataset/education-statistics\n",
    "\n",
    "Ou en téléchargement direct à ce lien.\n",
    "\n",
    "Je te laisse regarder la page d'accueil qui décrit le jeu de données. En résumé, l’organisme “EdStats All Indicator Query” de la Banque mondiale répertorie 4000 indicateurs internationaux décrivant l’accès à l’éducation, l’obtention de diplômes et des informations relatives aux professeurs, aux dépenses liées à l’éducation... Tu trouveras plus d'info sur ce site :\n",
    "\n",
    "http://datatopics.worldbank.org/education/\n",
    "\n",
    "Pour la pré-analyse, pourrais-tu :\n",
    "\n",
    "Valider la qualité de ce jeu de données (comporte-t-il beaucoup de données manquantes, dupliquées ?)\n",
    "\n",
    "Décrire les informations contenues dans le jeu de données (nombre de colonnes ? nombre de lignes ?)\n",
    "\n",
    "Sélectionner les informations qui semblent pertinentes pour répondre à la problématique (quelles sont les colonnes contenant des informations qui peuvent être utiles pour répondre à la problématique de l’entreprise ?)\n",
    "\n",
    "Déterminer des ordres de grandeurs des indicateurs statistiques classiques pour les différentes zones géographiques et pays du monde (moyenne/médiane/écart-type par pays et par continent ou bloc géographique)\n",
    "\n",
    "Ton travail va nous permettre de déterminer si ce jeu de données peut informer les décisions d'ouverture vers de nouveaux pays. On va partager ton analyse avec le board, alors merci de soigner la présentation et de l'illustrer avec des graphiques pertinents et lisibles !"
   ]
  },
  {
   "cell_type": "markdown",
   "id": "a2500961",
   "metadata": {},
   "source": [
    "# CSV used : EdStatsData"
   ]
  },
  {
   "cell_type": "markdown",
   "id": "57c46e60",
   "metadata": {},
   "source": [
    "## Libraries imports"
   ]
  },
  {
   "cell_type": "code",
   "execution_count": 204,
   "id": "9ffea6aa",
   "metadata": {},
   "outputs": [],
   "source": [
    "import pandas as pd\n",
    "import numpy as np\n",
    "import matplotlib.pyplot as plt\n",
    "import seaborn as sns\n",
    "import plotly.express as px\n",
    "import os"
   ]
  },
  {
   "cell_type": "markdown",
   "id": "7c050471",
   "metadata": {},
   "source": [
    "## File imports"
   ]
  },
  {
   "cell_type": "code",
   "execution_count": 205,
   "id": "8ba42ade",
   "metadata": {},
   "outputs": [],
   "source": [
    "filename = 'EdStatsData.csv'\n",
    "directory = '/CSV'\n",
    "dfEdStatsData = pd.read_csv(os.getcwd() + directory + '/' + filename)"
   ]
  },
  {
   "cell_type": "markdown",
   "id": "7b129afb",
   "metadata": {},
   "source": [
    "## Basic informations about the dataset"
   ]
  },
  {
   "cell_type": "markdown",
   "id": "c24fff87",
   "metadata": {},
   "source": [
    "> Data sample :"
   ]
  },
  {
   "cell_type": "code",
   "execution_count": 206,
   "id": "5834d85e",
   "metadata": {},
   "outputs": [
    {
     "data": {
      "text/html": [
       "<div>\n",
       "<style scoped>\n",
       "    .dataframe tbody tr th:only-of-type {\n",
       "        vertical-align: middle;\n",
       "    }\n",
       "\n",
       "    .dataframe tbody tr th {\n",
       "        vertical-align: top;\n",
       "    }\n",
       "\n",
       "    .dataframe thead th {\n",
       "        text-align: right;\n",
       "    }\n",
       "</style>\n",
       "<table border=\"1\" class=\"dataframe\">\n",
       "  <thead>\n",
       "    <tr style=\"text-align: right;\">\n",
       "      <th></th>\n",
       "      <th>Country Name</th>\n",
       "      <th>Country Code</th>\n",
       "      <th>Indicator Name</th>\n",
       "      <th>Indicator Code</th>\n",
       "      <th>1970</th>\n",
       "      <th>1971</th>\n",
       "      <th>1972</th>\n",
       "      <th>1973</th>\n",
       "      <th>1974</th>\n",
       "      <th>1975</th>\n",
       "      <th>...</th>\n",
       "      <th>2060</th>\n",
       "      <th>2065</th>\n",
       "      <th>2070</th>\n",
       "      <th>2075</th>\n",
       "      <th>2080</th>\n",
       "      <th>2085</th>\n",
       "      <th>2090</th>\n",
       "      <th>2095</th>\n",
       "      <th>2100</th>\n",
       "      <th>Unnamed: 69</th>\n",
       "    </tr>\n",
       "  </thead>\n",
       "  <tbody>\n",
       "    <tr>\n",
       "      <th>0</th>\n",
       "      <td>Arab World</td>\n",
       "      <td>ARB</td>\n",
       "      <td>Adjusted net enrolment rate, lower secondary, ...</td>\n",
       "      <td>UIS.NERA.2</td>\n",
       "      <td>NaN</td>\n",
       "      <td>NaN</td>\n",
       "      <td>NaN</td>\n",
       "      <td>NaN</td>\n",
       "      <td>NaN</td>\n",
       "      <td>NaN</td>\n",
       "      <td>...</td>\n",
       "      <td>NaN</td>\n",
       "      <td>NaN</td>\n",
       "      <td>NaN</td>\n",
       "      <td>NaN</td>\n",
       "      <td>NaN</td>\n",
       "      <td>NaN</td>\n",
       "      <td>NaN</td>\n",
       "      <td>NaN</td>\n",
       "      <td>NaN</td>\n",
       "      <td>NaN</td>\n",
       "    </tr>\n",
       "    <tr>\n",
       "      <th>1</th>\n",
       "      <td>Arab World</td>\n",
       "      <td>ARB</td>\n",
       "      <td>Adjusted net enrolment rate, lower secondary, ...</td>\n",
       "      <td>UIS.NERA.2.F</td>\n",
       "      <td>NaN</td>\n",
       "      <td>NaN</td>\n",
       "      <td>NaN</td>\n",
       "      <td>NaN</td>\n",
       "      <td>NaN</td>\n",
       "      <td>NaN</td>\n",
       "      <td>...</td>\n",
       "      <td>NaN</td>\n",
       "      <td>NaN</td>\n",
       "      <td>NaN</td>\n",
       "      <td>NaN</td>\n",
       "      <td>NaN</td>\n",
       "      <td>NaN</td>\n",
       "      <td>NaN</td>\n",
       "      <td>NaN</td>\n",
       "      <td>NaN</td>\n",
       "      <td>NaN</td>\n",
       "    </tr>\n",
       "    <tr>\n",
       "      <th>2</th>\n",
       "      <td>Arab World</td>\n",
       "      <td>ARB</td>\n",
       "      <td>Adjusted net enrolment rate, lower secondary, ...</td>\n",
       "      <td>UIS.NERA.2.GPI</td>\n",
       "      <td>NaN</td>\n",
       "      <td>NaN</td>\n",
       "      <td>NaN</td>\n",
       "      <td>NaN</td>\n",
       "      <td>NaN</td>\n",
       "      <td>NaN</td>\n",
       "      <td>...</td>\n",
       "      <td>NaN</td>\n",
       "      <td>NaN</td>\n",
       "      <td>NaN</td>\n",
       "      <td>NaN</td>\n",
       "      <td>NaN</td>\n",
       "      <td>NaN</td>\n",
       "      <td>NaN</td>\n",
       "      <td>NaN</td>\n",
       "      <td>NaN</td>\n",
       "      <td>NaN</td>\n",
       "    </tr>\n",
       "    <tr>\n",
       "      <th>3</th>\n",
       "      <td>Arab World</td>\n",
       "      <td>ARB</td>\n",
       "      <td>Adjusted net enrolment rate, lower secondary, ...</td>\n",
       "      <td>UIS.NERA.2.M</td>\n",
       "      <td>NaN</td>\n",
       "      <td>NaN</td>\n",
       "      <td>NaN</td>\n",
       "      <td>NaN</td>\n",
       "      <td>NaN</td>\n",
       "      <td>NaN</td>\n",
       "      <td>...</td>\n",
       "      <td>NaN</td>\n",
       "      <td>NaN</td>\n",
       "      <td>NaN</td>\n",
       "      <td>NaN</td>\n",
       "      <td>NaN</td>\n",
       "      <td>NaN</td>\n",
       "      <td>NaN</td>\n",
       "      <td>NaN</td>\n",
       "      <td>NaN</td>\n",
       "      <td>NaN</td>\n",
       "    </tr>\n",
       "    <tr>\n",
       "      <th>4</th>\n",
       "      <td>Arab World</td>\n",
       "      <td>ARB</td>\n",
       "      <td>Adjusted net enrolment rate, primary, both sex...</td>\n",
       "      <td>SE.PRM.TENR</td>\n",
       "      <td>54.822121</td>\n",
       "      <td>54.894138</td>\n",
       "      <td>56.209438</td>\n",
       "      <td>57.267109</td>\n",
       "      <td>57.991138</td>\n",
       "      <td>59.36554</td>\n",
       "      <td>...</td>\n",
       "      <td>NaN</td>\n",
       "      <td>NaN</td>\n",
       "      <td>NaN</td>\n",
       "      <td>NaN</td>\n",
       "      <td>NaN</td>\n",
       "      <td>NaN</td>\n",
       "      <td>NaN</td>\n",
       "      <td>NaN</td>\n",
       "      <td>NaN</td>\n",
       "      <td>NaN</td>\n",
       "    </tr>\n",
       "  </tbody>\n",
       "</table>\n",
       "<p>5 rows × 70 columns</p>\n",
       "</div>"
      ],
      "text/plain": [
       "  Country Name Country Code  \\\n",
       "0   Arab World          ARB   \n",
       "1   Arab World          ARB   \n",
       "2   Arab World          ARB   \n",
       "3   Arab World          ARB   \n",
       "4   Arab World          ARB   \n",
       "\n",
       "                                      Indicator Name  Indicator Code  \\\n",
       "0  Adjusted net enrolment rate, lower secondary, ...      UIS.NERA.2   \n",
       "1  Adjusted net enrolment rate, lower secondary, ...    UIS.NERA.2.F   \n",
       "2  Adjusted net enrolment rate, lower secondary, ...  UIS.NERA.2.GPI   \n",
       "3  Adjusted net enrolment rate, lower secondary, ...    UIS.NERA.2.M   \n",
       "4  Adjusted net enrolment rate, primary, both sex...     SE.PRM.TENR   \n",
       "\n",
       "        1970       1971       1972       1973       1974      1975  ...  2060  \\\n",
       "0        NaN        NaN        NaN        NaN        NaN       NaN  ...   NaN   \n",
       "1        NaN        NaN        NaN        NaN        NaN       NaN  ...   NaN   \n",
       "2        NaN        NaN        NaN        NaN        NaN       NaN  ...   NaN   \n",
       "3        NaN        NaN        NaN        NaN        NaN       NaN  ...   NaN   \n",
       "4  54.822121  54.894138  56.209438  57.267109  57.991138  59.36554  ...   NaN   \n",
       "\n",
       "   2065  2070  2075  2080  2085  2090  2095  2100  Unnamed: 69  \n",
       "0   NaN   NaN   NaN   NaN   NaN   NaN   NaN   NaN          NaN  \n",
       "1   NaN   NaN   NaN   NaN   NaN   NaN   NaN   NaN          NaN  \n",
       "2   NaN   NaN   NaN   NaN   NaN   NaN   NaN   NaN          NaN  \n",
       "3   NaN   NaN   NaN   NaN   NaN   NaN   NaN   NaN          NaN  \n",
       "4   NaN   NaN   NaN   NaN   NaN   NaN   NaN   NaN          NaN  \n",
       "\n",
       "[5 rows x 70 columns]"
      ]
     },
     "execution_count": 206,
     "metadata": {},
     "output_type": "execute_result"
    }
   ],
   "source": [
    "dfEdStatsData.head()"
   ]
  },
  {
   "cell_type": "markdown",
   "id": "a5782fdb",
   "metadata": {},
   "source": [
    "> Data infos"
   ]
  },
  {
   "cell_type": "code",
   "execution_count": 207,
   "id": "6e041008",
   "metadata": {},
   "outputs": [
    {
     "name": "stdout",
     "output_type": "stream",
     "text": [
      "<class 'pandas.core.frame.DataFrame'>\n",
      "RangeIndex: 886930 entries, 0 to 886929\n",
      "Data columns (total 70 columns):\n",
      " #   Column          Non-Null Count   Dtype  \n",
      "---  ------          --------------   -----  \n",
      " 0   Country Name    886930 non-null  object \n",
      " 1   Country Code    886930 non-null  object \n",
      " 2   Indicator Name  886930 non-null  object \n",
      " 3   Indicator Code  886930 non-null  object \n",
      " 4   1970            72288 non-null   float64\n",
      " 5   1971            35537 non-null   float64\n",
      " 6   1972            35619 non-null   float64\n",
      " 7   1973            35545 non-null   float64\n",
      " 8   1974            35730 non-null   float64\n",
      " 9   1975            87306 non-null   float64\n",
      " 10  1976            37483 non-null   float64\n",
      " 11  1977            37574 non-null   float64\n",
      " 12  1978            37576 non-null   float64\n",
      " 13  1979            36809 non-null   float64\n",
      " 14  1980            89122 non-null   float64\n",
      " 15  1981            38777 non-null   float64\n",
      " 16  1982            37511 non-null   float64\n",
      " 17  1983            38460 non-null   float64\n",
      " 18  1984            38606 non-null   float64\n",
      " 19  1985            90296 non-null   float64\n",
      " 20  1986            39372 non-null   float64\n",
      " 21  1987            38641 non-null   float64\n",
      " 22  1988            38552 non-null   float64\n",
      " 23  1989            37540 non-null   float64\n",
      " 24  1990            124405 non-null  float64\n",
      " 25  1991            74437 non-null   float64\n",
      " 26  1992            75543 non-null   float64\n",
      " 27  1993            75793 non-null   float64\n",
      " 28  1994            77462 non-null   float64\n",
      " 29  1995            131361 non-null  float64\n",
      " 30  1996            76807 non-null   float64\n",
      " 31  1997            73453 non-null   float64\n",
      " 32  1998            84914 non-null   float64\n",
      " 33  1999            118839 non-null  float64\n",
      " 34  2000            176676 non-null  float64\n",
      " 35  2001            123509 non-null  float64\n",
      " 36  2002            124205 non-null  float64\n",
      " 37  2003            130363 non-null  float64\n",
      " 38  2004            128814 non-null  float64\n",
      " 39  2005            184108 non-null  float64\n",
      " 40  2006            140312 non-null  float64\n",
      " 41  2007            137272 non-null  float64\n",
      " 42  2008            134387 non-null  float64\n",
      " 43  2009            142108 non-null  float64\n",
      " 44  2010            242442 non-null  float64\n",
      " 45  2011            146012 non-null  float64\n",
      " 46  2012            147264 non-null  float64\n",
      " 47  2013            137509 non-null  float64\n",
      " 48  2014            113789 non-null  float64\n",
      " 49  2015            131058 non-null  float64\n",
      " 50  2016            16460 non-null   float64\n",
      " 51  2017            143 non-null     float64\n",
      " 52  2020            51436 non-null   float64\n",
      " 53  2025            51436 non-null   float64\n",
      " 54  2030            51436 non-null   float64\n",
      " 55  2035            51436 non-null   float64\n",
      " 56  2040            51436 non-null   float64\n",
      " 57  2045            51436 non-null   float64\n",
      " 58  2050            51436 non-null   float64\n",
      " 59  2055            51436 non-null   float64\n",
      " 60  2060            51436 non-null   float64\n",
      " 61  2065            51436 non-null   float64\n",
      " 62  2070            51436 non-null   float64\n",
      " 63  2075            51436 non-null   float64\n",
      " 64  2080            51436 non-null   float64\n",
      " 65  2085            51436 non-null   float64\n",
      " 66  2090            51436 non-null   float64\n",
      " 67  2095            51436 non-null   float64\n",
      " 68  2100            51436 non-null   float64\n",
      " 69  Unnamed: 69     0 non-null       float64\n",
      "dtypes: float64(66), object(4)\n",
      "memory usage: 473.7+ MB\n"
     ]
    }
   ],
   "source": [
    "dfEdStatsData.info()"
   ]
  },
  {
   "cell_type": "markdown",
   "id": "d5ca4481",
   "metadata": {},
   "source": [
    "Our dataset contains 886930 entries, we have 66 float variables and 4 object variables which are strings but we keep them in object type as they are handled better like this.\n"
   ]
  },
  {
   "cell_type": "markdown",
   "id": "49eb2b0e",
   "metadata": {},
   "source": [
    "## Dataset fractioning"
   ]
  },
  {
   "cell_type": "markdown",
   "id": "761e55bc",
   "metadata": {},
   "source": [
    "We create sub datasets for \"country-only\" and \"worldwide\""
   ]
  },
  {
   "cell_type": "code",
   "execution_count": 208,
   "id": "bd21fd5d",
   "metadata": {},
   "outputs": [
    {
     "data": {
      "text/html": [
       "<div>\n",
       "<style scoped>\n",
       "    .dataframe tbody tr th:only-of-type {\n",
       "        vertical-align: middle;\n",
       "    }\n",
       "\n",
       "    .dataframe tbody tr th {\n",
       "        vertical-align: top;\n",
       "    }\n",
       "\n",
       "    .dataframe thead th {\n",
       "        text-align: right;\n",
       "    }\n",
       "</style>\n",
       "<table border=\"1\" class=\"dataframe\">\n",
       "  <thead>\n",
       "    <tr style=\"text-align: right;\">\n",
       "      <th></th>\n",
       "      <th>country_name</th>\n",
       "      <th>country_code</th>\n",
       "      <th>indicator_name</th>\n",
       "      <th>indicator_code</th>\n",
       "      <th>1970</th>\n",
       "      <th>1971</th>\n",
       "      <th>1972</th>\n",
       "      <th>1973</th>\n",
       "      <th>1974</th>\n",
       "      <th>1975</th>\n",
       "      <th>...</th>\n",
       "      <th>2060</th>\n",
       "      <th>2065</th>\n",
       "      <th>2070</th>\n",
       "      <th>2075</th>\n",
       "      <th>2080</th>\n",
       "      <th>2085</th>\n",
       "      <th>2090</th>\n",
       "      <th>2095</th>\n",
       "      <th>2100</th>\n",
       "      <th>unnamed:_69</th>\n",
       "    </tr>\n",
       "  </thead>\n",
       "  <tbody>\n",
       "    <tr>\n",
       "      <th>0</th>\n",
       "      <td>Afghanistan</td>\n",
       "      <td>AFG</td>\n",
       "      <td>Adjusted net enrolment rate, lower secondary, ...</td>\n",
       "      <td>UIS.NERA.2</td>\n",
       "      <td>NaN</td>\n",
       "      <td>NaN</td>\n",
       "      <td>NaN</td>\n",
       "      <td>NaN</td>\n",
       "      <td>7.05911</td>\n",
       "      <td>NaN</td>\n",
       "      <td>...</td>\n",
       "      <td>NaN</td>\n",
       "      <td>NaN</td>\n",
       "      <td>NaN</td>\n",
       "      <td>NaN</td>\n",
       "      <td>NaN</td>\n",
       "      <td>NaN</td>\n",
       "      <td>NaN</td>\n",
       "      <td>NaN</td>\n",
       "      <td>NaN</td>\n",
       "      <td>NaN</td>\n",
       "    </tr>\n",
       "    <tr>\n",
       "      <th>1</th>\n",
       "      <td>Afghanistan</td>\n",
       "      <td>AFG</td>\n",
       "      <td>Adjusted net enrolment rate, lower secondary, ...</td>\n",
       "      <td>UIS.NERA.2.F</td>\n",
       "      <td>NaN</td>\n",
       "      <td>NaN</td>\n",
       "      <td>NaN</td>\n",
       "      <td>NaN</td>\n",
       "      <td>2.53138</td>\n",
       "      <td>NaN</td>\n",
       "      <td>...</td>\n",
       "      <td>NaN</td>\n",
       "      <td>NaN</td>\n",
       "      <td>NaN</td>\n",
       "      <td>NaN</td>\n",
       "      <td>NaN</td>\n",
       "      <td>NaN</td>\n",
       "      <td>NaN</td>\n",
       "      <td>NaN</td>\n",
       "      <td>NaN</td>\n",
       "      <td>NaN</td>\n",
       "    </tr>\n",
       "    <tr>\n",
       "      <th>2</th>\n",
       "      <td>Afghanistan</td>\n",
       "      <td>AFG</td>\n",
       "      <td>Adjusted net enrolment rate, lower secondary, ...</td>\n",
       "      <td>UIS.NERA.2.GPI</td>\n",
       "      <td>NaN</td>\n",
       "      <td>NaN</td>\n",
       "      <td>NaN</td>\n",
       "      <td>NaN</td>\n",
       "      <td>0.22154</td>\n",
       "      <td>NaN</td>\n",
       "      <td>...</td>\n",
       "      <td>NaN</td>\n",
       "      <td>NaN</td>\n",
       "      <td>NaN</td>\n",
       "      <td>NaN</td>\n",
       "      <td>NaN</td>\n",
       "      <td>NaN</td>\n",
       "      <td>NaN</td>\n",
       "      <td>NaN</td>\n",
       "      <td>NaN</td>\n",
       "      <td>NaN</td>\n",
       "    </tr>\n",
       "    <tr>\n",
       "      <th>3</th>\n",
       "      <td>Afghanistan</td>\n",
       "      <td>AFG</td>\n",
       "      <td>Adjusted net enrolment rate, lower secondary, ...</td>\n",
       "      <td>UIS.NERA.2.M</td>\n",
       "      <td>NaN</td>\n",
       "      <td>NaN</td>\n",
       "      <td>NaN</td>\n",
       "      <td>NaN</td>\n",
       "      <td>11.42652</td>\n",
       "      <td>NaN</td>\n",
       "      <td>...</td>\n",
       "      <td>NaN</td>\n",
       "      <td>NaN</td>\n",
       "      <td>NaN</td>\n",
       "      <td>NaN</td>\n",
       "      <td>NaN</td>\n",
       "      <td>NaN</td>\n",
       "      <td>NaN</td>\n",
       "      <td>NaN</td>\n",
       "      <td>NaN</td>\n",
       "      <td>NaN</td>\n",
       "    </tr>\n",
       "    <tr>\n",
       "      <th>4</th>\n",
       "      <td>Afghanistan</td>\n",
       "      <td>AFG</td>\n",
       "      <td>Adjusted net enrolment rate, primary, both sex...</td>\n",
       "      <td>SE.PRM.TENR</td>\n",
       "      <td>NaN</td>\n",
       "      <td>NaN</td>\n",
       "      <td>NaN</td>\n",
       "      <td>NaN</td>\n",
       "      <td>NaN</td>\n",
       "      <td>NaN</td>\n",
       "      <td>...</td>\n",
       "      <td>NaN</td>\n",
       "      <td>NaN</td>\n",
       "      <td>NaN</td>\n",
       "      <td>NaN</td>\n",
       "      <td>NaN</td>\n",
       "      <td>NaN</td>\n",
       "      <td>NaN</td>\n",
       "      <td>NaN</td>\n",
       "      <td>NaN</td>\n",
       "      <td>NaN</td>\n",
       "    </tr>\n",
       "    <tr>\n",
       "      <th>...</th>\n",
       "      <td>...</td>\n",
       "      <td>...</td>\n",
       "      <td>...</td>\n",
       "      <td>...</td>\n",
       "      <td>...</td>\n",
       "      <td>...</td>\n",
       "      <td>...</td>\n",
       "      <td>...</td>\n",
       "      <td>...</td>\n",
       "      <td>...</td>\n",
       "      <td>...</td>\n",
       "      <td>...</td>\n",
       "      <td>...</td>\n",
       "      <td>...</td>\n",
       "      <td>...</td>\n",
       "      <td>...</td>\n",
       "      <td>...</td>\n",
       "      <td>...</td>\n",
       "      <td>...</td>\n",
       "      <td>...</td>\n",
       "      <td>...</td>\n",
       "    </tr>\n",
       "    <tr>\n",
       "      <th>795300</th>\n",
       "      <td>Zimbabwe</td>\n",
       "      <td>ZWE</td>\n",
       "      <td>Youth illiterate population, 15-24 years, male...</td>\n",
       "      <td>UIS.LP.AG15T24.M</td>\n",
       "      <td>NaN</td>\n",
       "      <td>NaN</td>\n",
       "      <td>NaN</td>\n",
       "      <td>NaN</td>\n",
       "      <td>NaN</td>\n",
       "      <td>NaN</td>\n",
       "      <td>...</td>\n",
       "      <td>NaN</td>\n",
       "      <td>NaN</td>\n",
       "      <td>NaN</td>\n",
       "      <td>NaN</td>\n",
       "      <td>NaN</td>\n",
       "      <td>NaN</td>\n",
       "      <td>NaN</td>\n",
       "      <td>NaN</td>\n",
       "      <td>NaN</td>\n",
       "      <td>NaN</td>\n",
       "    </tr>\n",
       "    <tr>\n",
       "      <th>795301</th>\n",
       "      <td>Zimbabwe</td>\n",
       "      <td>ZWE</td>\n",
       "      <td>Youth literacy rate, population 15-24 years, b...</td>\n",
       "      <td>SE.ADT.1524.LT.ZS</td>\n",
       "      <td>NaN</td>\n",
       "      <td>NaN</td>\n",
       "      <td>NaN</td>\n",
       "      <td>NaN</td>\n",
       "      <td>NaN</td>\n",
       "      <td>NaN</td>\n",
       "      <td>...</td>\n",
       "      <td>NaN</td>\n",
       "      <td>NaN</td>\n",
       "      <td>NaN</td>\n",
       "      <td>NaN</td>\n",
       "      <td>NaN</td>\n",
       "      <td>NaN</td>\n",
       "      <td>NaN</td>\n",
       "      <td>NaN</td>\n",
       "      <td>NaN</td>\n",
       "      <td>NaN</td>\n",
       "    </tr>\n",
       "    <tr>\n",
       "      <th>795302</th>\n",
       "      <td>Zimbabwe</td>\n",
       "      <td>ZWE</td>\n",
       "      <td>Youth literacy rate, population 15-24 years, f...</td>\n",
       "      <td>SE.ADT.1524.LT.FE.ZS</td>\n",
       "      <td>NaN</td>\n",
       "      <td>NaN</td>\n",
       "      <td>NaN</td>\n",
       "      <td>NaN</td>\n",
       "      <td>NaN</td>\n",
       "      <td>NaN</td>\n",
       "      <td>...</td>\n",
       "      <td>NaN</td>\n",
       "      <td>NaN</td>\n",
       "      <td>NaN</td>\n",
       "      <td>NaN</td>\n",
       "      <td>NaN</td>\n",
       "      <td>NaN</td>\n",
       "      <td>NaN</td>\n",
       "      <td>NaN</td>\n",
       "      <td>NaN</td>\n",
       "      <td>NaN</td>\n",
       "    </tr>\n",
       "    <tr>\n",
       "      <th>795303</th>\n",
       "      <td>Zimbabwe</td>\n",
       "      <td>ZWE</td>\n",
       "      <td>Youth literacy rate, population 15-24 years, g...</td>\n",
       "      <td>SE.ADT.1524.LT.FM.ZS</td>\n",
       "      <td>NaN</td>\n",
       "      <td>NaN</td>\n",
       "      <td>NaN</td>\n",
       "      <td>NaN</td>\n",
       "      <td>NaN</td>\n",
       "      <td>NaN</td>\n",
       "      <td>...</td>\n",
       "      <td>NaN</td>\n",
       "      <td>NaN</td>\n",
       "      <td>NaN</td>\n",
       "      <td>NaN</td>\n",
       "      <td>NaN</td>\n",
       "      <td>NaN</td>\n",
       "      <td>NaN</td>\n",
       "      <td>NaN</td>\n",
       "      <td>NaN</td>\n",
       "      <td>NaN</td>\n",
       "    </tr>\n",
       "    <tr>\n",
       "      <th>795304</th>\n",
       "      <td>Zimbabwe</td>\n",
       "      <td>ZWE</td>\n",
       "      <td>Youth literacy rate, population 15-24 years, m...</td>\n",
       "      <td>SE.ADT.1524.LT.MA.ZS</td>\n",
       "      <td>NaN</td>\n",
       "      <td>NaN</td>\n",
       "      <td>NaN</td>\n",
       "      <td>NaN</td>\n",
       "      <td>NaN</td>\n",
       "      <td>NaN</td>\n",
       "      <td>...</td>\n",
       "      <td>NaN</td>\n",
       "      <td>NaN</td>\n",
       "      <td>NaN</td>\n",
       "      <td>NaN</td>\n",
       "      <td>NaN</td>\n",
       "      <td>NaN</td>\n",
       "      <td>NaN</td>\n",
       "      <td>NaN</td>\n",
       "      <td>NaN</td>\n",
       "      <td>NaN</td>\n",
       "    </tr>\n",
       "  </tbody>\n",
       "</table>\n",
       "<p>795305 rows × 70 columns</p>\n",
       "</div>"
      ],
      "text/plain": [
       "       country_name country_code  \\\n",
       "0       Afghanistan          AFG   \n",
       "1       Afghanistan          AFG   \n",
       "2       Afghanistan          AFG   \n",
       "3       Afghanistan          AFG   \n",
       "4       Afghanistan          AFG   \n",
       "...             ...          ...   \n",
       "795300     Zimbabwe          ZWE   \n",
       "795301     Zimbabwe          ZWE   \n",
       "795302     Zimbabwe          ZWE   \n",
       "795303     Zimbabwe          ZWE   \n",
       "795304     Zimbabwe          ZWE   \n",
       "\n",
       "                                           indicator_name  \\\n",
       "0       Adjusted net enrolment rate, lower secondary, ...   \n",
       "1       Adjusted net enrolment rate, lower secondary, ...   \n",
       "2       Adjusted net enrolment rate, lower secondary, ...   \n",
       "3       Adjusted net enrolment rate, lower secondary, ...   \n",
       "4       Adjusted net enrolment rate, primary, both sex...   \n",
       "...                                                   ...   \n",
       "795300  Youth illiterate population, 15-24 years, male...   \n",
       "795301  Youth literacy rate, population 15-24 years, b...   \n",
       "795302  Youth literacy rate, population 15-24 years, f...   \n",
       "795303  Youth literacy rate, population 15-24 years, g...   \n",
       "795304  Youth literacy rate, population 15-24 years, m...   \n",
       "\n",
       "              indicator_code  1970  1971  1972  1973      1974  1975  ...  \\\n",
       "0                 UIS.NERA.2   NaN   NaN   NaN   NaN   7.05911   NaN  ...   \n",
       "1               UIS.NERA.2.F   NaN   NaN   NaN   NaN   2.53138   NaN  ...   \n",
       "2             UIS.NERA.2.GPI   NaN   NaN   NaN   NaN   0.22154   NaN  ...   \n",
       "3               UIS.NERA.2.M   NaN   NaN   NaN   NaN  11.42652   NaN  ...   \n",
       "4                SE.PRM.TENR   NaN   NaN   NaN   NaN       NaN   NaN  ...   \n",
       "...                      ...   ...   ...   ...   ...       ...   ...  ...   \n",
       "795300      UIS.LP.AG15T24.M   NaN   NaN   NaN   NaN       NaN   NaN  ...   \n",
       "795301     SE.ADT.1524.LT.ZS   NaN   NaN   NaN   NaN       NaN   NaN  ...   \n",
       "795302  SE.ADT.1524.LT.FE.ZS   NaN   NaN   NaN   NaN       NaN   NaN  ...   \n",
       "795303  SE.ADT.1524.LT.FM.ZS   NaN   NaN   NaN   NaN       NaN   NaN  ...   \n",
       "795304  SE.ADT.1524.LT.MA.ZS   NaN   NaN   NaN   NaN       NaN   NaN  ...   \n",
       "\n",
       "        2060  2065  2070  2075  2080  2085  2090  2095  2100  unnamed:_69  \n",
       "0        NaN   NaN   NaN   NaN   NaN   NaN   NaN   NaN   NaN          NaN  \n",
       "1        NaN   NaN   NaN   NaN   NaN   NaN   NaN   NaN   NaN          NaN  \n",
       "2        NaN   NaN   NaN   NaN   NaN   NaN   NaN   NaN   NaN          NaN  \n",
       "3        NaN   NaN   NaN   NaN   NaN   NaN   NaN   NaN   NaN          NaN  \n",
       "4        NaN   NaN   NaN   NaN   NaN   NaN   NaN   NaN   NaN          NaN  \n",
       "...      ...   ...   ...   ...   ...   ...   ...   ...   ...          ...  \n",
       "795300   NaN   NaN   NaN   NaN   NaN   NaN   NaN   NaN   NaN          NaN  \n",
       "795301   NaN   NaN   NaN   NaN   NaN   NaN   NaN   NaN   NaN          NaN  \n",
       "795302   NaN   NaN   NaN   NaN   NaN   NaN   NaN   NaN   NaN          NaN  \n",
       "795303   NaN   NaN   NaN   NaN   NaN   NaN   NaN   NaN   NaN          NaN  \n",
       "795304   NaN   NaN   NaN   NaN   NaN   NaN   NaN   NaN   NaN          NaN  \n",
       "\n",
       "[795305 rows x 70 columns]"
      ]
     },
     "execution_count": 208,
     "metadata": {},
     "output_type": "execute_result"
    }
   ],
   "source": [
    "# we convert the column names to serpent case\n",
    "dfEdStatsData.columns = dfEdStatsData.columns.str.lower().str.replace(' ', '_')\n",
    "dfEdStatsData\n",
    "\n",
    "# world sub dataset\n",
    "dfEdStatsDataWorld = dfEdStatsData[dfEdStatsData['country_name'] == 'World']\n",
    "\n",
    "# country sub dataset\n",
    "# we check for the first occurence of Afghanistan as it is the first country in the dataset\n",
    "firstOccurence = dfEdStatsData[dfEdStatsData['country_name'] == 'Afghanistan'].index[0]\n",
    "# we split the dataset into two parts\n",
    "dfEdStatsDataCountry = dfEdStatsData.iloc[firstOccurence:]\n",
    "dfEdStatsDataCountry.reset_index(drop=True, inplace=True)\n",
    "dfEdStatsDataCountry"
   ]
  },
  {
   "cell_type": "markdown",
   "id": "4138e10d",
   "metadata": {},
   "source": [
    "## Null percentage by indicator"
   ]
  },
  {
   "cell_type": "markdown",
   "id": "b8e30331",
   "metadata": {},
   "source": [
    "Ranking of most relevant indicators depending on null percentage for data aggregated **in the past**"
   ]
  },
  {
   "cell_type": "code",
   "execution_count": 209,
   "id": "35ebf851",
   "metadata": {},
   "outputs": [
    {
     "name": "stderr",
     "output_type": "stream",
     "text": [
      "C:\\Users\\alexa\\AppData\\Local\\Temp\\ipykernel_8052\\2263488496.py:1: DeprecationWarning:\n",
      "\n",
      "DataFrameGroupBy.apply operated on the grouping columns. This behavior is deprecated, and in a future version of pandas the grouping columns will be excluded from the operation. Either pass `include_groups=False` to exclude the groupings or explicitly select the grouping columns after groupby to silence this warning.\n",
      "\n",
      "C:\\Users\\alexa\\AppData\\Local\\Temp\\ipykernel_8052\\2263488496.py:14: SettingWithCopyWarning:\n",
      "\n",
      "\n",
      "A value is trying to be set on a copy of a slice from a DataFrame.\n",
      "Try using .loc[row_indexer,col_indexer] = value instead\n",
      "\n",
      "See the caveats in the documentation: https://pandas.pydata.org/pandas-docs/stable/user_guide/indexing.html#returning-a-view-versus-a-copy\n",
      "\n"
     ]
    },
    {
     "data": {
      "text/html": [
       "<div>\n",
       "<style scoped>\n",
       "    .dataframe tbody tr th:only-of-type {\n",
       "        vertical-align: middle;\n",
       "    }\n",
       "\n",
       "    .dataframe tbody tr th {\n",
       "        vertical-align: top;\n",
       "    }\n",
       "\n",
       "    .dataframe thead th {\n",
       "        text-align: right;\n",
       "    }\n",
       "</style>\n",
       "<table border=\"1\" class=\"dataframe\">\n",
       "  <thead>\n",
       "    <tr style=\"text-align: right;\">\n",
       "      <th></th>\n",
       "      <th>1970</th>\n",
       "      <th>1971</th>\n",
       "      <th>1972</th>\n",
       "      <th>1973</th>\n",
       "      <th>1974</th>\n",
       "      <th>1975</th>\n",
       "      <th>1976</th>\n",
       "      <th>1977</th>\n",
       "      <th>1978</th>\n",
       "      <th>1979</th>\n",
       "      <th>...</th>\n",
       "      <th>2008</th>\n",
       "      <th>2009</th>\n",
       "      <th>2010</th>\n",
       "      <th>2011</th>\n",
       "      <th>2012</th>\n",
       "      <th>2013</th>\n",
       "      <th>2014</th>\n",
       "      <th>2015</th>\n",
       "      <th>2016</th>\n",
       "      <th>mean</th>\n",
       "    </tr>\n",
       "    <tr>\n",
       "      <th>indicator_code</th>\n",
       "      <th></th>\n",
       "      <th></th>\n",
       "      <th></th>\n",
       "      <th></th>\n",
       "      <th></th>\n",
       "      <th></th>\n",
       "      <th></th>\n",
       "      <th></th>\n",
       "      <th></th>\n",
       "      <th></th>\n",
       "      <th></th>\n",
       "      <th></th>\n",
       "      <th></th>\n",
       "      <th></th>\n",
       "      <th></th>\n",
       "      <th></th>\n",
       "      <th></th>\n",
       "      <th></th>\n",
       "      <th></th>\n",
       "      <th></th>\n",
       "      <th></th>\n",
       "    </tr>\n",
       "  </thead>\n",
       "  <tbody>\n",
       "    <tr>\n",
       "      <th>SP.POP.TOTL</th>\n",
       "      <td>0.027650</td>\n",
       "      <td>0.027650</td>\n",
       "      <td>0.027650</td>\n",
       "      <td>0.027650</td>\n",
       "      <td>0.027650</td>\n",
       "      <td>0.027650</td>\n",
       "      <td>0.027650</td>\n",
       "      <td>0.027650</td>\n",
       "      <td>0.027650</td>\n",
       "      <td>0.027650</td>\n",
       "      <td>...</td>\n",
       "      <td>0.009217</td>\n",
       "      <td>0.009217</td>\n",
       "      <td>0.009217</td>\n",
       "      <td>0.009217</td>\n",
       "      <td>0.013825</td>\n",
       "      <td>0.013825</td>\n",
       "      <td>0.032258</td>\n",
       "      <td>0.032258</td>\n",
       "      <td>0.032258</td>\n",
       "      <td>0.020590</td>\n",
       "    </tr>\n",
       "    <tr>\n",
       "      <th>SP.POP.GROW</th>\n",
       "      <td>0.027650</td>\n",
       "      <td>0.027650</td>\n",
       "      <td>0.027650</td>\n",
       "      <td>0.027650</td>\n",
       "      <td>0.027650</td>\n",
       "      <td>0.027650</td>\n",
       "      <td>0.027650</td>\n",
       "      <td>0.027650</td>\n",
       "      <td>0.027650</td>\n",
       "      <td>0.027650</td>\n",
       "      <td>...</td>\n",
       "      <td>0.009217</td>\n",
       "      <td>0.009217</td>\n",
       "      <td>0.009217</td>\n",
       "      <td>0.013825</td>\n",
       "      <td>0.013825</td>\n",
       "      <td>0.013825</td>\n",
       "      <td>0.032258</td>\n",
       "      <td>0.032258</td>\n",
       "      <td>0.032258</td>\n",
       "      <td>0.021179</td>\n",
       "    </tr>\n",
       "    <tr>\n",
       "      <th>SE.PRM.DURS</th>\n",
       "      <td>0.073733</td>\n",
       "      <td>0.073733</td>\n",
       "      <td>0.073733</td>\n",
       "      <td>0.073733</td>\n",
       "      <td>0.073733</td>\n",
       "      <td>0.073733</td>\n",
       "      <td>0.073733</td>\n",
       "      <td>0.073733</td>\n",
       "      <td>0.073733</td>\n",
       "      <td>0.073733</td>\n",
       "      <td>...</td>\n",
       "      <td>0.041475</td>\n",
       "      <td>0.041475</td>\n",
       "      <td>0.041475</td>\n",
       "      <td>0.041475</td>\n",
       "      <td>0.041475</td>\n",
       "      <td>0.041475</td>\n",
       "      <td>0.041475</td>\n",
       "      <td>0.041475</td>\n",
       "      <td>0.179724</td>\n",
       "      <td>0.055888</td>\n",
       "    </tr>\n",
       "    <tr>\n",
       "      <th>SE.PRM.AGES</th>\n",
       "      <td>0.073733</td>\n",
       "      <td>0.073733</td>\n",
       "      <td>0.073733</td>\n",
       "      <td>0.073733</td>\n",
       "      <td>0.073733</td>\n",
       "      <td>0.073733</td>\n",
       "      <td>0.073733</td>\n",
       "      <td>0.073733</td>\n",
       "      <td>0.073733</td>\n",
       "      <td>0.073733</td>\n",
       "      <td>...</td>\n",
       "      <td>0.041475</td>\n",
       "      <td>0.041475</td>\n",
       "      <td>0.041475</td>\n",
       "      <td>0.041475</td>\n",
       "      <td>0.041475</td>\n",
       "      <td>0.041475</td>\n",
       "      <td>0.041475</td>\n",
       "      <td>0.041475</td>\n",
       "      <td>0.179724</td>\n",
       "      <td>0.055888</td>\n",
       "    </tr>\n",
       "    <tr>\n",
       "      <th>UIS.THDUR.0</th>\n",
       "      <td>0.078341</td>\n",
       "      <td>0.073733</td>\n",
       "      <td>0.073733</td>\n",
       "      <td>0.073733</td>\n",
       "      <td>0.073733</td>\n",
       "      <td>0.073733</td>\n",
       "      <td>0.073733</td>\n",
       "      <td>0.073733</td>\n",
       "      <td>0.073733</td>\n",
       "      <td>0.073733</td>\n",
       "      <td>...</td>\n",
       "      <td>0.055300</td>\n",
       "      <td>0.055300</td>\n",
       "      <td>0.055300</td>\n",
       "      <td>0.055300</td>\n",
       "      <td>0.055300</td>\n",
       "      <td>0.055300</td>\n",
       "      <td>0.055300</td>\n",
       "      <td>0.055300</td>\n",
       "      <td>0.193548</td>\n",
       "      <td>0.060888</td>\n",
       "    </tr>\n",
       "    <tr>\n",
       "      <th>...</th>\n",
       "      <td>...</td>\n",
       "      <td>...</td>\n",
       "      <td>...</td>\n",
       "      <td>...</td>\n",
       "      <td>...</td>\n",
       "      <td>...</td>\n",
       "      <td>...</td>\n",
       "      <td>...</td>\n",
       "      <td>...</td>\n",
       "      <td>...</td>\n",
       "      <td>...</td>\n",
       "      <td>...</td>\n",
       "      <td>...</td>\n",
       "      <td>...</td>\n",
       "      <td>...</td>\n",
       "      <td>...</td>\n",
       "      <td>...</td>\n",
       "      <td>...</td>\n",
       "      <td>...</td>\n",
       "      <td>...</td>\n",
       "      <td>...</td>\n",
       "    </tr>\n",
       "    <tr>\n",
       "      <th>SABER.TER.GOAL6.LVL1</th>\n",
       "      <td>1.000000</td>\n",
       "      <td>1.000000</td>\n",
       "      <td>1.000000</td>\n",
       "      <td>1.000000</td>\n",
       "      <td>1.000000</td>\n",
       "      <td>1.000000</td>\n",
       "      <td>1.000000</td>\n",
       "      <td>1.000000</td>\n",
       "      <td>1.000000</td>\n",
       "      <td>1.000000</td>\n",
       "      <td>...</td>\n",
       "      <td>1.000000</td>\n",
       "      <td>1.000000</td>\n",
       "      <td>1.000000</td>\n",
       "      <td>1.000000</td>\n",
       "      <td>1.000000</td>\n",
       "      <td>1.000000</td>\n",
       "      <td>1.000000</td>\n",
       "      <td>1.000000</td>\n",
       "      <td>1.000000</td>\n",
       "      <td>1.000000</td>\n",
       "    </tr>\n",
       "    <tr>\n",
       "      <th>SABER.TER.GOAL6.LVL2</th>\n",
       "      <td>1.000000</td>\n",
       "      <td>1.000000</td>\n",
       "      <td>1.000000</td>\n",
       "      <td>1.000000</td>\n",
       "      <td>1.000000</td>\n",
       "      <td>1.000000</td>\n",
       "      <td>1.000000</td>\n",
       "      <td>1.000000</td>\n",
       "      <td>1.000000</td>\n",
       "      <td>1.000000</td>\n",
       "      <td>...</td>\n",
       "      <td>1.000000</td>\n",
       "      <td>1.000000</td>\n",
       "      <td>1.000000</td>\n",
       "      <td>1.000000</td>\n",
       "      <td>1.000000</td>\n",
       "      <td>1.000000</td>\n",
       "      <td>1.000000</td>\n",
       "      <td>1.000000</td>\n",
       "      <td>1.000000</td>\n",
       "      <td>1.000000</td>\n",
       "    </tr>\n",
       "    <tr>\n",
       "      <th>SABER.TER.GOAL6.LVL3</th>\n",
       "      <td>1.000000</td>\n",
       "      <td>1.000000</td>\n",
       "      <td>1.000000</td>\n",
       "      <td>1.000000</td>\n",
       "      <td>1.000000</td>\n",
       "      <td>1.000000</td>\n",
       "      <td>1.000000</td>\n",
       "      <td>1.000000</td>\n",
       "      <td>1.000000</td>\n",
       "      <td>1.000000</td>\n",
       "      <td>...</td>\n",
       "      <td>1.000000</td>\n",
       "      <td>1.000000</td>\n",
       "      <td>1.000000</td>\n",
       "      <td>1.000000</td>\n",
       "      <td>1.000000</td>\n",
       "      <td>1.000000</td>\n",
       "      <td>1.000000</td>\n",
       "      <td>1.000000</td>\n",
       "      <td>1.000000</td>\n",
       "      <td>1.000000</td>\n",
       "    </tr>\n",
       "    <tr>\n",
       "      <th>SABER.TER.GOAL4</th>\n",
       "      <td>1.000000</td>\n",
       "      <td>1.000000</td>\n",
       "      <td>1.000000</td>\n",
       "      <td>1.000000</td>\n",
       "      <td>1.000000</td>\n",
       "      <td>1.000000</td>\n",
       "      <td>1.000000</td>\n",
       "      <td>1.000000</td>\n",
       "      <td>1.000000</td>\n",
       "      <td>1.000000</td>\n",
       "      <td>...</td>\n",
       "      <td>1.000000</td>\n",
       "      <td>1.000000</td>\n",
       "      <td>1.000000</td>\n",
       "      <td>1.000000</td>\n",
       "      <td>1.000000</td>\n",
       "      <td>1.000000</td>\n",
       "      <td>1.000000</td>\n",
       "      <td>1.000000</td>\n",
       "      <td>1.000000</td>\n",
       "      <td>1.000000</td>\n",
       "    </tr>\n",
       "    <tr>\n",
       "      <th>SABER.TER.GOAL3</th>\n",
       "      <td>1.000000</td>\n",
       "      <td>1.000000</td>\n",
       "      <td>1.000000</td>\n",
       "      <td>1.000000</td>\n",
       "      <td>1.000000</td>\n",
       "      <td>1.000000</td>\n",
       "      <td>1.000000</td>\n",
       "      <td>1.000000</td>\n",
       "      <td>1.000000</td>\n",
       "      <td>1.000000</td>\n",
       "      <td>...</td>\n",
       "      <td>1.000000</td>\n",
       "      <td>1.000000</td>\n",
       "      <td>1.000000</td>\n",
       "      <td>1.000000</td>\n",
       "      <td>1.000000</td>\n",
       "      <td>1.000000</td>\n",
       "      <td>1.000000</td>\n",
       "      <td>1.000000</td>\n",
       "      <td>1.000000</td>\n",
       "      <td>1.000000</td>\n",
       "    </tr>\n",
       "  </tbody>\n",
       "</table>\n",
       "<p>3665 rows × 48 columns</p>\n",
       "</div>"
      ],
      "text/plain": [
       "                          1970      1971      1972      1973      1974  \\\n",
       "indicator_code                                                           \n",
       "SP.POP.TOTL           0.027650  0.027650  0.027650  0.027650  0.027650   \n",
       "SP.POP.GROW           0.027650  0.027650  0.027650  0.027650  0.027650   \n",
       "SE.PRM.DURS           0.073733  0.073733  0.073733  0.073733  0.073733   \n",
       "SE.PRM.AGES           0.073733  0.073733  0.073733  0.073733  0.073733   \n",
       "UIS.THDUR.0           0.078341  0.073733  0.073733  0.073733  0.073733   \n",
       "...                        ...       ...       ...       ...       ...   \n",
       "SABER.TER.GOAL6.LVL1  1.000000  1.000000  1.000000  1.000000  1.000000   \n",
       "SABER.TER.GOAL6.LVL2  1.000000  1.000000  1.000000  1.000000  1.000000   \n",
       "SABER.TER.GOAL6.LVL3  1.000000  1.000000  1.000000  1.000000  1.000000   \n",
       "SABER.TER.GOAL4       1.000000  1.000000  1.000000  1.000000  1.000000   \n",
       "SABER.TER.GOAL3       1.000000  1.000000  1.000000  1.000000  1.000000   \n",
       "\n",
       "                          1975      1976      1977      1978      1979  ...  \\\n",
       "indicator_code                                                          ...   \n",
       "SP.POP.TOTL           0.027650  0.027650  0.027650  0.027650  0.027650  ...   \n",
       "SP.POP.GROW           0.027650  0.027650  0.027650  0.027650  0.027650  ...   \n",
       "SE.PRM.DURS           0.073733  0.073733  0.073733  0.073733  0.073733  ...   \n",
       "SE.PRM.AGES           0.073733  0.073733  0.073733  0.073733  0.073733  ...   \n",
       "UIS.THDUR.0           0.073733  0.073733  0.073733  0.073733  0.073733  ...   \n",
       "...                        ...       ...       ...       ...       ...  ...   \n",
       "SABER.TER.GOAL6.LVL1  1.000000  1.000000  1.000000  1.000000  1.000000  ...   \n",
       "SABER.TER.GOAL6.LVL2  1.000000  1.000000  1.000000  1.000000  1.000000  ...   \n",
       "SABER.TER.GOAL6.LVL3  1.000000  1.000000  1.000000  1.000000  1.000000  ...   \n",
       "SABER.TER.GOAL4       1.000000  1.000000  1.000000  1.000000  1.000000  ...   \n",
       "SABER.TER.GOAL3       1.000000  1.000000  1.000000  1.000000  1.000000  ...   \n",
       "\n",
       "                          2008      2009      2010      2011      2012  \\\n",
       "indicator_code                                                           \n",
       "SP.POP.TOTL           0.009217  0.009217  0.009217  0.009217  0.013825   \n",
       "SP.POP.GROW           0.009217  0.009217  0.009217  0.013825  0.013825   \n",
       "SE.PRM.DURS           0.041475  0.041475  0.041475  0.041475  0.041475   \n",
       "SE.PRM.AGES           0.041475  0.041475  0.041475  0.041475  0.041475   \n",
       "UIS.THDUR.0           0.055300  0.055300  0.055300  0.055300  0.055300   \n",
       "...                        ...       ...       ...       ...       ...   \n",
       "SABER.TER.GOAL6.LVL1  1.000000  1.000000  1.000000  1.000000  1.000000   \n",
       "SABER.TER.GOAL6.LVL2  1.000000  1.000000  1.000000  1.000000  1.000000   \n",
       "SABER.TER.GOAL6.LVL3  1.000000  1.000000  1.000000  1.000000  1.000000   \n",
       "SABER.TER.GOAL4       1.000000  1.000000  1.000000  1.000000  1.000000   \n",
       "SABER.TER.GOAL3       1.000000  1.000000  1.000000  1.000000  1.000000   \n",
       "\n",
       "                          2013      2014      2015      2016      mean  \n",
       "indicator_code                                                          \n",
       "SP.POP.TOTL           0.013825  0.032258  0.032258  0.032258  0.020590  \n",
       "SP.POP.GROW           0.013825  0.032258  0.032258  0.032258  0.021179  \n",
       "SE.PRM.DURS           0.041475  0.041475  0.041475  0.179724  0.055888  \n",
       "SE.PRM.AGES           0.041475  0.041475  0.041475  0.179724  0.055888  \n",
       "UIS.THDUR.0           0.055300  0.055300  0.055300  0.193548  0.060888  \n",
       "...                        ...       ...       ...       ...       ...  \n",
       "SABER.TER.GOAL6.LVL1  1.000000  1.000000  1.000000  1.000000  1.000000  \n",
       "SABER.TER.GOAL6.LVL2  1.000000  1.000000  1.000000  1.000000  1.000000  \n",
       "SABER.TER.GOAL6.LVL3  1.000000  1.000000  1.000000  1.000000  1.000000  \n",
       "SABER.TER.GOAL4       1.000000  1.000000  1.000000  1.000000  1.000000  \n",
       "SABER.TER.GOAL3       1.000000  1.000000  1.000000  1.000000  1.000000  \n",
       "\n",
       "[3665 rows x 48 columns]"
      ]
     },
     "execution_count": 209,
     "metadata": {},
     "output_type": "execute_result"
    }
   ],
   "source": [
    "dfNullPercentageByIndicator = dfEdStatsDataCountry.groupby('indicator_code').apply(lambda x: x.isnull().mean())\n",
    "dfNullPercentageByIndicator\n",
    "\n",
    "# get 1970 column id\n",
    "year1970 = dfEdStatsDataCountry.columns.get_loc('1970')\n",
    "# get 2016 column id\n",
    "year2016 = dfEdStatsDataCountry.columns.get_loc('2016')\n",
    "\n",
    "# we get column between 1970 and 2016 using iloc\n",
    "dfNullPercentageByIndicatorPast = dfNullPercentageByIndicator.iloc[:, year1970:year2016+1]\n",
    "dfNullPercentageByIndicatorPast\n",
    "\n",
    "# we get the mean of the null values for each indicator\n",
    "dfNullPercentageByIndicatorPast['mean'] = dfNullPercentageByIndicatorPast.mean(axis=1)\n",
    "dfNullPercentageByIndicatorPast = dfNullPercentageByIndicatorPast.sort_values('mean', ascending=True)\n",
    "dfNullPercentageByIndicatorPast"
   ]
  },
  {
   "cell_type": "markdown",
   "id": "b5e9b8b6",
   "metadata": {},
   "source": [
    "Ranking of most relevant indicators depending on null percentage for data **expected in the future**"
   ]
  },
  {
   "cell_type": "code",
   "execution_count": 210,
   "id": "6cd4a337",
   "metadata": {},
   "outputs": [
    {
     "name": "stderr",
     "output_type": "stream",
     "text": [
      "C:\\Users\\alexa\\AppData\\Local\\Temp\\ipykernel_8052\\843556840.py:10: SettingWithCopyWarning:\n",
      "\n",
      "\n",
      "A value is trying to be set on a copy of a slice from a DataFrame.\n",
      "Try using .loc[row_indexer,col_indexer] = value instead\n",
      "\n",
      "See the caveats in the documentation: https://pandas.pydata.org/pandas-docs/stable/user_guide/indexing.html#returning-a-view-versus-a-copy\n",
      "\n"
     ]
    },
    {
     "data": {
      "text/html": [
       "<div>\n",
       "<style scoped>\n",
       "    .dataframe tbody tr th:only-of-type {\n",
       "        vertical-align: middle;\n",
       "    }\n",
       "\n",
       "    .dataframe tbody tr th {\n",
       "        vertical-align: top;\n",
       "    }\n",
       "\n",
       "    .dataframe thead th {\n",
       "        text-align: right;\n",
       "    }\n",
       "</style>\n",
       "<table border=\"1\" class=\"dataframe\">\n",
       "  <thead>\n",
       "    <tr style=\"text-align: right;\">\n",
       "      <th></th>\n",
       "      <th>2020</th>\n",
       "      <th>2025</th>\n",
       "      <th>2030</th>\n",
       "      <th>2035</th>\n",
       "      <th>2040</th>\n",
       "      <th>2045</th>\n",
       "      <th>2050</th>\n",
       "      <th>2055</th>\n",
       "      <th>2060</th>\n",
       "      <th>2065</th>\n",
       "      <th>2070</th>\n",
       "      <th>2075</th>\n",
       "      <th>2080</th>\n",
       "      <th>2085</th>\n",
       "      <th>2090</th>\n",
       "      <th>2095</th>\n",
       "      <th>2100</th>\n",
       "      <th>mean</th>\n",
       "    </tr>\n",
       "    <tr>\n",
       "      <th>indicator_code</th>\n",
       "      <th></th>\n",
       "      <th></th>\n",
       "      <th></th>\n",
       "      <th></th>\n",
       "      <th></th>\n",
       "      <th></th>\n",
       "      <th></th>\n",
       "      <th></th>\n",
       "      <th></th>\n",
       "      <th></th>\n",
       "      <th></th>\n",
       "      <th></th>\n",
       "      <th></th>\n",
       "      <th></th>\n",
       "      <th></th>\n",
       "      <th></th>\n",
       "      <th></th>\n",
       "      <th></th>\n",
       "    </tr>\n",
       "  </thead>\n",
       "  <tbody>\n",
       "    <tr>\n",
       "      <th>PRJ.ATT.60UP.1.MF</th>\n",
       "      <td>0.235023</td>\n",
       "      <td>0.235023</td>\n",
       "      <td>0.235023</td>\n",
       "      <td>0.235023</td>\n",
       "      <td>0.235023</td>\n",
       "      <td>0.235023</td>\n",
       "      <td>0.235023</td>\n",
       "      <td>0.235023</td>\n",
       "      <td>0.235023</td>\n",
       "      <td>0.235023</td>\n",
       "      <td>0.235023</td>\n",
       "      <td>0.235023</td>\n",
       "      <td>0.235023</td>\n",
       "      <td>0.235023</td>\n",
       "      <td>0.235023</td>\n",
       "      <td>0.235023</td>\n",
       "      <td>0.235023</td>\n",
       "      <td>0.235023</td>\n",
       "    </tr>\n",
       "    <tr>\n",
       "      <th>PRJ.ATT.2064.4.FE</th>\n",
       "      <td>0.235023</td>\n",
       "      <td>0.235023</td>\n",
       "      <td>0.235023</td>\n",
       "      <td>0.235023</td>\n",
       "      <td>0.235023</td>\n",
       "      <td>0.235023</td>\n",
       "      <td>0.235023</td>\n",
       "      <td>0.235023</td>\n",
       "      <td>0.235023</td>\n",
       "      <td>0.235023</td>\n",
       "      <td>0.235023</td>\n",
       "      <td>0.235023</td>\n",
       "      <td>0.235023</td>\n",
       "      <td>0.235023</td>\n",
       "      <td>0.235023</td>\n",
       "      <td>0.235023</td>\n",
       "      <td>0.235023</td>\n",
       "      <td>0.235023</td>\n",
       "    </tr>\n",
       "    <tr>\n",
       "      <th>PRJ.ATT.2064.4.MA</th>\n",
       "      <td>0.235023</td>\n",
       "      <td>0.235023</td>\n",
       "      <td>0.235023</td>\n",
       "      <td>0.235023</td>\n",
       "      <td>0.235023</td>\n",
       "      <td>0.235023</td>\n",
       "      <td>0.235023</td>\n",
       "      <td>0.235023</td>\n",
       "      <td>0.235023</td>\n",
       "      <td>0.235023</td>\n",
       "      <td>0.235023</td>\n",
       "      <td>0.235023</td>\n",
       "      <td>0.235023</td>\n",
       "      <td>0.235023</td>\n",
       "      <td>0.235023</td>\n",
       "      <td>0.235023</td>\n",
       "      <td>0.235023</td>\n",
       "      <td>0.235023</td>\n",
       "    </tr>\n",
       "    <tr>\n",
       "      <th>PRJ.ATT.2064.4.MF</th>\n",
       "      <td>0.235023</td>\n",
       "      <td>0.235023</td>\n",
       "      <td>0.235023</td>\n",
       "      <td>0.235023</td>\n",
       "      <td>0.235023</td>\n",
       "      <td>0.235023</td>\n",
       "      <td>0.235023</td>\n",
       "      <td>0.235023</td>\n",
       "      <td>0.235023</td>\n",
       "      <td>0.235023</td>\n",
       "      <td>0.235023</td>\n",
       "      <td>0.235023</td>\n",
       "      <td>0.235023</td>\n",
       "      <td>0.235023</td>\n",
       "      <td>0.235023</td>\n",
       "      <td>0.235023</td>\n",
       "      <td>0.235023</td>\n",
       "      <td>0.235023</td>\n",
       "    </tr>\n",
       "    <tr>\n",
       "      <th>PRJ.ATT.2064.NED.FE</th>\n",
       "      <td>0.235023</td>\n",
       "      <td>0.235023</td>\n",
       "      <td>0.235023</td>\n",
       "      <td>0.235023</td>\n",
       "      <td>0.235023</td>\n",
       "      <td>0.235023</td>\n",
       "      <td>0.235023</td>\n",
       "      <td>0.235023</td>\n",
       "      <td>0.235023</td>\n",
       "      <td>0.235023</td>\n",
       "      <td>0.235023</td>\n",
       "      <td>0.235023</td>\n",
       "      <td>0.235023</td>\n",
       "      <td>0.235023</td>\n",
       "      <td>0.235023</td>\n",
       "      <td>0.235023</td>\n",
       "      <td>0.235023</td>\n",
       "      <td>0.235023</td>\n",
       "    </tr>\n",
       "    <tr>\n",
       "      <th>...</th>\n",
       "      <td>...</td>\n",
       "      <td>...</td>\n",
       "      <td>...</td>\n",
       "      <td>...</td>\n",
       "      <td>...</td>\n",
       "      <td>...</td>\n",
       "      <td>...</td>\n",
       "      <td>...</td>\n",
       "      <td>...</td>\n",
       "      <td>...</td>\n",
       "      <td>...</td>\n",
       "      <td>...</td>\n",
       "      <td>...</td>\n",
       "      <td>...</td>\n",
       "      <td>...</td>\n",
       "      <td>...</td>\n",
       "      <td>...</td>\n",
       "      <td>...</td>\n",
       "    </tr>\n",
       "    <tr>\n",
       "      <th>LO.LLECE.SCI6.3</th>\n",
       "      <td>1.000000</td>\n",
       "      <td>1.000000</td>\n",
       "      <td>1.000000</td>\n",
       "      <td>1.000000</td>\n",
       "      <td>1.000000</td>\n",
       "      <td>1.000000</td>\n",
       "      <td>1.000000</td>\n",
       "      <td>1.000000</td>\n",
       "      <td>1.000000</td>\n",
       "      <td>1.000000</td>\n",
       "      <td>1.000000</td>\n",
       "      <td>1.000000</td>\n",
       "      <td>1.000000</td>\n",
       "      <td>1.000000</td>\n",
       "      <td>1.000000</td>\n",
       "      <td>1.000000</td>\n",
       "      <td>1.000000</td>\n",
       "      <td>1.000000</td>\n",
       "    </tr>\n",
       "    <tr>\n",
       "      <th>LO.LLECE.SCI6.3.FE</th>\n",
       "      <td>1.000000</td>\n",
       "      <td>1.000000</td>\n",
       "      <td>1.000000</td>\n",
       "      <td>1.000000</td>\n",
       "      <td>1.000000</td>\n",
       "      <td>1.000000</td>\n",
       "      <td>1.000000</td>\n",
       "      <td>1.000000</td>\n",
       "      <td>1.000000</td>\n",
       "      <td>1.000000</td>\n",
       "      <td>1.000000</td>\n",
       "      <td>1.000000</td>\n",
       "      <td>1.000000</td>\n",
       "      <td>1.000000</td>\n",
       "      <td>1.000000</td>\n",
       "      <td>1.000000</td>\n",
       "      <td>1.000000</td>\n",
       "      <td>1.000000</td>\n",
       "    </tr>\n",
       "    <tr>\n",
       "      <th>LO.LLECE.SCI6.3.MA</th>\n",
       "      <td>1.000000</td>\n",
       "      <td>1.000000</td>\n",
       "      <td>1.000000</td>\n",
       "      <td>1.000000</td>\n",
       "      <td>1.000000</td>\n",
       "      <td>1.000000</td>\n",
       "      <td>1.000000</td>\n",
       "      <td>1.000000</td>\n",
       "      <td>1.000000</td>\n",
       "      <td>1.000000</td>\n",
       "      <td>1.000000</td>\n",
       "      <td>1.000000</td>\n",
       "      <td>1.000000</td>\n",
       "      <td>1.000000</td>\n",
       "      <td>1.000000</td>\n",
       "      <td>1.000000</td>\n",
       "      <td>1.000000</td>\n",
       "      <td>1.000000</td>\n",
       "    </tr>\n",
       "    <tr>\n",
       "      <th>LO.LLECE.REA6.3.FE</th>\n",
       "      <td>1.000000</td>\n",
       "      <td>1.000000</td>\n",
       "      <td>1.000000</td>\n",
       "      <td>1.000000</td>\n",
       "      <td>1.000000</td>\n",
       "      <td>1.000000</td>\n",
       "      <td>1.000000</td>\n",
       "      <td>1.000000</td>\n",
       "      <td>1.000000</td>\n",
       "      <td>1.000000</td>\n",
       "      <td>1.000000</td>\n",
       "      <td>1.000000</td>\n",
       "      <td>1.000000</td>\n",
       "      <td>1.000000</td>\n",
       "      <td>1.000000</td>\n",
       "      <td>1.000000</td>\n",
       "      <td>1.000000</td>\n",
       "      <td>1.000000</td>\n",
       "    </tr>\n",
       "    <tr>\n",
       "      <th>XGDP.56.FSGOV.FDINSTADM.FFD</th>\n",
       "      <td>1.000000</td>\n",
       "      <td>1.000000</td>\n",
       "      <td>1.000000</td>\n",
       "      <td>1.000000</td>\n",
       "      <td>1.000000</td>\n",
       "      <td>1.000000</td>\n",
       "      <td>1.000000</td>\n",
       "      <td>1.000000</td>\n",
       "      <td>1.000000</td>\n",
       "      <td>1.000000</td>\n",
       "      <td>1.000000</td>\n",
       "      <td>1.000000</td>\n",
       "      <td>1.000000</td>\n",
       "      <td>1.000000</td>\n",
       "      <td>1.000000</td>\n",
       "      <td>1.000000</td>\n",
       "      <td>1.000000</td>\n",
       "      <td>1.000000</td>\n",
       "    </tr>\n",
       "  </tbody>\n",
       "</table>\n",
       "<p>3665 rows × 18 columns</p>\n",
       "</div>"
      ],
      "text/plain": [
       "                                 2020      2025      2030      2035      2040  \\\n",
       "indicator_code                                                                  \n",
       "PRJ.ATT.60UP.1.MF            0.235023  0.235023  0.235023  0.235023  0.235023   \n",
       "PRJ.ATT.2064.4.FE            0.235023  0.235023  0.235023  0.235023  0.235023   \n",
       "PRJ.ATT.2064.4.MA            0.235023  0.235023  0.235023  0.235023  0.235023   \n",
       "PRJ.ATT.2064.4.MF            0.235023  0.235023  0.235023  0.235023  0.235023   \n",
       "PRJ.ATT.2064.NED.FE          0.235023  0.235023  0.235023  0.235023  0.235023   \n",
       "...                               ...       ...       ...       ...       ...   \n",
       "LO.LLECE.SCI6.3              1.000000  1.000000  1.000000  1.000000  1.000000   \n",
       "LO.LLECE.SCI6.3.FE           1.000000  1.000000  1.000000  1.000000  1.000000   \n",
       "LO.LLECE.SCI6.3.MA           1.000000  1.000000  1.000000  1.000000  1.000000   \n",
       "LO.LLECE.REA6.3.FE           1.000000  1.000000  1.000000  1.000000  1.000000   \n",
       "XGDP.56.FSGOV.FDINSTADM.FFD  1.000000  1.000000  1.000000  1.000000  1.000000   \n",
       "\n",
       "                                 2045      2050      2055      2060      2065  \\\n",
       "indicator_code                                                                  \n",
       "PRJ.ATT.60UP.1.MF            0.235023  0.235023  0.235023  0.235023  0.235023   \n",
       "PRJ.ATT.2064.4.FE            0.235023  0.235023  0.235023  0.235023  0.235023   \n",
       "PRJ.ATT.2064.4.MA            0.235023  0.235023  0.235023  0.235023  0.235023   \n",
       "PRJ.ATT.2064.4.MF            0.235023  0.235023  0.235023  0.235023  0.235023   \n",
       "PRJ.ATT.2064.NED.FE          0.235023  0.235023  0.235023  0.235023  0.235023   \n",
       "...                               ...       ...       ...       ...       ...   \n",
       "LO.LLECE.SCI6.3              1.000000  1.000000  1.000000  1.000000  1.000000   \n",
       "LO.LLECE.SCI6.3.FE           1.000000  1.000000  1.000000  1.000000  1.000000   \n",
       "LO.LLECE.SCI6.3.MA           1.000000  1.000000  1.000000  1.000000  1.000000   \n",
       "LO.LLECE.REA6.3.FE           1.000000  1.000000  1.000000  1.000000  1.000000   \n",
       "XGDP.56.FSGOV.FDINSTADM.FFD  1.000000  1.000000  1.000000  1.000000  1.000000   \n",
       "\n",
       "                                 2070      2075      2080      2085      2090  \\\n",
       "indicator_code                                                                  \n",
       "PRJ.ATT.60UP.1.MF            0.235023  0.235023  0.235023  0.235023  0.235023   \n",
       "PRJ.ATT.2064.4.FE            0.235023  0.235023  0.235023  0.235023  0.235023   \n",
       "PRJ.ATT.2064.4.MA            0.235023  0.235023  0.235023  0.235023  0.235023   \n",
       "PRJ.ATT.2064.4.MF            0.235023  0.235023  0.235023  0.235023  0.235023   \n",
       "PRJ.ATT.2064.NED.FE          0.235023  0.235023  0.235023  0.235023  0.235023   \n",
       "...                               ...       ...       ...       ...       ...   \n",
       "LO.LLECE.SCI6.3              1.000000  1.000000  1.000000  1.000000  1.000000   \n",
       "LO.LLECE.SCI6.3.FE           1.000000  1.000000  1.000000  1.000000  1.000000   \n",
       "LO.LLECE.SCI6.3.MA           1.000000  1.000000  1.000000  1.000000  1.000000   \n",
       "LO.LLECE.REA6.3.FE           1.000000  1.000000  1.000000  1.000000  1.000000   \n",
       "XGDP.56.FSGOV.FDINSTADM.FFD  1.000000  1.000000  1.000000  1.000000  1.000000   \n",
       "\n",
       "                                 2095      2100      mean  \n",
       "indicator_code                                             \n",
       "PRJ.ATT.60UP.1.MF            0.235023  0.235023  0.235023  \n",
       "PRJ.ATT.2064.4.FE            0.235023  0.235023  0.235023  \n",
       "PRJ.ATT.2064.4.MA            0.235023  0.235023  0.235023  \n",
       "PRJ.ATT.2064.4.MF            0.235023  0.235023  0.235023  \n",
       "PRJ.ATT.2064.NED.FE          0.235023  0.235023  0.235023  \n",
       "...                               ...       ...       ...  \n",
       "LO.LLECE.SCI6.3              1.000000  1.000000  1.000000  \n",
       "LO.LLECE.SCI6.3.FE           1.000000  1.000000  1.000000  \n",
       "LO.LLECE.SCI6.3.MA           1.000000  1.000000  1.000000  \n",
       "LO.LLECE.REA6.3.FE           1.000000  1.000000  1.000000  \n",
       "XGDP.56.FSGOV.FDINSTADM.FFD  1.000000  1.000000  1.000000  \n",
       "\n",
       "[3665 rows x 18 columns]"
      ]
     },
     "execution_count": 210,
     "metadata": {},
     "output_type": "execute_result"
    }
   ],
   "source": [
    "# get 2020 column id\n",
    "year2020 = dfNullPercentageByIndicator.columns.get_loc('2020')\n",
    "# get 2100 column id\n",
    "year2100 = dfNullPercentageByIndicator.columns.get_loc('2100')\n",
    "\n",
    "# we get column between 2017 and 2100 using iloc\n",
    "dfNullPercentageByIndicatorFuture = dfNullPercentageByIndicator.iloc[:, year2020:year2100+1]\n",
    "dfNullPercentageByIndicatorFuture\n",
    "\n",
    "dfNullPercentageByIndicatorFuture['mean'] = dfNullPercentageByIndicatorFuture.mean(axis=1)\n",
    "dfNullPercentageByIndicatorFuture = dfNullPercentageByIndicatorFuture.sort_values('mean', ascending=True)\n",
    "dfNullPercentageByIndicatorFuture"
   ]
  },
  {
   "cell_type": "markdown",
   "id": "57f5395a",
   "metadata": {},
   "source": [
    "## Main indicators ranking"
   ]
  },
  {
   "cell_type": "markdown",
   "id": "ac7c7a45",
   "metadata": {},
   "source": [
    "Population | SP.POP.1524.TO.UN\n",
    "\n",
    "Economique | NY.GNP.PCAP.PP.CD\n",
    "\n",
    "Education | SE.SEC.ENRR | SE.TER.ENRR\n",
    "\n",
    "Numerique | IT.NET.USER.P2"
   ]
  },
  {
   "cell_type": "code",
   "execution_count": 211,
   "id": "3a864b3d",
   "metadata": {},
   "outputs": [
    {
     "name": "stdout",
     "output_type": "stream",
     "text": [
      "Past aggregated data rankings :\n",
      "\n",
      "Rank of SP.POP.TOTL in the list of indicators: 0/3665\n",
      "Rank of NY.GNP.PCAP.PP.CD in the list of indicators: 134/3665\n",
      "Rank of SE.SEC.ENRR in the list of indicators: 72/3665\n",
      "Rank of SE.TER.ENRR in the list of indicators: 97/3665\n",
      "Rank of IT.NET.USER.P2 in the list of indicators: 132/3665\n",
      "\n",
      "Future aggregated data rankings :\n",
      "\n",
      "Rank of SP.POP.TOTL in the list of indicators: 1757/3665\n",
      "Rank of NY.GNP.PCAP.PP.CD in the list of indicators: 3092/3665\n",
      "Rank of SE.SEC.ENRR in the list of indicators: 379/3665\n",
      "Rank of SE.TER.ENRR in the list of indicators: 667/3665\n",
      "Rank of IT.NET.USER.P2 in the list of indicators: 2034/3665\n"
     ]
    }
   ],
   "source": [
    "numberOfIndicators= dfNullPercentageByIndicatorPast.shape[0]\n",
    "\n",
    "# population indicator rank\n",
    "\n",
    "populationIndicatorRankPast = dfNullPercentageByIndicatorPast.index.get_loc('SP.POP.TOTL')\n",
    "\n",
    "populationIndicatorRankFuture = dfNullPercentageByIndicatorFuture.index.get_loc('SP.POP.TOTL')\n",
    "\n",
    "# economic indicator rank\n",
    "\n",
    "economicIndicatorRankPast = dfNullPercentageByIndicatorPast.index.get_loc('NY.GNP.PCAP.PP.CD')\n",
    "\n",
    "economicIndicatorRankFuture = dfNullPercentageByIndicatorFuture.index.get_loc('NY.GNP.PCAP.PP.CD')\n",
    "\n",
    "# eduction first indicator rank\n",
    "\n",
    "educationIndicatorRankPast = dfNullPercentageByIndicatorPast.index.get_loc('SE.SEC.ENRR')\n",
    "\n",
    "educationIndicatorRankFuture = dfNullPercentageByIndicatorFuture.index.get_loc('SE.SEC.ENRR')\n",
    "\n",
    "# eduction second indicator rank\n",
    "\n",
    "educationIndicatorRankPast2 = dfNullPercentageByIndicatorPast.index.get_loc('SE.TER.ENRR')\n",
    "\n",
    "educationIndicatorRankFuture2 = dfNullPercentageByIndicatorFuture.index.get_loc('SE.TER.ENRR')\n",
    "\n",
    "# numeric indicator rank\n",
    "\n",
    "numericIndicatorRankPast = dfNullPercentageByIndicatorPast.index.get_loc('IT.NET.USER.P2')\n",
    "\n",
    "numericIndicatorRankFuture = dfNullPercentageByIndicatorFuture.index.get_loc('IT.NET.USER.P2')\n",
    "\n",
    "print(\"Past aggregated data rankings :\\n\")\n",
    "\n",
    "print('Rank of SP.POP.TOTL in the list of indicators: '+ str(populationIndicatorRankPast) +'/'+ str(numberOfIndicators))\n",
    "\n",
    "print('Rank of NY.GNP.PCAP.PP.CD in the list of indicators: '+ str(economicIndicatorRankPast) +'/'+ str(numberOfIndicators))\n",
    "\n",
    "print('Rank of SE.SEC.ENRR in the list of indicators: '+ str(educationIndicatorRankPast) +'/'+ str(numberOfIndicators))\n",
    "\n",
    "print('Rank of SE.TER.ENRR in the list of indicators: '+ str(educationIndicatorRankPast2) +'/'+ str(numberOfIndicators))\n",
    "\n",
    "print('Rank of IT.NET.USER.P2 in the list of indicators: '+ str(numericIndicatorRankPast) +'/'+ str(numberOfIndicators))\n",
    "\n",
    "print(\"\\nFuture aggregated data rankings :\\n\")\n",
    "\n",
    "print('Rank of SP.POP.TOTL in the list of indicators: '+ str(populationIndicatorRankFuture) +'/'+ str(numberOfIndicators))\n",
    "\n",
    "print('Rank of NY.GNP.PCAP.PP.CD in the list of indicators: '+ str(economicIndicatorRankFuture) +'/'+ str(numberOfIndicators))\n",
    "\n",
    "print('Rank of SE.SEC.ENRR in the list of indicators: '+ str(educationIndicatorRankFuture) +'/'+ str(numberOfIndicators))\n",
    "\n",
    "print('Rank of SE.TER.ENRR in the list of indicators: '+ str(educationIndicatorRankFuture2) +'/'+ str(numberOfIndicators))\n",
    "\n",
    "print('Rank of IT.NET.USER.P2 in the list of indicators: '+ str(numericIndicatorRankFuture) +'/'+ str(numberOfIndicators))"
   ]
  },
  {
   "cell_type": "markdown",
   "id": "4eafe310",
   "metadata": {},
   "source": [
    "# Choropleth maps"
   ]
  },
  {
   "cell_type": "markdown",
   "id": "fee14ed9",
   "metadata": {},
   "source": [
    "## Past data"
   ]
  },
  {
   "cell_type": "markdown",
   "id": "1bceb9a9",
   "metadata": {},
   "source": [
    "Population"
   ]
  },
  {
   "cell_type": "code",
   "execution_count": 212,
   "id": "bb8c7623",
   "metadata": {},
   "outputs": [
    {
     "data": {
      "application/vnd.plotly.v1+json": {
       "config": {
        "plotlyServerURL": "https://plot.ly"
       },
       "data": [
        {
         "coloraxis": "coloraxis",
         "geo": "geo",
         "hovertemplate": "<b>%{hovertext}</b><br><br>country_code=%{location}<br>Population=%{z}<extra></extra>",
         "hovertext": [
          "Afghanistan",
          "Albania",
          "Algeria",
          "American Samoa",
          "Andorra",
          "Angola",
          "Antigua and Barbuda",
          "Argentina",
          "Armenia",
          "Aruba",
          "Australia",
          "Austria",
          "Azerbaijan",
          "Bahamas, The",
          "Bahrain",
          "Bangladesh",
          "Barbados",
          "Belarus",
          "Belgium",
          "Belize",
          "Benin",
          "Bermuda",
          "Bhutan",
          "Bolivia",
          "Bosnia and Herzegovina",
          "Botswana",
          "Brazil",
          "Brunei Darussalam",
          "Bulgaria",
          "Burkina Faso",
          "Burundi",
          "Cabo Verde",
          "Cambodia",
          "Cameroon",
          "Canada",
          "Cayman Islands",
          "Central African Republic",
          "Chad",
          "Channel Islands",
          "Chile",
          "China",
          "Colombia",
          "Comoros",
          "Congo, Dem. Rep.",
          "Congo, Rep.",
          "Costa Rica",
          "Cote d'Ivoire",
          "Croatia",
          "Cuba",
          "Cyprus",
          "Czech Republic",
          "Denmark",
          "Djibouti",
          "Dominica",
          "Dominican Republic",
          "Ecuador",
          "Egypt, Arab Rep.",
          "El Salvador",
          "Equatorial Guinea",
          "Estonia",
          "Ethiopia",
          "Faroe Islands",
          "Fiji",
          "Finland",
          "France",
          "French Polynesia",
          "Gabon",
          "Gambia, The",
          "Georgia",
          "Germany",
          "Ghana",
          "Gibraltar",
          "Greece",
          "Greenland",
          "Grenada",
          "Guam",
          "Guatemala",
          "Guinea",
          "Guinea-Bissau",
          "Guyana",
          "Haiti",
          "Honduras",
          "Hong Kong SAR, China",
          "Hungary",
          "Iceland",
          "India",
          "Indonesia",
          "Iran, Islamic Rep.",
          "Iraq",
          "Ireland",
          "Isle of Man",
          "Israel",
          "Italy",
          "Jamaica",
          "Japan",
          "Jordan",
          "Kazakhstan",
          "Kenya",
          "Kiribati",
          "Korea, Dem. People’s Rep.",
          "Korea, Rep.",
          "Kosovo",
          "Kuwait",
          "Kyrgyz Republic",
          "Lao PDR",
          "Latvia",
          "Lebanon",
          "Lesotho",
          "Liberia",
          "Libya",
          "Liechtenstein",
          "Lithuania",
          "Luxembourg",
          "Macao SAR, China",
          "Macedonia, FYR",
          "Madagascar",
          "Malawi",
          "Malaysia",
          "Maldives",
          "Mali",
          "Malta",
          "Marshall Islands",
          "Mauritania",
          "Mauritius",
          "Mexico",
          "Micronesia, Fed. Sts.",
          "Moldova",
          "Monaco",
          "Mongolia",
          "Montenegro",
          "Morocco",
          "Mozambique",
          "Myanmar",
          "Namibia",
          "Nepal",
          "Netherlands",
          "New Caledonia",
          "New Zealand",
          "Nicaragua",
          "Niger",
          "Nigeria",
          "Northern Mariana Islands",
          "Norway",
          "Oman",
          "Pakistan",
          "Palau",
          "Panama",
          "Papua New Guinea",
          "Paraguay",
          "Peru",
          "Philippines",
          "Poland",
          "Portugal",
          "Puerto Rico",
          "Qatar",
          "Romania",
          "Russian Federation",
          "Rwanda",
          "Samoa",
          "San Marino",
          "Sao Tome and Principe",
          "Saudi Arabia",
          "Senegal",
          "Serbia",
          "Seychelles",
          "Sierra Leone",
          "Singapore",
          "Slovak Republic",
          "Slovenia",
          "Solomon Islands",
          "Somalia",
          "South Africa",
          "Spain",
          "Sri Lanka",
          "St. Kitts and Nevis",
          "St. Lucia",
          "St. Vincent and the Grenadines",
          "Sudan",
          "Suriname",
          "Swaziland",
          "Sweden",
          "Switzerland",
          "Syrian Arab Republic",
          "Tajikistan",
          "Tanzania",
          "Thailand",
          "Timor-Leste",
          "Togo",
          "Tonga",
          "Trinidad and Tobago",
          "Tunisia",
          "Turkey",
          "Turkmenistan",
          "Turks and Caicos Islands",
          "Tuvalu",
          "Uganda",
          "Ukraine",
          "United Arab Emirates",
          "United Kingdom",
          "United States",
          "Uruguay",
          "Uzbekistan",
          "Vanuatu",
          "Venezuela, RB",
          "Vietnam",
          "Virgin Islands (U.S.)",
          "West Bank and Gaza",
          "Yemen, Rep.",
          "Zambia",
          "Zimbabwe"
         ],
         "locations": [
          "AFG",
          "ALB",
          "DZA",
          "ASM",
          "AND",
          "AGO",
          "ATG",
          "ARG",
          "ARM",
          "ABW",
          "AUS",
          "AUT",
          "AZE",
          "BHS",
          "BHR",
          "BGD",
          "BRB",
          "BLR",
          "BEL",
          "BLZ",
          "BEN",
          "BMU",
          "BTN",
          "BOL",
          "BIH",
          "BWA",
          "BRA",
          "BRN",
          "BGR",
          "BFA",
          "BDI",
          "CPV",
          "KHM",
          "CMR",
          "CAN",
          "CYM",
          "CAF",
          "TCD",
          "CHI",
          "CHL",
          "CHN",
          "COL",
          "COM",
          "COD",
          "COG",
          "CRI",
          "CIV",
          "HRV",
          "CUB",
          "CYP",
          "CZE",
          "DNK",
          "DJI",
          "DMA",
          "DOM",
          "ECU",
          "EGY",
          "SLV",
          "GNQ",
          "EST",
          "ETH",
          "FRO",
          "FJI",
          "FIN",
          "FRA",
          "PYF",
          "GAB",
          "GMB",
          "GEO",
          "DEU",
          "GHA",
          "GIB",
          "GRC",
          "GRL",
          "GRD",
          "GUM",
          "GTM",
          "GIN",
          "GNB",
          "GUY",
          "HTI",
          "HND",
          "HKG",
          "HUN",
          "ISL",
          "IND",
          "IDN",
          "IRN",
          "IRQ",
          "IRL",
          "IMN",
          "ISR",
          "ITA",
          "JAM",
          "JPN",
          "JOR",
          "KAZ",
          "KEN",
          "KIR",
          "PRK",
          "KOR",
          "XKX",
          "KWT",
          "KGZ",
          "LAO",
          "LVA",
          "LBN",
          "LSO",
          "LBR",
          "LBY",
          "LIE",
          "LTU",
          "LUX",
          "MAC",
          "MKD",
          "MDG",
          "MWI",
          "MYS",
          "MDV",
          "MLI",
          "MLT",
          "MHL",
          "MRT",
          "MUS",
          "MEX",
          "FSM",
          "MDA",
          "MCO",
          "MNG",
          "MNE",
          "MAR",
          "MOZ",
          "MMR",
          "NAM",
          "NPL",
          "NLD",
          "NCL",
          "NZL",
          "NIC",
          "NER",
          "NGA",
          "MNP",
          "NOR",
          "OMN",
          "PAK",
          "PLW",
          "PAN",
          "PNG",
          "PRY",
          "PER",
          "PHL",
          "POL",
          "PRT",
          "PRI",
          "QAT",
          "ROU",
          "RUS",
          "RWA",
          "WSM",
          "SMR",
          "STP",
          "SAU",
          "SEN",
          "SRB",
          "SYC",
          "SLE",
          "SGP",
          "SVK",
          "SVN",
          "SLB",
          "SOM",
          "ZAF",
          "ESP",
          "LKA",
          "KNA",
          "LCA",
          "VCT",
          "SDN",
          "SUR",
          "SWZ",
          "SWE",
          "CHE",
          "SYR",
          "TJK",
          "TZA",
          "THA",
          "TLS",
          "TGO",
          "TON",
          "TTO",
          "TUN",
          "TUR",
          "TKM",
          "TCA",
          "TUV",
          "UGA",
          "UKR",
          "ARE",
          "GBR",
          "USA",
          "URY",
          "UZB",
          "VUT",
          "VEN",
          "VNM",
          "VIR",
          "PSE",
          "YEM",
          "ZMB",
          "ZWE"
         ],
         "name": "",
         "type": "choropleth",
         "z": [
          34656032,
          2876101,
          40606052,
          55599,
          77281,
          28813463,
          100963,
          43847430,
          2924816,
          104822,
          24127159,
          8747358,
          9762274,
          391232,
          1425171,
          162951560,
          284996,
          9507120,
          11348159,
          366954,
          10872298,
          65331,
          797765,
          10887882,
          3516816,
          2250260,
          207652865,
          423196,
          7127822,
          18646433,
          10524117,
          539560,
          15762370,
          23439189,
          36286425,
          60765,
          4594621,
          14452543,
          164541,
          17909754,
          1378665000,
          48653419,
          795601,
          78736153,
          5125821,
          4857274,
          23695919,
          4170600,
          11475982,
          1170125,
          10561633,
          5731118,
          942333,
          73543,
          10648791,
          16385068,
          95688681,
          6344722,
          1221490,
          1316481,
          102403196,
          49117,
          898760,
          5495096,
          66896109,
          280208,
          1979786,
          2038501,
          3719300,
          82667685,
          28206728,
          34408,
          10746740,
          56186,
          107317,
          162896,
          16582469,
          12395924,
          1815698,
          773303,
          10847334,
          9112867,
          7346700,
          9817958,
          334252,
          1324171354,
          261115456,
          80277428,
          37202572,
          4773095,
          83737,
          8547100,
          60600590,
          2881355,
          126994511,
          9455802,
          17797032,
          48461567,
          114395,
          25368620,
          51245707,
          1816200,
          4052584,
          6082700,
          6758353,
          1960424,
          6006668,
          2203821,
          4613823,
          6293253,
          37666,
          2872298,
          582972,
          612167,
          2081206,
          24894551,
          18091575,
          31187265,
          417492,
          17994837,
          436947,
          53066,
          4301018,
          1263473,
          127540423,
          104937,
          3552000,
          38499,
          3027398,
          622781,
          35276786,
          28829476,
          52885223,
          2479713,
          28982771,
          17018408,
          278000,
          4692700,
          6149928,
          20672987,
          185989640,
          55023,
          5232929,
          4424762,
          193203476,
          21503,
          4034119,
          8084991,
          6725308,
          31773839,
          103320222,
          37948016,
          10324611,
          3411307,
          2569804,
          19705301,
          144342396,
          11917508,
          195125,
          33203,
          199910,
          32275687,
          15411614,
          7057412,
          94677,
          7396190,
          5607283,
          5428704,
          2064845,
          599419,
          14317996,
          55908865,
          46443959,
          21203000,
          54821,
          178015,
          109643,
          39578828,
          558368,
          1343098,
          9903122,
          8372098,
          18430453,
          8734951,
          55572201,
          68863514,
          1268671,
          7606374,
          107122,
          1364962,
          11403248,
          79512426,
          5662544,
          34900,
          11097,
          41487965,
          45004645,
          9269612,
          65637239,
          323127513,
          3444006,
          31848200,
          270402,
          31568179,
          92701100,
          102951,
          4551566,
          27584213,
          16591390,
          16150362
         ]
        }
       ],
       "layout": {
        "coloraxis": {
         "colorbar": {
          "title": {
           "text": "Population"
          }
         },
         "colorscale": [
          [
           0,
           "#0d0887"
          ],
          [
           0.1111111111111111,
           "#46039f"
          ],
          [
           0.2222222222222222,
           "#7201a8"
          ],
          [
           0.3333333333333333,
           "#9c179e"
          ],
          [
           0.4444444444444444,
           "#bd3786"
          ],
          [
           0.5555555555555556,
           "#d8576b"
          ],
          [
           0.6666666666666666,
           "#ed7953"
          ],
          [
           0.7777777777777778,
           "#fb9f3a"
          ],
          [
           0.8888888888888888,
           "#fdca26"
          ],
          [
           1,
           "#f0f921"
          ]
         ]
        },
        "geo": {
         "center": {},
         "domain": {
          "x": [
           0,
           1
          ],
          "y": [
           0,
           1
          ]
         }
        },
        "legend": {
         "tracegroupgap": 0
        },
        "template": {
         "data": {
          "bar": [
           {
            "error_x": {
             "color": "#2a3f5f"
            },
            "error_y": {
             "color": "#2a3f5f"
            },
            "marker": {
             "line": {
              "color": "#E5ECF6",
              "width": 0.5
             },
             "pattern": {
              "fillmode": "overlay",
              "size": 10,
              "solidity": 0.2
             }
            },
            "type": "bar"
           }
          ],
          "barpolar": [
           {
            "marker": {
             "line": {
              "color": "#E5ECF6",
              "width": 0.5
             },
             "pattern": {
              "fillmode": "overlay",
              "size": 10,
              "solidity": 0.2
             }
            },
            "type": "barpolar"
           }
          ],
          "carpet": [
           {
            "aaxis": {
             "endlinecolor": "#2a3f5f",
             "gridcolor": "white",
             "linecolor": "white",
             "minorgridcolor": "white",
             "startlinecolor": "#2a3f5f"
            },
            "baxis": {
             "endlinecolor": "#2a3f5f",
             "gridcolor": "white",
             "linecolor": "white",
             "minorgridcolor": "white",
             "startlinecolor": "#2a3f5f"
            },
            "type": "carpet"
           }
          ],
          "choropleth": [
           {
            "colorbar": {
             "outlinewidth": 0,
             "ticks": ""
            },
            "type": "choropleth"
           }
          ],
          "contour": [
           {
            "colorbar": {
             "outlinewidth": 0,
             "ticks": ""
            },
            "colorscale": [
             [
              0,
              "#0d0887"
             ],
             [
              0.1111111111111111,
              "#46039f"
             ],
             [
              0.2222222222222222,
              "#7201a8"
             ],
             [
              0.3333333333333333,
              "#9c179e"
             ],
             [
              0.4444444444444444,
              "#bd3786"
             ],
             [
              0.5555555555555556,
              "#d8576b"
             ],
             [
              0.6666666666666666,
              "#ed7953"
             ],
             [
              0.7777777777777778,
              "#fb9f3a"
             ],
             [
              0.8888888888888888,
              "#fdca26"
             ],
             [
              1,
              "#f0f921"
             ]
            ],
            "type": "contour"
           }
          ],
          "contourcarpet": [
           {
            "colorbar": {
             "outlinewidth": 0,
             "ticks": ""
            },
            "type": "contourcarpet"
           }
          ],
          "heatmap": [
           {
            "colorbar": {
             "outlinewidth": 0,
             "ticks": ""
            },
            "colorscale": [
             [
              0,
              "#0d0887"
             ],
             [
              0.1111111111111111,
              "#46039f"
             ],
             [
              0.2222222222222222,
              "#7201a8"
             ],
             [
              0.3333333333333333,
              "#9c179e"
             ],
             [
              0.4444444444444444,
              "#bd3786"
             ],
             [
              0.5555555555555556,
              "#d8576b"
             ],
             [
              0.6666666666666666,
              "#ed7953"
             ],
             [
              0.7777777777777778,
              "#fb9f3a"
             ],
             [
              0.8888888888888888,
              "#fdca26"
             ],
             [
              1,
              "#f0f921"
             ]
            ],
            "type": "heatmap"
           }
          ],
          "heatmapgl": [
           {
            "colorbar": {
             "outlinewidth": 0,
             "ticks": ""
            },
            "colorscale": [
             [
              0,
              "#0d0887"
             ],
             [
              0.1111111111111111,
              "#46039f"
             ],
             [
              0.2222222222222222,
              "#7201a8"
             ],
             [
              0.3333333333333333,
              "#9c179e"
             ],
             [
              0.4444444444444444,
              "#bd3786"
             ],
             [
              0.5555555555555556,
              "#d8576b"
             ],
             [
              0.6666666666666666,
              "#ed7953"
             ],
             [
              0.7777777777777778,
              "#fb9f3a"
             ],
             [
              0.8888888888888888,
              "#fdca26"
             ],
             [
              1,
              "#f0f921"
             ]
            ],
            "type": "heatmapgl"
           }
          ],
          "histogram": [
           {
            "marker": {
             "pattern": {
              "fillmode": "overlay",
              "size": 10,
              "solidity": 0.2
             }
            },
            "type": "histogram"
           }
          ],
          "histogram2d": [
           {
            "colorbar": {
             "outlinewidth": 0,
             "ticks": ""
            },
            "colorscale": [
             [
              0,
              "#0d0887"
             ],
             [
              0.1111111111111111,
              "#46039f"
             ],
             [
              0.2222222222222222,
              "#7201a8"
             ],
             [
              0.3333333333333333,
              "#9c179e"
             ],
             [
              0.4444444444444444,
              "#bd3786"
             ],
             [
              0.5555555555555556,
              "#d8576b"
             ],
             [
              0.6666666666666666,
              "#ed7953"
             ],
             [
              0.7777777777777778,
              "#fb9f3a"
             ],
             [
              0.8888888888888888,
              "#fdca26"
             ],
             [
              1,
              "#f0f921"
             ]
            ],
            "type": "histogram2d"
           }
          ],
          "histogram2dcontour": [
           {
            "colorbar": {
             "outlinewidth": 0,
             "ticks": ""
            },
            "colorscale": [
             [
              0,
              "#0d0887"
             ],
             [
              0.1111111111111111,
              "#46039f"
             ],
             [
              0.2222222222222222,
              "#7201a8"
             ],
             [
              0.3333333333333333,
              "#9c179e"
             ],
             [
              0.4444444444444444,
              "#bd3786"
             ],
             [
              0.5555555555555556,
              "#d8576b"
             ],
             [
              0.6666666666666666,
              "#ed7953"
             ],
             [
              0.7777777777777778,
              "#fb9f3a"
             ],
             [
              0.8888888888888888,
              "#fdca26"
             ],
             [
              1,
              "#f0f921"
             ]
            ],
            "type": "histogram2dcontour"
           }
          ],
          "mesh3d": [
           {
            "colorbar": {
             "outlinewidth": 0,
             "ticks": ""
            },
            "type": "mesh3d"
           }
          ],
          "parcoords": [
           {
            "line": {
             "colorbar": {
              "outlinewidth": 0,
              "ticks": ""
             }
            },
            "type": "parcoords"
           }
          ],
          "pie": [
           {
            "automargin": true,
            "type": "pie"
           }
          ],
          "scatter": [
           {
            "fillpattern": {
             "fillmode": "overlay",
             "size": 10,
             "solidity": 0.2
            },
            "type": "scatter"
           }
          ],
          "scatter3d": [
           {
            "line": {
             "colorbar": {
              "outlinewidth": 0,
              "ticks": ""
             }
            },
            "marker": {
             "colorbar": {
              "outlinewidth": 0,
              "ticks": ""
             }
            },
            "type": "scatter3d"
           }
          ],
          "scattercarpet": [
           {
            "marker": {
             "colorbar": {
              "outlinewidth": 0,
              "ticks": ""
             }
            },
            "type": "scattercarpet"
           }
          ],
          "scattergeo": [
           {
            "marker": {
             "colorbar": {
              "outlinewidth": 0,
              "ticks": ""
             }
            },
            "type": "scattergeo"
           }
          ],
          "scattergl": [
           {
            "marker": {
             "colorbar": {
              "outlinewidth": 0,
              "ticks": ""
             }
            },
            "type": "scattergl"
           }
          ],
          "scattermapbox": [
           {
            "marker": {
             "colorbar": {
              "outlinewidth": 0,
              "ticks": ""
             }
            },
            "type": "scattermapbox"
           }
          ],
          "scatterpolar": [
           {
            "marker": {
             "colorbar": {
              "outlinewidth": 0,
              "ticks": ""
             }
            },
            "type": "scatterpolar"
           }
          ],
          "scatterpolargl": [
           {
            "marker": {
             "colorbar": {
              "outlinewidth": 0,
              "ticks": ""
             }
            },
            "type": "scatterpolargl"
           }
          ],
          "scatterternary": [
           {
            "marker": {
             "colorbar": {
              "outlinewidth": 0,
              "ticks": ""
             }
            },
            "type": "scatterternary"
           }
          ],
          "surface": [
           {
            "colorbar": {
             "outlinewidth": 0,
             "ticks": ""
            },
            "colorscale": [
             [
              0,
              "#0d0887"
             ],
             [
              0.1111111111111111,
              "#46039f"
             ],
             [
              0.2222222222222222,
              "#7201a8"
             ],
             [
              0.3333333333333333,
              "#9c179e"
             ],
             [
              0.4444444444444444,
              "#bd3786"
             ],
             [
              0.5555555555555556,
              "#d8576b"
             ],
             [
              0.6666666666666666,
              "#ed7953"
             ],
             [
              0.7777777777777778,
              "#fb9f3a"
             ],
             [
              0.8888888888888888,
              "#fdca26"
             ],
             [
              1,
              "#f0f921"
             ]
            ],
            "type": "surface"
           }
          ],
          "table": [
           {
            "cells": {
             "fill": {
              "color": "#EBF0F8"
             },
             "line": {
              "color": "white"
             }
            },
            "header": {
             "fill": {
              "color": "#C8D4E3"
             },
             "line": {
              "color": "white"
             }
            },
            "type": "table"
           }
          ]
         },
         "layout": {
          "annotationdefaults": {
           "arrowcolor": "#2a3f5f",
           "arrowhead": 0,
           "arrowwidth": 1
          },
          "autotypenumbers": "strict",
          "coloraxis": {
           "colorbar": {
            "outlinewidth": 0,
            "ticks": ""
           }
          },
          "colorscale": {
           "diverging": [
            [
             0,
             "#8e0152"
            ],
            [
             0.1,
             "#c51b7d"
            ],
            [
             0.2,
             "#de77ae"
            ],
            [
             0.3,
             "#f1b6da"
            ],
            [
             0.4,
             "#fde0ef"
            ],
            [
             0.5,
             "#f7f7f7"
            ],
            [
             0.6,
             "#e6f5d0"
            ],
            [
             0.7,
             "#b8e186"
            ],
            [
             0.8,
             "#7fbc41"
            ],
            [
             0.9,
             "#4d9221"
            ],
            [
             1,
             "#276419"
            ]
           ],
           "sequential": [
            [
             0,
             "#0d0887"
            ],
            [
             0.1111111111111111,
             "#46039f"
            ],
            [
             0.2222222222222222,
             "#7201a8"
            ],
            [
             0.3333333333333333,
             "#9c179e"
            ],
            [
             0.4444444444444444,
             "#bd3786"
            ],
            [
             0.5555555555555556,
             "#d8576b"
            ],
            [
             0.6666666666666666,
             "#ed7953"
            ],
            [
             0.7777777777777778,
             "#fb9f3a"
            ],
            [
             0.8888888888888888,
             "#fdca26"
            ],
            [
             1,
             "#f0f921"
            ]
           ],
           "sequentialminus": [
            [
             0,
             "#0d0887"
            ],
            [
             0.1111111111111111,
             "#46039f"
            ],
            [
             0.2222222222222222,
             "#7201a8"
            ],
            [
             0.3333333333333333,
             "#9c179e"
            ],
            [
             0.4444444444444444,
             "#bd3786"
            ],
            [
             0.5555555555555556,
             "#d8576b"
            ],
            [
             0.6666666666666666,
             "#ed7953"
            ],
            [
             0.7777777777777778,
             "#fb9f3a"
            ],
            [
             0.8888888888888888,
             "#fdca26"
            ],
            [
             1,
             "#f0f921"
            ]
           ]
          },
          "colorway": [
           "#636efa",
           "#EF553B",
           "#00cc96",
           "#ab63fa",
           "#FFA15A",
           "#19d3f3",
           "#FF6692",
           "#B6E880",
           "#FF97FF",
           "#FECB52"
          ],
          "font": {
           "color": "#2a3f5f"
          },
          "geo": {
           "bgcolor": "white",
           "lakecolor": "white",
           "landcolor": "#E5ECF6",
           "showlakes": true,
           "showland": true,
           "subunitcolor": "white"
          },
          "hoverlabel": {
           "align": "left"
          },
          "hovermode": "closest",
          "mapbox": {
           "style": "light"
          },
          "paper_bgcolor": "white",
          "plot_bgcolor": "#E5ECF6",
          "polar": {
           "angularaxis": {
            "gridcolor": "white",
            "linecolor": "white",
            "ticks": ""
           },
           "bgcolor": "#E5ECF6",
           "radialaxis": {
            "gridcolor": "white",
            "linecolor": "white",
            "ticks": ""
           }
          },
          "scene": {
           "xaxis": {
            "backgroundcolor": "#E5ECF6",
            "gridcolor": "white",
            "gridwidth": 2,
            "linecolor": "white",
            "showbackground": true,
            "ticks": "",
            "zerolinecolor": "white"
           },
           "yaxis": {
            "backgroundcolor": "#E5ECF6",
            "gridcolor": "white",
            "gridwidth": 2,
            "linecolor": "white",
            "showbackground": true,
            "ticks": "",
            "zerolinecolor": "white"
           },
           "zaxis": {
            "backgroundcolor": "#E5ECF6",
            "gridcolor": "white",
            "gridwidth": 2,
            "linecolor": "white",
            "showbackground": true,
            "ticks": "",
            "zerolinecolor": "white"
           }
          },
          "shapedefaults": {
           "line": {
            "color": "#2a3f5f"
           }
          },
          "ternary": {
           "aaxis": {
            "gridcolor": "white",
            "linecolor": "white",
            "ticks": ""
           },
           "baxis": {
            "gridcolor": "white",
            "linecolor": "white",
            "ticks": ""
           },
           "bgcolor": "#E5ECF6",
           "caxis": {
            "gridcolor": "white",
            "linecolor": "white",
            "ticks": ""
           }
          },
          "title": {
           "x": 0.05
          },
          "xaxis": {
           "automargin": true,
           "gridcolor": "white",
           "linecolor": "white",
           "ticks": "",
           "title": {
            "standoff": 15
           },
           "zerolinecolor": "white",
           "zerolinewidth": 2
          },
          "yaxis": {
           "automargin": true,
           "gridcolor": "white",
           "linecolor": "white",
           "ticks": "",
           "title": {
            "standoff": 15
           },
           "zerolinecolor": "white",
           "zerolinewidth": 2
          }
         }
        },
        "title": {
         "text": "Population in 2016"
        }
       }
      }
     },
     "metadata": {},
     "output_type": "display_data"
    }
   ],
   "source": [
    "dfEdStatsDataCountry2016 = dfEdStatsDataCountry[dfEdStatsDataCountry['indicator_code'] == 'SP.POP.TOTL']\n",
    "dfEdStatsDataCountry2016 = dfEdStatsDataCountry2016[dfEdStatsDataCountry2016['2016'].notnull()]\n",
    "\n",
    "fig = px.choropleth(dfEdStatsDataCountry2016, locations='country_code', color='2016', hover_name='country_name', color_continuous_scale=px.colors.sequential.Plasma, title='Population in 2016', labels={'2016':'Population'})\n",
    "fig.show()"
   ]
  },
  {
   "cell_type": "markdown",
   "id": "318dd18b",
   "metadata": {},
   "source": [
    "> Best countries : China & India"
   ]
  },
  {
   "cell_type": "markdown",
   "id": "d064c2b8",
   "metadata": {},
   "source": [
    "> Interesting countries : USA, Brazil, Nigeria, Indonesia, Pakistan,... "
   ]
  },
  {
   "cell_type": "markdown",
   "id": "64b10063",
   "metadata": {},
   "source": [
    "Economic"
   ]
  },
  {
   "cell_type": "code",
   "execution_count": 213,
   "id": "5c4efabe",
   "metadata": {},
   "outputs": [
    {
     "data": {
      "application/vnd.plotly.v1+json": {
       "config": {
        "plotlyServerURL": "https://plot.ly"
       },
       "data": [
        {
         "coloraxis": "coloraxis",
         "geo": "geo",
         "hovertemplate": "<b>%{hovertext}</b><br><br>country_code=%{location}<br>GNI per capita=%{z}<extra></extra>",
         "hovertext": [
          "Afghanistan",
          "Albania",
          "Algeria",
          "Angola",
          "Antigua and Barbuda",
          "Argentina",
          "Armenia",
          "Australia",
          "Austria",
          "Azerbaijan",
          "Bahamas, The",
          "Bangladesh",
          "Barbados",
          "Belarus",
          "Belgium",
          "Belize",
          "Benin",
          "Bhutan",
          "Bolivia",
          "Bosnia and Herzegovina",
          "Botswana",
          "Brazil",
          "Brunei Darussalam",
          "Bulgaria",
          "Burkina Faso",
          "Burundi",
          "Cabo Verde",
          "Cambodia",
          "Cameroon",
          "Canada",
          "Central African Republic",
          "Chad",
          "Chile",
          "China",
          "Colombia",
          "Comoros",
          "Congo, Dem. Rep.",
          "Congo, Rep.",
          "Costa Rica",
          "Cote d'Ivoire",
          "Croatia",
          "Cyprus",
          "Czech Republic",
          "Denmark",
          "Dominica",
          "Dominican Republic",
          "Ecuador",
          "Egypt, Arab Rep.",
          "El Salvador",
          "Equatorial Guinea",
          "Estonia",
          "Ethiopia",
          "Fiji",
          "Finland",
          "France",
          "Gabon",
          "Gambia, The",
          "Georgia",
          "Germany",
          "Ghana",
          "Greece",
          "Grenada",
          "Guatemala",
          "Guinea",
          "Guinea-Bissau",
          "Guyana",
          "Haiti",
          "Honduras",
          "Hong Kong SAR, China",
          "Hungary",
          "Iceland",
          "India",
          "Indonesia",
          "Iran, Islamic Rep.",
          "Iraq",
          "Ireland",
          "Israel",
          "Italy",
          "Jamaica",
          "Japan",
          "Jordan",
          "Kazakhstan",
          "Kenya",
          "Kiribati",
          "Korea, Rep.",
          "Kosovo",
          "Kuwait",
          "Kyrgyz Republic",
          "Lao PDR",
          "Latvia",
          "Lebanon",
          "Lesotho",
          "Liberia",
          "Lithuania",
          "Luxembourg",
          "Macedonia, FYR",
          "Madagascar",
          "Malawi",
          "Malaysia",
          "Maldives",
          "Mali",
          "Malta",
          "Marshall Islands",
          "Mauritania",
          "Mauritius",
          "Mexico",
          "Micronesia, Fed. Sts.",
          "Moldova",
          "Mongolia",
          "Montenegro",
          "Morocco",
          "Mozambique",
          "Myanmar",
          "Namibia",
          "Nepal",
          "Netherlands",
          "New Zealand",
          "Nicaragua",
          "Niger",
          "Nigeria",
          "Norway",
          "Pakistan",
          "Palau",
          "Panama",
          "Papua New Guinea",
          "Paraguay",
          "Peru",
          "Philippines",
          "Poland",
          "Portugal",
          "Romania",
          "Russian Federation",
          "Rwanda",
          "Samoa",
          "Sao Tome and Principe",
          "Saudi Arabia",
          "Senegal",
          "Serbia",
          "Seychelles",
          "Sierra Leone",
          "Singapore",
          "Slovak Republic",
          "Slovenia",
          "Solomon Islands",
          "South Africa",
          "Spain",
          "Sri Lanka",
          "St. Kitts and Nevis",
          "St. Lucia",
          "St. Vincent and the Grenadines",
          "Sudan",
          "Suriname",
          "Swaziland",
          "Sweden",
          "Switzerland",
          "Tajikistan",
          "Tanzania",
          "Thailand",
          "Timor-Leste",
          "Togo",
          "Tonga",
          "Trinidad and Tobago",
          "Tunisia",
          "Turkey",
          "Turkmenistan",
          "Tuvalu",
          "Uganda",
          "Ukraine",
          "United Arab Emirates",
          "United Kingdom",
          "United States",
          "Uruguay",
          "Uzbekistan",
          "Vietnam",
          "Yemen, Rep.",
          "Zambia",
          "Zimbabwe"
         ],
         "locations": [
          "AFG",
          "ALB",
          "DZA",
          "AGO",
          "ATG",
          "ARG",
          "ARM",
          "AUS",
          "AUT",
          "AZE",
          "BHS",
          "BGD",
          "BRB",
          "BLR",
          "BEL",
          "BLZ",
          "BEN",
          "BTN",
          "BOL",
          "BIH",
          "BWA",
          "BRA",
          "BRN",
          "BGR",
          "BFA",
          "BDI",
          "CPV",
          "KHM",
          "CMR",
          "CAN",
          "CAF",
          "TCD",
          "CHL",
          "CHN",
          "COL",
          "COM",
          "COD",
          "COG",
          "CRI",
          "CIV",
          "HRV",
          "CYP",
          "CZE",
          "DNK",
          "DMA",
          "DOM",
          "ECU",
          "EGY",
          "SLV",
          "GNQ",
          "EST",
          "ETH",
          "FJI",
          "FIN",
          "FRA",
          "GAB",
          "GMB",
          "GEO",
          "DEU",
          "GHA",
          "GRC",
          "GRD",
          "GTM",
          "GIN",
          "GNB",
          "GUY",
          "HTI",
          "HND",
          "HKG",
          "HUN",
          "ISL",
          "IND",
          "IDN",
          "IRN",
          "IRQ",
          "IRL",
          "ISR",
          "ITA",
          "JAM",
          "JPN",
          "JOR",
          "KAZ",
          "KEN",
          "KIR",
          "KOR",
          "XKX",
          "KWT",
          "KGZ",
          "LAO",
          "LVA",
          "LBN",
          "LSO",
          "LBR",
          "LTU",
          "LUX",
          "MKD",
          "MDG",
          "MWI",
          "MYS",
          "MDV",
          "MLI",
          "MLT",
          "MHL",
          "MRT",
          "MUS",
          "MEX",
          "FSM",
          "MDA",
          "MNG",
          "MNE",
          "MAR",
          "MOZ",
          "MMR",
          "NAM",
          "NPL",
          "NLD",
          "NZL",
          "NIC",
          "NER",
          "NGA",
          "NOR",
          "PAK",
          "PLW",
          "PAN",
          "PNG",
          "PRY",
          "PER",
          "PHL",
          "POL",
          "PRT",
          "ROU",
          "RUS",
          "RWA",
          "WSM",
          "STP",
          "SAU",
          "SEN",
          "SRB",
          "SYC",
          "SLE",
          "SGP",
          "SVK",
          "SVN",
          "SLB",
          "ZAF",
          "ESP",
          "LKA",
          "KNA",
          "LCA",
          "VCT",
          "SDN",
          "SUR",
          "SWZ",
          "SWE",
          "CHE",
          "TJK",
          "TZA",
          "THA",
          "TLS",
          "TGO",
          "TON",
          "TTO",
          "TUN",
          "TUR",
          "TKM",
          "TUV",
          "UGA",
          "UKR",
          "ARE",
          "GBR",
          "USA",
          "URY",
          "UZB",
          "VNM",
          "YEM",
          "ZMB",
          "ZWE"
         ],
         "name": "",
         "type": "choropleth",
         "z": [
          1900,
          11670,
          14420,
          6100,
          22130,
          19530,
          9040,
          45970,
          50620,
          16150,
          21680,
          3790,
          17210,
          17240,
          46010,
          7950,
          2170,
          8180,
          7120,
          12350,
          16710,
          14840,
          83170,
          19460,
          1730,
          770,
          6230,
          3510,
          3550,
          43420,
          700,
          1960,
          23290,
          15500,
          13920,
          1540,
          790,
          5390,
          15780,
          3590,
          22930,
          31420,
          32710,
          51100,
          10640,
          14500,
          11050,
          11000,
          8240,
          18330,
          28920,
          1730,
          8720,
          43800,
          42130,
          16750,
          1630,
          9530,
          49710,
          4160,
          26900,
          13750,
          7760,
          1850,
          1550,
          7810,
          1800,
          4410,
          60630,
          25640,
          52490,
          6500,
          11240,
          20050,
          17240,
          56870,
          37330,
          38430,
          8470,
          42790,
          8990,
          22970,
          3130,
          3050,
          35790,
          10220,
          83310,
          3410,
          5930,
          25870,
          14100,
          3340,
          710,
          28810,
          70430,
          14480,
          1450,
          1140,
          26960,
          17150,
          2060,
          35840,
          5380,
          3770,
          21030,
          17760,
          4090,
          5680,
          11450,
          17900,
          7700,
          1190,
          5540,
          10400,
          2520,
          50710,
          37660,
          5550,
          970,
          5750,
          62550,
          5570,
          14870,
          21020,
          4150,
          9070,
          12510,
          9410,
          26820,
          30000,
          22950,
          22540,
          1870,
          6240,
          3250,
          55860,
          2490,
          13890,
          28440,
          1330,
          85190,
          29910,
          32360,
          2150,
          12880,
          36450,
          11990,
          25690,
          12060,
          11410,
          4290,
          14490,
          8320,
          50030,
          63660,
          3510,
          2740,
          16100,
          3380,
          1370,
          5790,
          31830,
          11170,
          24160,
          16090,
          5930,
          1790,
          8190,
          72980,
          42100,
          58700,
          21130,
          6650,
          6170,
          2500,
          3850,
          1810
         ]
        }
       ],
       "layout": {
        "coloraxis": {
         "colorbar": {
          "title": {
           "text": "GNI per capita"
          }
         },
         "colorscale": [
          [
           0,
           "#0d0887"
          ],
          [
           0.1111111111111111,
           "#46039f"
          ],
          [
           0.2222222222222222,
           "#7201a8"
          ],
          [
           0.3333333333333333,
           "#9c179e"
          ],
          [
           0.4444444444444444,
           "#bd3786"
          ],
          [
           0.5555555555555556,
           "#d8576b"
          ],
          [
           0.6666666666666666,
           "#ed7953"
          ],
          [
           0.7777777777777778,
           "#fb9f3a"
          ],
          [
           0.8888888888888888,
           "#fdca26"
          ],
          [
           1,
           "#f0f921"
          ]
         ]
        },
        "geo": {
         "center": {},
         "domain": {
          "x": [
           0,
           1
          ],
          "y": [
           0,
           1
          ]
         }
        },
        "legend": {
         "tracegroupgap": 0
        },
        "template": {
         "data": {
          "bar": [
           {
            "error_x": {
             "color": "#2a3f5f"
            },
            "error_y": {
             "color": "#2a3f5f"
            },
            "marker": {
             "line": {
              "color": "#E5ECF6",
              "width": 0.5
             },
             "pattern": {
              "fillmode": "overlay",
              "size": 10,
              "solidity": 0.2
             }
            },
            "type": "bar"
           }
          ],
          "barpolar": [
           {
            "marker": {
             "line": {
              "color": "#E5ECF6",
              "width": 0.5
             },
             "pattern": {
              "fillmode": "overlay",
              "size": 10,
              "solidity": 0.2
             }
            },
            "type": "barpolar"
           }
          ],
          "carpet": [
           {
            "aaxis": {
             "endlinecolor": "#2a3f5f",
             "gridcolor": "white",
             "linecolor": "white",
             "minorgridcolor": "white",
             "startlinecolor": "#2a3f5f"
            },
            "baxis": {
             "endlinecolor": "#2a3f5f",
             "gridcolor": "white",
             "linecolor": "white",
             "minorgridcolor": "white",
             "startlinecolor": "#2a3f5f"
            },
            "type": "carpet"
           }
          ],
          "choropleth": [
           {
            "colorbar": {
             "outlinewidth": 0,
             "ticks": ""
            },
            "type": "choropleth"
           }
          ],
          "contour": [
           {
            "colorbar": {
             "outlinewidth": 0,
             "ticks": ""
            },
            "colorscale": [
             [
              0,
              "#0d0887"
             ],
             [
              0.1111111111111111,
              "#46039f"
             ],
             [
              0.2222222222222222,
              "#7201a8"
             ],
             [
              0.3333333333333333,
              "#9c179e"
             ],
             [
              0.4444444444444444,
              "#bd3786"
             ],
             [
              0.5555555555555556,
              "#d8576b"
             ],
             [
              0.6666666666666666,
              "#ed7953"
             ],
             [
              0.7777777777777778,
              "#fb9f3a"
             ],
             [
              0.8888888888888888,
              "#fdca26"
             ],
             [
              1,
              "#f0f921"
             ]
            ],
            "type": "contour"
           }
          ],
          "contourcarpet": [
           {
            "colorbar": {
             "outlinewidth": 0,
             "ticks": ""
            },
            "type": "contourcarpet"
           }
          ],
          "heatmap": [
           {
            "colorbar": {
             "outlinewidth": 0,
             "ticks": ""
            },
            "colorscale": [
             [
              0,
              "#0d0887"
             ],
             [
              0.1111111111111111,
              "#46039f"
             ],
             [
              0.2222222222222222,
              "#7201a8"
             ],
             [
              0.3333333333333333,
              "#9c179e"
             ],
             [
              0.4444444444444444,
              "#bd3786"
             ],
             [
              0.5555555555555556,
              "#d8576b"
             ],
             [
              0.6666666666666666,
              "#ed7953"
             ],
             [
              0.7777777777777778,
              "#fb9f3a"
             ],
             [
              0.8888888888888888,
              "#fdca26"
             ],
             [
              1,
              "#f0f921"
             ]
            ],
            "type": "heatmap"
           }
          ],
          "heatmapgl": [
           {
            "colorbar": {
             "outlinewidth": 0,
             "ticks": ""
            },
            "colorscale": [
             [
              0,
              "#0d0887"
             ],
             [
              0.1111111111111111,
              "#46039f"
             ],
             [
              0.2222222222222222,
              "#7201a8"
             ],
             [
              0.3333333333333333,
              "#9c179e"
             ],
             [
              0.4444444444444444,
              "#bd3786"
             ],
             [
              0.5555555555555556,
              "#d8576b"
             ],
             [
              0.6666666666666666,
              "#ed7953"
             ],
             [
              0.7777777777777778,
              "#fb9f3a"
             ],
             [
              0.8888888888888888,
              "#fdca26"
             ],
             [
              1,
              "#f0f921"
             ]
            ],
            "type": "heatmapgl"
           }
          ],
          "histogram": [
           {
            "marker": {
             "pattern": {
              "fillmode": "overlay",
              "size": 10,
              "solidity": 0.2
             }
            },
            "type": "histogram"
           }
          ],
          "histogram2d": [
           {
            "colorbar": {
             "outlinewidth": 0,
             "ticks": ""
            },
            "colorscale": [
             [
              0,
              "#0d0887"
             ],
             [
              0.1111111111111111,
              "#46039f"
             ],
             [
              0.2222222222222222,
              "#7201a8"
             ],
             [
              0.3333333333333333,
              "#9c179e"
             ],
             [
              0.4444444444444444,
              "#bd3786"
             ],
             [
              0.5555555555555556,
              "#d8576b"
             ],
             [
              0.6666666666666666,
              "#ed7953"
             ],
             [
              0.7777777777777778,
              "#fb9f3a"
             ],
             [
              0.8888888888888888,
              "#fdca26"
             ],
             [
              1,
              "#f0f921"
             ]
            ],
            "type": "histogram2d"
           }
          ],
          "histogram2dcontour": [
           {
            "colorbar": {
             "outlinewidth": 0,
             "ticks": ""
            },
            "colorscale": [
             [
              0,
              "#0d0887"
             ],
             [
              0.1111111111111111,
              "#46039f"
             ],
             [
              0.2222222222222222,
              "#7201a8"
             ],
             [
              0.3333333333333333,
              "#9c179e"
             ],
             [
              0.4444444444444444,
              "#bd3786"
             ],
             [
              0.5555555555555556,
              "#d8576b"
             ],
             [
              0.6666666666666666,
              "#ed7953"
             ],
             [
              0.7777777777777778,
              "#fb9f3a"
             ],
             [
              0.8888888888888888,
              "#fdca26"
             ],
             [
              1,
              "#f0f921"
             ]
            ],
            "type": "histogram2dcontour"
           }
          ],
          "mesh3d": [
           {
            "colorbar": {
             "outlinewidth": 0,
             "ticks": ""
            },
            "type": "mesh3d"
           }
          ],
          "parcoords": [
           {
            "line": {
             "colorbar": {
              "outlinewidth": 0,
              "ticks": ""
             }
            },
            "type": "parcoords"
           }
          ],
          "pie": [
           {
            "automargin": true,
            "type": "pie"
           }
          ],
          "scatter": [
           {
            "fillpattern": {
             "fillmode": "overlay",
             "size": 10,
             "solidity": 0.2
            },
            "type": "scatter"
           }
          ],
          "scatter3d": [
           {
            "line": {
             "colorbar": {
              "outlinewidth": 0,
              "ticks": ""
             }
            },
            "marker": {
             "colorbar": {
              "outlinewidth": 0,
              "ticks": ""
             }
            },
            "type": "scatter3d"
           }
          ],
          "scattercarpet": [
           {
            "marker": {
             "colorbar": {
              "outlinewidth": 0,
              "ticks": ""
             }
            },
            "type": "scattercarpet"
           }
          ],
          "scattergeo": [
           {
            "marker": {
             "colorbar": {
              "outlinewidth": 0,
              "ticks": ""
             }
            },
            "type": "scattergeo"
           }
          ],
          "scattergl": [
           {
            "marker": {
             "colorbar": {
              "outlinewidth": 0,
              "ticks": ""
             }
            },
            "type": "scattergl"
           }
          ],
          "scattermapbox": [
           {
            "marker": {
             "colorbar": {
              "outlinewidth": 0,
              "ticks": ""
             }
            },
            "type": "scattermapbox"
           }
          ],
          "scatterpolar": [
           {
            "marker": {
             "colorbar": {
              "outlinewidth": 0,
              "ticks": ""
             }
            },
            "type": "scatterpolar"
           }
          ],
          "scatterpolargl": [
           {
            "marker": {
             "colorbar": {
              "outlinewidth": 0,
              "ticks": ""
             }
            },
            "type": "scatterpolargl"
           }
          ],
          "scatterternary": [
           {
            "marker": {
             "colorbar": {
              "outlinewidth": 0,
              "ticks": ""
             }
            },
            "type": "scatterternary"
           }
          ],
          "surface": [
           {
            "colorbar": {
             "outlinewidth": 0,
             "ticks": ""
            },
            "colorscale": [
             [
              0,
              "#0d0887"
             ],
             [
              0.1111111111111111,
              "#46039f"
             ],
             [
              0.2222222222222222,
              "#7201a8"
             ],
             [
              0.3333333333333333,
              "#9c179e"
             ],
             [
              0.4444444444444444,
              "#bd3786"
             ],
             [
              0.5555555555555556,
              "#d8576b"
             ],
             [
              0.6666666666666666,
              "#ed7953"
             ],
             [
              0.7777777777777778,
              "#fb9f3a"
             ],
             [
              0.8888888888888888,
              "#fdca26"
             ],
             [
              1,
              "#f0f921"
             ]
            ],
            "type": "surface"
           }
          ],
          "table": [
           {
            "cells": {
             "fill": {
              "color": "#EBF0F8"
             },
             "line": {
              "color": "white"
             }
            },
            "header": {
             "fill": {
              "color": "#C8D4E3"
             },
             "line": {
              "color": "white"
             }
            },
            "type": "table"
           }
          ]
         },
         "layout": {
          "annotationdefaults": {
           "arrowcolor": "#2a3f5f",
           "arrowhead": 0,
           "arrowwidth": 1
          },
          "autotypenumbers": "strict",
          "coloraxis": {
           "colorbar": {
            "outlinewidth": 0,
            "ticks": ""
           }
          },
          "colorscale": {
           "diverging": [
            [
             0,
             "#8e0152"
            ],
            [
             0.1,
             "#c51b7d"
            ],
            [
             0.2,
             "#de77ae"
            ],
            [
             0.3,
             "#f1b6da"
            ],
            [
             0.4,
             "#fde0ef"
            ],
            [
             0.5,
             "#f7f7f7"
            ],
            [
             0.6,
             "#e6f5d0"
            ],
            [
             0.7,
             "#b8e186"
            ],
            [
             0.8,
             "#7fbc41"
            ],
            [
             0.9,
             "#4d9221"
            ],
            [
             1,
             "#276419"
            ]
           ],
           "sequential": [
            [
             0,
             "#0d0887"
            ],
            [
             0.1111111111111111,
             "#46039f"
            ],
            [
             0.2222222222222222,
             "#7201a8"
            ],
            [
             0.3333333333333333,
             "#9c179e"
            ],
            [
             0.4444444444444444,
             "#bd3786"
            ],
            [
             0.5555555555555556,
             "#d8576b"
            ],
            [
             0.6666666666666666,
             "#ed7953"
            ],
            [
             0.7777777777777778,
             "#fb9f3a"
            ],
            [
             0.8888888888888888,
             "#fdca26"
            ],
            [
             1,
             "#f0f921"
            ]
           ],
           "sequentialminus": [
            [
             0,
             "#0d0887"
            ],
            [
             0.1111111111111111,
             "#46039f"
            ],
            [
             0.2222222222222222,
             "#7201a8"
            ],
            [
             0.3333333333333333,
             "#9c179e"
            ],
            [
             0.4444444444444444,
             "#bd3786"
            ],
            [
             0.5555555555555556,
             "#d8576b"
            ],
            [
             0.6666666666666666,
             "#ed7953"
            ],
            [
             0.7777777777777778,
             "#fb9f3a"
            ],
            [
             0.8888888888888888,
             "#fdca26"
            ],
            [
             1,
             "#f0f921"
            ]
           ]
          },
          "colorway": [
           "#636efa",
           "#EF553B",
           "#00cc96",
           "#ab63fa",
           "#FFA15A",
           "#19d3f3",
           "#FF6692",
           "#B6E880",
           "#FF97FF",
           "#FECB52"
          ],
          "font": {
           "color": "#2a3f5f"
          },
          "geo": {
           "bgcolor": "white",
           "lakecolor": "white",
           "landcolor": "#E5ECF6",
           "showlakes": true,
           "showland": true,
           "subunitcolor": "white"
          },
          "hoverlabel": {
           "align": "left"
          },
          "hovermode": "closest",
          "mapbox": {
           "style": "light"
          },
          "paper_bgcolor": "white",
          "plot_bgcolor": "#E5ECF6",
          "polar": {
           "angularaxis": {
            "gridcolor": "white",
            "linecolor": "white",
            "ticks": ""
           },
           "bgcolor": "#E5ECF6",
           "radialaxis": {
            "gridcolor": "white",
            "linecolor": "white",
            "ticks": ""
           }
          },
          "scene": {
           "xaxis": {
            "backgroundcolor": "#E5ECF6",
            "gridcolor": "white",
            "gridwidth": 2,
            "linecolor": "white",
            "showbackground": true,
            "ticks": "",
            "zerolinecolor": "white"
           },
           "yaxis": {
            "backgroundcolor": "#E5ECF6",
            "gridcolor": "white",
            "gridwidth": 2,
            "linecolor": "white",
            "showbackground": true,
            "ticks": "",
            "zerolinecolor": "white"
           },
           "zaxis": {
            "backgroundcolor": "#E5ECF6",
            "gridcolor": "white",
            "gridwidth": 2,
            "linecolor": "white",
            "showbackground": true,
            "ticks": "",
            "zerolinecolor": "white"
           }
          },
          "shapedefaults": {
           "line": {
            "color": "#2a3f5f"
           }
          },
          "ternary": {
           "aaxis": {
            "gridcolor": "white",
            "linecolor": "white",
            "ticks": ""
           },
           "baxis": {
            "gridcolor": "white",
            "linecolor": "white",
            "ticks": ""
           },
           "bgcolor": "#E5ECF6",
           "caxis": {
            "gridcolor": "white",
            "linecolor": "white",
            "ticks": ""
           }
          },
          "title": {
           "x": 0.05
          },
          "xaxis": {
           "automargin": true,
           "gridcolor": "white",
           "linecolor": "white",
           "ticks": "",
           "title": {
            "standoff": 15
           },
           "zerolinecolor": "white",
           "zerolinewidth": 2
          },
          "yaxis": {
           "automargin": true,
           "gridcolor": "white",
           "linecolor": "white",
           "ticks": "",
           "title": {
            "standoff": 15
           },
           "zerolinecolor": "white",
           "zerolinewidth": 2
          }
         }
        },
        "title": {
         "text": "GNI per capita in 2016"
        }
       }
      }
     },
     "metadata": {},
     "output_type": "display_data"
    }
   ],
   "source": [
    "dfEdStatsDataCountry2016 = dfEdStatsDataCountry[dfEdStatsDataCountry['indicator_code'] == 'NY.GNP.PCAP.PP.CD']\n",
    "dfEdStatsDataCountry2016 = dfEdStatsDataCountry2016[dfEdStatsDataCountry2016['2016'].notnull()]\n",
    "\n",
    "fig = px.choropleth(dfEdStatsDataCountry2016, locations='country_code', color='2016', hover_name='country_name', color_continuous_scale=px.colors.sequential.Plasma, title='GNI per capita in 2016', labels={'2016':'GNI per capita'})\n",
    "fig.show()"
   ]
  },
  {
   "cell_type": "markdown",
   "id": "4c7f1aa4",
   "metadata": {},
   "source": [
    "> Interesting countries : USA, Saudi Arabia, United Arab Emirates, Norway, Ireland, ..."
   ]
  },
  {
   "cell_type": "markdown",
   "id": "0e7866d0",
   "metadata": {},
   "source": [
    "Education"
   ]
  },
  {
   "cell_type": "markdown",
   "id": "d56b286a",
   "metadata": {},
   "source": [
    "Secondary school enrolment rate"
   ]
  },
  {
   "cell_type": "code",
   "execution_count": 214,
   "id": "7e53f6b6",
   "metadata": {},
   "outputs": [
    {
     "data": {
      "application/vnd.plotly.v1+json": {
       "config": {
        "plotlyServerURL": "https://plot.ly"
       },
       "data": [
        {
         "coloraxis": "coloraxis",
         "geo": "geo",
         "hovertemplate": "<b>%{hovertext}</b><br><br>country_code=%{location}<br>Secondary education enrollment=%{z}<extra></extra>",
         "hovertext": [
          "Afghanistan",
          "Albania",
          "Antigua and Barbuda",
          "Argentina",
          "Australia",
          "Austria",
          "Bahrain",
          "Barbados",
          "Belarus",
          "Belgium",
          "Belize",
          "Benin",
          "Bermuda",
          "Bhutan",
          "Bolivia",
          "Brazil",
          "British Virgin Islands",
          "Brunei Darussalam",
          "Bulgaria",
          "Burkina Faso",
          "Burundi",
          "Cabo Verde",
          "Cameroon",
          "Chile",
          "China",
          "Colombia",
          "Comoros",
          "Congo, Dem. Rep.",
          "Costa Rica",
          "Cote d'Ivoire",
          "Croatia",
          "Cuba",
          "Cyprus",
          "Czech Republic",
          "Denmark",
          "Djibouti",
          "Dominican Republic",
          "Ecuador",
          "Egypt, Arab Rep.",
          "El Salvador",
          "Eritrea",
          "Estonia",
          "Finland",
          "France",
          "Georgia",
          "Germany",
          "Ghana",
          "Greece",
          "Grenada",
          "Guatemala",
          "Guinea",
          "Honduras",
          "Hong Kong SAR, China",
          "Hungary",
          "India",
          "Indonesia",
          "Iran, Islamic Rep.",
          "Ireland",
          "Israel",
          "Italy",
          "Jamaica",
          "Japan",
          "Jordan",
          "Kazakhstan",
          "Korea, Rep.",
          "Kuwait",
          "Kyrgyz Republic",
          "Lao PDR",
          "Latvia",
          "Lebanon",
          "Lesotho",
          "Liberia",
          "Liechtenstein",
          "Lithuania",
          "Luxembourg",
          "Macao SAR, China",
          "Macedonia, FYR",
          "Madagascar",
          "Malawi",
          "Malaysia",
          "Mali",
          "Malta",
          "Mauritania",
          "Mauritius",
          "Mexico",
          "Moldova",
          "Mozambique",
          "Myanmar",
          "Nauru",
          "Nepal",
          "Netherlands",
          "New Zealand",
          "Niger",
          "Norway",
          "Pakistan",
          "Palau",
          "Panama",
          "Peru",
          "Poland",
          "Portugal",
          "Puerto Rico",
          "Qatar",
          "Romania",
          "Russian Federation",
          "Rwanda",
          "Samoa",
          "Sao Tome and Principe",
          "Saudi Arabia",
          "Serbia",
          "Seychelles",
          "Slovak Republic",
          "Slovenia",
          "South Africa",
          "Spain",
          "St. Kitts and Nevis",
          "St. Lucia",
          "St. Vincent and the Grenadines",
          "Suriname",
          "Swaziland",
          "Sweden",
          "Switzerland",
          "Thailand",
          "Timor-Leste",
          "Tonga",
          "Tunisia",
          "Turkey",
          "Turkmenistan",
          "Tuvalu",
          "Ukraine",
          "United Kingdom",
          "United States",
          "Uruguay",
          "Uzbekistan",
          "Venezuela, RB",
          "West Bank and Gaza"
         ],
         "locations": [
          "AFG",
          "ALB",
          "ATG",
          "ARG",
          "AUS",
          "AUT",
          "BHR",
          "BRB",
          "BLR",
          "BEL",
          "BLZ",
          "BEN",
          "BMU",
          "BTN",
          "BOL",
          "BRA",
          "VGB",
          "BRN",
          "BGR",
          "BFA",
          "BDI",
          "CPV",
          "CMR",
          "CHL",
          "CHN",
          "COL",
          "COM",
          "COD",
          "CRI",
          "CIV",
          "HRV",
          "CUB",
          "CYP",
          "CZE",
          "DNK",
          "DJI",
          "DOM",
          "ECU",
          "EGY",
          "SLV",
          "ERI",
          "EST",
          "FIN",
          "FRA",
          "GEO",
          "DEU",
          "GHA",
          "GRC",
          "GRD",
          "GTM",
          "GIN",
          "HND",
          "HKG",
          "HUN",
          "IND",
          "IDN",
          "IRN",
          "IRL",
          "ISR",
          "ITA",
          "JAM",
          "JPN",
          "JOR",
          "KAZ",
          "KOR",
          "KWT",
          "KGZ",
          "LAO",
          "LVA",
          "LBN",
          "LSO",
          "LBR",
          "LIE",
          "LTU",
          "LUX",
          "MAC",
          "MKD",
          "MDG",
          "MWI",
          "MYS",
          "MLI",
          "MLT",
          "MRT",
          "MUS",
          "MEX",
          "MDA",
          "MOZ",
          "MMR",
          "NRU",
          "NPL",
          "NLD",
          "NZL",
          "NER",
          "NOR",
          "PAK",
          "PLW",
          "PAN",
          "PER",
          "POL",
          "PRT",
          "PRI",
          "QAT",
          "ROU",
          "RUS",
          "RWA",
          "WSM",
          "STP",
          "SAU",
          "SRB",
          "SYC",
          "SVK",
          "SVN",
          "ZAF",
          "ESP",
          "KNA",
          "LCA",
          "VCT",
          "SUR",
          "SWZ",
          "SWE",
          "CHE",
          "THA",
          "TLS",
          "TON",
          "TUN",
          "TUR",
          "TKM",
          "TUV",
          "UKR",
          "GBR",
          "USA",
          "URY",
          "UZB",
          "VEN",
          "PSE"
         ],
         "name": "",
         "type": "choropleth",
         "z": [
          55.6561584472656,
          96.4260864257813,
          102.318222045898,
          106.777900695801,
          137.564788818359,
          99.2964019775391,
          98.8924407958984,
          109.247566223145,
          107.031799316406,
          164.811737060547,
          79.8772583007813,
          54.3636016845703,
          72.622428894043,
          84.1976928710938,
          85.3796310424805,
          101.950897216797,
          97.7373275756835,
          99.1162109375,
          100.879287719727,
          30.3352699279785,
          37.8889808654785,
          92.5794677734375,
          56.4307289123535,
          100.40454864502,
          94.3320693969727,
          98.7619094848633,
          60.3504104614258,
          43.5052108764648,
          120.326652526855,
          40.1321601867676,
          98.9999923706055,
          99.6651306152344,
          99.4167327880859,
          105.125846862793,
          129.868026733398,
          46.3529090881348,
          78.3560409545898,
          104.476791381836,
          86.1023178100585,
          81.1161499023438,
          34.7543716430664,
          110.406478881836,
          145.483688354492,
          110.644012451172,
          99.4300384521484,
          102.429862976074,
          57.9407691955566,
          106.499359130859,
          100.849388122559,
          63.5311584472656,
          38.8232688903809,
          68.3800888061523,
          100.633598327637,
          106.984359741211,
          74.2754364013672,
          82.4686965942383,
          88.406639099121,
          127.203300476074,
          101.863647460938,
          102.624938964844,
          83.024658203125,
          101.745613098145,
          82.4455413818359,
          105.482719421387,
          98.4532318115234,
          93.6036224365234,
          90.7816696166992,
          57.235969543457,
          115.359802246094,
          61.6670913696289,
          52.1712112426758,
          37.8734817504883,
          115.557830810547,
          106.821830749512,
          102.26245880127,
          96.0649719238281,
          78.5790481567383,
          38.434928894043,
          39.4920692443848,
          77.749656677246,
          43.5111503601074,
          94.2566680908203,
          29.9353199005127,
          97.9381637573242,
          90.549690246582,
          87.3207626342773,
          32.0876312255859,
          51.2960891723633,
          82.6366577148438,
          66.8689498901367,
          132.317108154297,
          117.490020751953,
          18.8194599151611,
          112.595001220703,
          41.6382598876953,
          113.597732543945,
          75.5586013793945,
          95.6218414306641,
          108.104682922363,
          116.395401000977,
          81.288818359375,
          83.8015975952148,
          94.7750778198242,
          100.586227416992,
          39.1157684326172,
          86.851219177246,
          76.898063659668,
          108.287879943848,
          94.3444137573242,
          79.1494522094727,
          91.9221572875977,
          110.670753479004,
          98.8196716308594,
          130.164657592773,
          91.5183181762695,
          86.4571990966797,
          104.686706542969,
          77.4317016601563,
          66.0280914306641,
          132.910934448242,
          99.7694091796875,
          127.73267364502,
          73.0743026733398,
          90.0993728637695,
          87.6324081420898,
          102.541236877441,
          85.341423034668,
          80.7666397094727,
          99.2369384765625,
          127.81128692627,
          97.5646896362305,
          95.0718612670898,
          96.3335189819335,
          91.6112823486328,
          82.2404479980469
         ]
        }
       ],
       "layout": {
        "coloraxis": {
         "colorbar": {
          "title": {
           "text": "Secondary education enrollment"
          }
         },
         "colorscale": [
          [
           0,
           "#0d0887"
          ],
          [
           0.1111111111111111,
           "#46039f"
          ],
          [
           0.2222222222222222,
           "#7201a8"
          ],
          [
           0.3333333333333333,
           "#9c179e"
          ],
          [
           0.4444444444444444,
           "#bd3786"
          ],
          [
           0.5555555555555556,
           "#d8576b"
          ],
          [
           0.6666666666666666,
           "#ed7953"
          ],
          [
           0.7777777777777778,
           "#fb9f3a"
          ],
          [
           0.8888888888888888,
           "#fdca26"
          ],
          [
           1,
           "#f0f921"
          ]
         ]
        },
        "geo": {
         "center": {},
         "domain": {
          "x": [
           0,
           1
          ],
          "y": [
           0,
           1
          ]
         }
        },
        "legend": {
         "tracegroupgap": 0
        },
        "template": {
         "data": {
          "bar": [
           {
            "error_x": {
             "color": "#2a3f5f"
            },
            "error_y": {
             "color": "#2a3f5f"
            },
            "marker": {
             "line": {
              "color": "#E5ECF6",
              "width": 0.5
             },
             "pattern": {
              "fillmode": "overlay",
              "size": 10,
              "solidity": 0.2
             }
            },
            "type": "bar"
           }
          ],
          "barpolar": [
           {
            "marker": {
             "line": {
              "color": "#E5ECF6",
              "width": 0.5
             },
             "pattern": {
              "fillmode": "overlay",
              "size": 10,
              "solidity": 0.2
             }
            },
            "type": "barpolar"
           }
          ],
          "carpet": [
           {
            "aaxis": {
             "endlinecolor": "#2a3f5f",
             "gridcolor": "white",
             "linecolor": "white",
             "minorgridcolor": "white",
             "startlinecolor": "#2a3f5f"
            },
            "baxis": {
             "endlinecolor": "#2a3f5f",
             "gridcolor": "white",
             "linecolor": "white",
             "minorgridcolor": "white",
             "startlinecolor": "#2a3f5f"
            },
            "type": "carpet"
           }
          ],
          "choropleth": [
           {
            "colorbar": {
             "outlinewidth": 0,
             "ticks": ""
            },
            "type": "choropleth"
           }
          ],
          "contour": [
           {
            "colorbar": {
             "outlinewidth": 0,
             "ticks": ""
            },
            "colorscale": [
             [
              0,
              "#0d0887"
             ],
             [
              0.1111111111111111,
              "#46039f"
             ],
             [
              0.2222222222222222,
              "#7201a8"
             ],
             [
              0.3333333333333333,
              "#9c179e"
             ],
             [
              0.4444444444444444,
              "#bd3786"
             ],
             [
              0.5555555555555556,
              "#d8576b"
             ],
             [
              0.6666666666666666,
              "#ed7953"
             ],
             [
              0.7777777777777778,
              "#fb9f3a"
             ],
             [
              0.8888888888888888,
              "#fdca26"
             ],
             [
              1,
              "#f0f921"
             ]
            ],
            "type": "contour"
           }
          ],
          "contourcarpet": [
           {
            "colorbar": {
             "outlinewidth": 0,
             "ticks": ""
            },
            "type": "contourcarpet"
           }
          ],
          "heatmap": [
           {
            "colorbar": {
             "outlinewidth": 0,
             "ticks": ""
            },
            "colorscale": [
             [
              0,
              "#0d0887"
             ],
             [
              0.1111111111111111,
              "#46039f"
             ],
             [
              0.2222222222222222,
              "#7201a8"
             ],
             [
              0.3333333333333333,
              "#9c179e"
             ],
             [
              0.4444444444444444,
              "#bd3786"
             ],
             [
              0.5555555555555556,
              "#d8576b"
             ],
             [
              0.6666666666666666,
              "#ed7953"
             ],
             [
              0.7777777777777778,
              "#fb9f3a"
             ],
             [
              0.8888888888888888,
              "#fdca26"
             ],
             [
              1,
              "#f0f921"
             ]
            ],
            "type": "heatmap"
           }
          ],
          "heatmapgl": [
           {
            "colorbar": {
             "outlinewidth": 0,
             "ticks": ""
            },
            "colorscale": [
             [
              0,
              "#0d0887"
             ],
             [
              0.1111111111111111,
              "#46039f"
             ],
             [
              0.2222222222222222,
              "#7201a8"
             ],
             [
              0.3333333333333333,
              "#9c179e"
             ],
             [
              0.4444444444444444,
              "#bd3786"
             ],
             [
              0.5555555555555556,
              "#d8576b"
             ],
             [
              0.6666666666666666,
              "#ed7953"
             ],
             [
              0.7777777777777778,
              "#fb9f3a"
             ],
             [
              0.8888888888888888,
              "#fdca26"
             ],
             [
              1,
              "#f0f921"
             ]
            ],
            "type": "heatmapgl"
           }
          ],
          "histogram": [
           {
            "marker": {
             "pattern": {
              "fillmode": "overlay",
              "size": 10,
              "solidity": 0.2
             }
            },
            "type": "histogram"
           }
          ],
          "histogram2d": [
           {
            "colorbar": {
             "outlinewidth": 0,
             "ticks": ""
            },
            "colorscale": [
             [
              0,
              "#0d0887"
             ],
             [
              0.1111111111111111,
              "#46039f"
             ],
             [
              0.2222222222222222,
              "#7201a8"
             ],
             [
              0.3333333333333333,
              "#9c179e"
             ],
             [
              0.4444444444444444,
              "#bd3786"
             ],
             [
              0.5555555555555556,
              "#d8576b"
             ],
             [
              0.6666666666666666,
              "#ed7953"
             ],
             [
              0.7777777777777778,
              "#fb9f3a"
             ],
             [
              0.8888888888888888,
              "#fdca26"
             ],
             [
              1,
              "#f0f921"
             ]
            ],
            "type": "histogram2d"
           }
          ],
          "histogram2dcontour": [
           {
            "colorbar": {
             "outlinewidth": 0,
             "ticks": ""
            },
            "colorscale": [
             [
              0,
              "#0d0887"
             ],
             [
              0.1111111111111111,
              "#46039f"
             ],
             [
              0.2222222222222222,
              "#7201a8"
             ],
             [
              0.3333333333333333,
              "#9c179e"
             ],
             [
              0.4444444444444444,
              "#bd3786"
             ],
             [
              0.5555555555555556,
              "#d8576b"
             ],
             [
              0.6666666666666666,
              "#ed7953"
             ],
             [
              0.7777777777777778,
              "#fb9f3a"
             ],
             [
              0.8888888888888888,
              "#fdca26"
             ],
             [
              1,
              "#f0f921"
             ]
            ],
            "type": "histogram2dcontour"
           }
          ],
          "mesh3d": [
           {
            "colorbar": {
             "outlinewidth": 0,
             "ticks": ""
            },
            "type": "mesh3d"
           }
          ],
          "parcoords": [
           {
            "line": {
             "colorbar": {
              "outlinewidth": 0,
              "ticks": ""
             }
            },
            "type": "parcoords"
           }
          ],
          "pie": [
           {
            "automargin": true,
            "type": "pie"
           }
          ],
          "scatter": [
           {
            "fillpattern": {
             "fillmode": "overlay",
             "size": 10,
             "solidity": 0.2
            },
            "type": "scatter"
           }
          ],
          "scatter3d": [
           {
            "line": {
             "colorbar": {
              "outlinewidth": 0,
              "ticks": ""
             }
            },
            "marker": {
             "colorbar": {
              "outlinewidth": 0,
              "ticks": ""
             }
            },
            "type": "scatter3d"
           }
          ],
          "scattercarpet": [
           {
            "marker": {
             "colorbar": {
              "outlinewidth": 0,
              "ticks": ""
             }
            },
            "type": "scattercarpet"
           }
          ],
          "scattergeo": [
           {
            "marker": {
             "colorbar": {
              "outlinewidth": 0,
              "ticks": ""
             }
            },
            "type": "scattergeo"
           }
          ],
          "scattergl": [
           {
            "marker": {
             "colorbar": {
              "outlinewidth": 0,
              "ticks": ""
             }
            },
            "type": "scattergl"
           }
          ],
          "scattermapbox": [
           {
            "marker": {
             "colorbar": {
              "outlinewidth": 0,
              "ticks": ""
             }
            },
            "type": "scattermapbox"
           }
          ],
          "scatterpolar": [
           {
            "marker": {
             "colorbar": {
              "outlinewidth": 0,
              "ticks": ""
             }
            },
            "type": "scatterpolar"
           }
          ],
          "scatterpolargl": [
           {
            "marker": {
             "colorbar": {
              "outlinewidth": 0,
              "ticks": ""
             }
            },
            "type": "scatterpolargl"
           }
          ],
          "scatterternary": [
           {
            "marker": {
             "colorbar": {
              "outlinewidth": 0,
              "ticks": ""
             }
            },
            "type": "scatterternary"
           }
          ],
          "surface": [
           {
            "colorbar": {
             "outlinewidth": 0,
             "ticks": ""
            },
            "colorscale": [
             [
              0,
              "#0d0887"
             ],
             [
              0.1111111111111111,
              "#46039f"
             ],
             [
              0.2222222222222222,
              "#7201a8"
             ],
             [
              0.3333333333333333,
              "#9c179e"
             ],
             [
              0.4444444444444444,
              "#bd3786"
             ],
             [
              0.5555555555555556,
              "#d8576b"
             ],
             [
              0.6666666666666666,
              "#ed7953"
             ],
             [
              0.7777777777777778,
              "#fb9f3a"
             ],
             [
              0.8888888888888888,
              "#fdca26"
             ],
             [
              1,
              "#f0f921"
             ]
            ],
            "type": "surface"
           }
          ],
          "table": [
           {
            "cells": {
             "fill": {
              "color": "#EBF0F8"
             },
             "line": {
              "color": "white"
             }
            },
            "header": {
             "fill": {
              "color": "#C8D4E3"
             },
             "line": {
              "color": "white"
             }
            },
            "type": "table"
           }
          ]
         },
         "layout": {
          "annotationdefaults": {
           "arrowcolor": "#2a3f5f",
           "arrowhead": 0,
           "arrowwidth": 1
          },
          "autotypenumbers": "strict",
          "coloraxis": {
           "colorbar": {
            "outlinewidth": 0,
            "ticks": ""
           }
          },
          "colorscale": {
           "diverging": [
            [
             0,
             "#8e0152"
            ],
            [
             0.1,
             "#c51b7d"
            ],
            [
             0.2,
             "#de77ae"
            ],
            [
             0.3,
             "#f1b6da"
            ],
            [
             0.4,
             "#fde0ef"
            ],
            [
             0.5,
             "#f7f7f7"
            ],
            [
             0.6,
             "#e6f5d0"
            ],
            [
             0.7,
             "#b8e186"
            ],
            [
             0.8,
             "#7fbc41"
            ],
            [
             0.9,
             "#4d9221"
            ],
            [
             1,
             "#276419"
            ]
           ],
           "sequential": [
            [
             0,
             "#0d0887"
            ],
            [
             0.1111111111111111,
             "#46039f"
            ],
            [
             0.2222222222222222,
             "#7201a8"
            ],
            [
             0.3333333333333333,
             "#9c179e"
            ],
            [
             0.4444444444444444,
             "#bd3786"
            ],
            [
             0.5555555555555556,
             "#d8576b"
            ],
            [
             0.6666666666666666,
             "#ed7953"
            ],
            [
             0.7777777777777778,
             "#fb9f3a"
            ],
            [
             0.8888888888888888,
             "#fdca26"
            ],
            [
             1,
             "#f0f921"
            ]
           ],
           "sequentialminus": [
            [
             0,
             "#0d0887"
            ],
            [
             0.1111111111111111,
             "#46039f"
            ],
            [
             0.2222222222222222,
             "#7201a8"
            ],
            [
             0.3333333333333333,
             "#9c179e"
            ],
            [
             0.4444444444444444,
             "#bd3786"
            ],
            [
             0.5555555555555556,
             "#d8576b"
            ],
            [
             0.6666666666666666,
             "#ed7953"
            ],
            [
             0.7777777777777778,
             "#fb9f3a"
            ],
            [
             0.8888888888888888,
             "#fdca26"
            ],
            [
             1,
             "#f0f921"
            ]
           ]
          },
          "colorway": [
           "#636efa",
           "#EF553B",
           "#00cc96",
           "#ab63fa",
           "#FFA15A",
           "#19d3f3",
           "#FF6692",
           "#B6E880",
           "#FF97FF",
           "#FECB52"
          ],
          "font": {
           "color": "#2a3f5f"
          },
          "geo": {
           "bgcolor": "white",
           "lakecolor": "white",
           "landcolor": "#E5ECF6",
           "showlakes": true,
           "showland": true,
           "subunitcolor": "white"
          },
          "hoverlabel": {
           "align": "left"
          },
          "hovermode": "closest",
          "mapbox": {
           "style": "light"
          },
          "paper_bgcolor": "white",
          "plot_bgcolor": "#E5ECF6",
          "polar": {
           "angularaxis": {
            "gridcolor": "white",
            "linecolor": "white",
            "ticks": ""
           },
           "bgcolor": "#E5ECF6",
           "radialaxis": {
            "gridcolor": "white",
            "linecolor": "white",
            "ticks": ""
           }
          },
          "scene": {
           "xaxis": {
            "backgroundcolor": "#E5ECF6",
            "gridcolor": "white",
            "gridwidth": 2,
            "linecolor": "white",
            "showbackground": true,
            "ticks": "",
            "zerolinecolor": "white"
           },
           "yaxis": {
            "backgroundcolor": "#E5ECF6",
            "gridcolor": "white",
            "gridwidth": 2,
            "linecolor": "white",
            "showbackground": true,
            "ticks": "",
            "zerolinecolor": "white"
           },
           "zaxis": {
            "backgroundcolor": "#E5ECF6",
            "gridcolor": "white",
            "gridwidth": 2,
            "linecolor": "white",
            "showbackground": true,
            "ticks": "",
            "zerolinecolor": "white"
           }
          },
          "shapedefaults": {
           "line": {
            "color": "#2a3f5f"
           }
          },
          "ternary": {
           "aaxis": {
            "gridcolor": "white",
            "linecolor": "white",
            "ticks": ""
           },
           "baxis": {
            "gridcolor": "white",
            "linecolor": "white",
            "ticks": ""
           },
           "bgcolor": "#E5ECF6",
           "caxis": {
            "gridcolor": "white",
            "linecolor": "white",
            "ticks": ""
           }
          },
          "title": {
           "x": 0.05
          },
          "xaxis": {
           "automargin": true,
           "gridcolor": "white",
           "linecolor": "white",
           "ticks": "",
           "title": {
            "standoff": 15
           },
           "zerolinecolor": "white",
           "zerolinewidth": 2
          },
          "yaxis": {
           "automargin": true,
           "gridcolor": "white",
           "linecolor": "white",
           "ticks": "",
           "title": {
            "standoff": 15
           },
           "zerolinecolor": "white",
           "zerolinewidth": 2
          }
         }
        },
        "title": {
         "text": "Secondary education enrollment in 2014"
        }
       }
      }
     },
     "metadata": {},
     "output_type": "display_data"
    }
   ],
   "source": [
    "dfEdStatsDataCountry2014 = dfEdStatsDataCountry[dfEdStatsDataCountry['indicator_code'] == 'SE.SEC.ENRR']\n",
    "dfEdStatsDataCountry2014 = dfEdStatsDataCountry2014[dfEdStatsDataCountry2014['2014'].notnull()]\n",
    "\n",
    "fig = px.choropleth(dfEdStatsDataCountry2014, locations='country_code', color='2014', hover_name='country_name', color_continuous_scale=px.colors.sequential.Plasma, title='Secondary education enrollment in 2014', labels={'2014':'Secondary education enrollment'})\n",
    "fig.show()"
   ]
  },
  {
   "cell_type": "markdown",
   "id": "ebde8361",
   "metadata": {},
   "source": [
    "> Interesting countries : Australia, Thailand, Finland, Sweden, UK, Ireland, Spain, ..."
   ]
  },
  {
   "cell_type": "markdown",
   "id": "6362a81e",
   "metadata": {},
   "source": [
    "Tertiary school enrolment rate"
   ]
  },
  {
   "cell_type": "code",
   "execution_count": 215,
   "id": "15c58a31",
   "metadata": {},
   "outputs": [
    {
     "data": {
      "application/vnd.plotly.v1+json": {
       "config": {
        "plotlyServerURL": "https://plot.ly"
       },
       "data": [
        {
         "coloraxis": "coloraxis",
         "geo": "geo",
         "hovertemplate": "<b>%{hovertext}</b><br><br>country_code=%{location}<br>Secondary education enrollment=%{z}<extra></extra>",
         "hovertext": [
          "Afghanistan",
          "Albania",
          "Algeria",
          "Argentina",
          "Armenia",
          "Aruba",
          "Australia",
          "Austria",
          "Azerbaijan",
          "Bahrain",
          "Bangladesh",
          "Belarus",
          "Belgium",
          "Bermuda",
          "Botswana",
          "Brazil",
          "Brunei Darussalam",
          "Bulgaria",
          "Burundi",
          "Cabo Verde",
          "Cameroon",
          "Chad",
          "Chile",
          "China",
          "Colombia",
          "Comoros",
          "Costa Rica",
          "Cote d'Ivoire",
          "Croatia",
          "Cuba",
          "Cyprus",
          "Czech Republic",
          "Denmark",
          "Dominican Republic",
          "Egypt, Arab Rep.",
          "El Salvador",
          "Eritrea",
          "Estonia",
          "Ethiopia",
          "Finland",
          "France",
          "Georgia",
          "Germany",
          "Ghana",
          "Greece",
          "Guinea",
          "Honduras",
          "Hong Kong SAR, China",
          "Hungary",
          "India",
          "Indonesia",
          "Iran, Islamic Rep.",
          "Ireland",
          "Israel",
          "Italy",
          "Japan",
          "Kazakhstan",
          "Korea, Rep.",
          "Kyrgyz Republic",
          "Lao PDR",
          "Latvia",
          "Lebanon",
          "Lesotho",
          "Liechtenstein",
          "Lithuania",
          "Macao SAR, China",
          "Macedonia, FYR",
          "Madagascar",
          "Malaysia",
          "Maldives",
          "Malta",
          "Mauritius",
          "Mexico",
          "Moldova",
          "Mongolia",
          "Morocco",
          "Mozambique",
          "Nepal",
          "New Zealand",
          "Norway",
          "Pakistan",
          "Philippines",
          "Poland",
          "Portugal",
          "Puerto Rico",
          "Qatar",
          "Romania",
          "Russian Federation",
          "Rwanda",
          "Sao Tome and Principe",
          "Saudi Arabia",
          "Senegal",
          "Serbia",
          "Seychelles",
          "Slovak Republic",
          "Slovenia",
          "South Africa",
          "Spain",
          "Sri Lanka",
          "St. Kitts and Nevis",
          "St. Lucia",
          "Sudan",
          "Sweden",
          "Switzerland",
          "Syrian Arab Republic",
          "Tajikistan",
          "Thailand",
          "Togo",
          "Tunisia",
          "Turkey",
          "Turkmenistan",
          "Uganda",
          "Ukraine",
          "United Kingdom",
          "United States",
          "Uruguay",
          "Uzbekistan",
          "Vietnam",
          "West Bank and Gaza"
         ],
         "locations": [
          "AFG",
          "ALB",
          "DZA",
          "ARG",
          "ARM",
          "ABW",
          "AUS",
          "AUT",
          "AZE",
          "BHR",
          "BGD",
          "BLR",
          "BEL",
          "BMU",
          "BWA",
          "BRA",
          "BRN",
          "BGR",
          "BDI",
          "CPV",
          "CMR",
          "TCD",
          "CHL",
          "CHN",
          "COL",
          "COM",
          "CRI",
          "CIV",
          "HRV",
          "CUB",
          "CYP",
          "CZE",
          "DNK",
          "DOM",
          "EGY",
          "SLV",
          "ERI",
          "EST",
          "ETH",
          "FIN",
          "FRA",
          "GEO",
          "DEU",
          "GHA",
          "GRC",
          "GIN",
          "HND",
          "HKG",
          "HUN",
          "IND",
          "IDN",
          "IRN",
          "IRL",
          "ISR",
          "ITA",
          "JPN",
          "KAZ",
          "KOR",
          "KGZ",
          "LAO",
          "LVA",
          "LBN",
          "LSO",
          "LIE",
          "LTU",
          "MAC",
          "MKD",
          "MDG",
          "MYS",
          "MDV",
          "MLT",
          "MUS",
          "MEX",
          "MDA",
          "MNG",
          "MAR",
          "MOZ",
          "NPL",
          "NZL",
          "NOR",
          "PAK",
          "PHL",
          "POL",
          "PRT",
          "PRI",
          "QAT",
          "ROU",
          "RUS",
          "RWA",
          "STP",
          "SAU",
          "SEN",
          "SRB",
          "SYC",
          "SVK",
          "SVN",
          "ZAF",
          "ESP",
          "LKA",
          "KNA",
          "LCA",
          "SDN",
          "SWE",
          "CHE",
          "SYR",
          "TJK",
          "THA",
          "TGO",
          "TUN",
          "TUR",
          "TKM",
          "UGA",
          "UKR",
          "GBR",
          "USA",
          "URY",
          "UZB",
          "VNM",
          "PSE"
         ],
         "name": "",
         "type": "choropleth",
         "z": [
          8.66279983520508,
          62.7068481445313,
          34.5938110351563,
          82.9173889160156,
          44.2546081542969,
          16.4054203033447,
          90.3065032958984,
          79.9986419677734,
          23.1597309112549,
          41.3086395263672,
          13.4407997131348,
          88.8570327758789,
          73.3188018798828,
          27.4597301483154,
          25.0358791351318,
          49.2798385620117,
          31.7253398895264,
          70.7856292724609,
          4.96606016159058,
          22.9821796417236,
          16.0061206817627,
          3.44538998603821,
          86.6306991577148,
          39.3903884887695,
          53.278938293457,
          8.9284200668335,
          53.0382804870605,
          8.68021011352539,
          69.5441513061523,
          40.9997596740723,
          53.1043510437012,
          66.0172576904297,
          81.516471862793,
          47.5157585144042,
          31.6789894104004,
          28.8529605865479,
          2.56538009643555,
          71.3769073486328,
          8.12604045867919,
          88.6715469360352,
          64.3904724121094,
          39.1786689758301,
          65.4738006591797,
          15.8938798904419,
          113.871788024902,
          10.8493299484253,
          21.184139251709,
          68.7787322998047,
          53.1928100585938,
          25.5354499816895,
          31.1021003723145,
          65.9575500488281,
          77.6269378662109,
          66.181037902832,
          63.0958518981934,
          63.3625907897949,
          48.4753303527832,
          94.2102127075195,
          45.9178314208984,
          17.2919406890869,
          67.0397262573242,
          42.7728309631348,
          9.84220027923583,
          37.4887084960938,
          68.5314102172852,
          69.3551025390625,
          39.5942001342773,
          4.77555990219116,
          27.6048393249512,
          16.2273807525635,
          44.6861991882324,
          38.6741218566895,
          29.9409008026123,
          41.4896697998047,
          64.2741775512695,
          25.1249198913574,
          5.9747200012207,
          15.832480430603,
          80.882942199707,
          76.7831573486328,
          10.3552303314209,
          35.7533302307129,
          68.1136169433594,
          65.6073837280273,
          84.3837814331055,
          13.4771003723145,
          53.2158584594727,
          78.6533737182617,
          7.56752014160156,
          9.75327014923096,
          61.1120185852051,
          10.3411998748779,
          58.0549697875977,
          6.42904996871948,
          52.923511505127,
          82.9264297485352,
          19.3750705718994,
          89.0721206665039,
          19.2876396179199,
          79.1048202514648,
          16.8602905273438,
          16.3206100463867,
          62.3534812927246,
          57.2295303344727,
          43.8529396057129,
          24.4749202728271,
          52.50537109375,
          10.1176204681396,
          34.5836715698242,
          86.3090133666992,
          7.98443984985352,
          4.76081991195679,
          82.3050308227539,
          56.4767684936523,
          86.663963317871,
          56.3440399169922,
          8.574049949646,
          30.4777393341064,
          44.0068702697754
         ]
        }
       ],
       "layout": {
        "coloraxis": {
         "colorbar": {
          "title": {
           "text": "Secondary education enrollment"
          }
         },
         "colorscale": [
          [
           0,
           "#0d0887"
          ],
          [
           0.1111111111111111,
           "#46039f"
          ],
          [
           0.2222222222222222,
           "#7201a8"
          ],
          [
           0.3333333333333333,
           "#9c179e"
          ],
          [
           0.4444444444444444,
           "#bd3786"
          ],
          [
           0.5555555555555556,
           "#d8576b"
          ],
          [
           0.6666666666666666,
           "#ed7953"
          ],
          [
           0.7777777777777778,
           "#fb9f3a"
          ],
          [
           0.8888888888888888,
           "#fdca26"
          ],
          [
           1,
           "#f0f921"
          ]
         ]
        },
        "geo": {
         "center": {},
         "domain": {
          "x": [
           0,
           1
          ],
          "y": [
           0,
           1
          ]
         }
        },
        "legend": {
         "tracegroupgap": 0
        },
        "template": {
         "data": {
          "bar": [
           {
            "error_x": {
             "color": "#2a3f5f"
            },
            "error_y": {
             "color": "#2a3f5f"
            },
            "marker": {
             "line": {
              "color": "#E5ECF6",
              "width": 0.5
             },
             "pattern": {
              "fillmode": "overlay",
              "size": 10,
              "solidity": 0.2
             }
            },
            "type": "bar"
           }
          ],
          "barpolar": [
           {
            "marker": {
             "line": {
              "color": "#E5ECF6",
              "width": 0.5
             },
             "pattern": {
              "fillmode": "overlay",
              "size": 10,
              "solidity": 0.2
             }
            },
            "type": "barpolar"
           }
          ],
          "carpet": [
           {
            "aaxis": {
             "endlinecolor": "#2a3f5f",
             "gridcolor": "white",
             "linecolor": "white",
             "minorgridcolor": "white",
             "startlinecolor": "#2a3f5f"
            },
            "baxis": {
             "endlinecolor": "#2a3f5f",
             "gridcolor": "white",
             "linecolor": "white",
             "minorgridcolor": "white",
             "startlinecolor": "#2a3f5f"
            },
            "type": "carpet"
           }
          ],
          "choropleth": [
           {
            "colorbar": {
             "outlinewidth": 0,
             "ticks": ""
            },
            "type": "choropleth"
           }
          ],
          "contour": [
           {
            "colorbar": {
             "outlinewidth": 0,
             "ticks": ""
            },
            "colorscale": [
             [
              0,
              "#0d0887"
             ],
             [
              0.1111111111111111,
              "#46039f"
             ],
             [
              0.2222222222222222,
              "#7201a8"
             ],
             [
              0.3333333333333333,
              "#9c179e"
             ],
             [
              0.4444444444444444,
              "#bd3786"
             ],
             [
              0.5555555555555556,
              "#d8576b"
             ],
             [
              0.6666666666666666,
              "#ed7953"
             ],
             [
              0.7777777777777778,
              "#fb9f3a"
             ],
             [
              0.8888888888888888,
              "#fdca26"
             ],
             [
              1,
              "#f0f921"
             ]
            ],
            "type": "contour"
           }
          ],
          "contourcarpet": [
           {
            "colorbar": {
             "outlinewidth": 0,
             "ticks": ""
            },
            "type": "contourcarpet"
           }
          ],
          "heatmap": [
           {
            "colorbar": {
             "outlinewidth": 0,
             "ticks": ""
            },
            "colorscale": [
             [
              0,
              "#0d0887"
             ],
             [
              0.1111111111111111,
              "#46039f"
             ],
             [
              0.2222222222222222,
              "#7201a8"
             ],
             [
              0.3333333333333333,
              "#9c179e"
             ],
             [
              0.4444444444444444,
              "#bd3786"
             ],
             [
              0.5555555555555556,
              "#d8576b"
             ],
             [
              0.6666666666666666,
              "#ed7953"
             ],
             [
              0.7777777777777778,
              "#fb9f3a"
             ],
             [
              0.8888888888888888,
              "#fdca26"
             ],
             [
              1,
              "#f0f921"
             ]
            ],
            "type": "heatmap"
           }
          ],
          "heatmapgl": [
           {
            "colorbar": {
             "outlinewidth": 0,
             "ticks": ""
            },
            "colorscale": [
             [
              0,
              "#0d0887"
             ],
             [
              0.1111111111111111,
              "#46039f"
             ],
             [
              0.2222222222222222,
              "#7201a8"
             ],
             [
              0.3333333333333333,
              "#9c179e"
             ],
             [
              0.4444444444444444,
              "#bd3786"
             ],
             [
              0.5555555555555556,
              "#d8576b"
             ],
             [
              0.6666666666666666,
              "#ed7953"
             ],
             [
              0.7777777777777778,
              "#fb9f3a"
             ],
             [
              0.8888888888888888,
              "#fdca26"
             ],
             [
              1,
              "#f0f921"
             ]
            ],
            "type": "heatmapgl"
           }
          ],
          "histogram": [
           {
            "marker": {
             "pattern": {
              "fillmode": "overlay",
              "size": 10,
              "solidity": 0.2
             }
            },
            "type": "histogram"
           }
          ],
          "histogram2d": [
           {
            "colorbar": {
             "outlinewidth": 0,
             "ticks": ""
            },
            "colorscale": [
             [
              0,
              "#0d0887"
             ],
             [
              0.1111111111111111,
              "#46039f"
             ],
             [
              0.2222222222222222,
              "#7201a8"
             ],
             [
              0.3333333333333333,
              "#9c179e"
             ],
             [
              0.4444444444444444,
              "#bd3786"
             ],
             [
              0.5555555555555556,
              "#d8576b"
             ],
             [
              0.6666666666666666,
              "#ed7953"
             ],
             [
              0.7777777777777778,
              "#fb9f3a"
             ],
             [
              0.8888888888888888,
              "#fdca26"
             ],
             [
              1,
              "#f0f921"
             ]
            ],
            "type": "histogram2d"
           }
          ],
          "histogram2dcontour": [
           {
            "colorbar": {
             "outlinewidth": 0,
             "ticks": ""
            },
            "colorscale": [
             [
              0,
              "#0d0887"
             ],
             [
              0.1111111111111111,
              "#46039f"
             ],
             [
              0.2222222222222222,
              "#7201a8"
             ],
             [
              0.3333333333333333,
              "#9c179e"
             ],
             [
              0.4444444444444444,
              "#bd3786"
             ],
             [
              0.5555555555555556,
              "#d8576b"
             ],
             [
              0.6666666666666666,
              "#ed7953"
             ],
             [
              0.7777777777777778,
              "#fb9f3a"
             ],
             [
              0.8888888888888888,
              "#fdca26"
             ],
             [
              1,
              "#f0f921"
             ]
            ],
            "type": "histogram2dcontour"
           }
          ],
          "mesh3d": [
           {
            "colorbar": {
             "outlinewidth": 0,
             "ticks": ""
            },
            "type": "mesh3d"
           }
          ],
          "parcoords": [
           {
            "line": {
             "colorbar": {
              "outlinewidth": 0,
              "ticks": ""
             }
            },
            "type": "parcoords"
           }
          ],
          "pie": [
           {
            "automargin": true,
            "type": "pie"
           }
          ],
          "scatter": [
           {
            "fillpattern": {
             "fillmode": "overlay",
             "size": 10,
             "solidity": 0.2
            },
            "type": "scatter"
           }
          ],
          "scatter3d": [
           {
            "line": {
             "colorbar": {
              "outlinewidth": 0,
              "ticks": ""
             }
            },
            "marker": {
             "colorbar": {
              "outlinewidth": 0,
              "ticks": ""
             }
            },
            "type": "scatter3d"
           }
          ],
          "scattercarpet": [
           {
            "marker": {
             "colorbar": {
              "outlinewidth": 0,
              "ticks": ""
             }
            },
            "type": "scattercarpet"
           }
          ],
          "scattergeo": [
           {
            "marker": {
             "colorbar": {
              "outlinewidth": 0,
              "ticks": ""
             }
            },
            "type": "scattergeo"
           }
          ],
          "scattergl": [
           {
            "marker": {
             "colorbar": {
              "outlinewidth": 0,
              "ticks": ""
             }
            },
            "type": "scattergl"
           }
          ],
          "scattermapbox": [
           {
            "marker": {
             "colorbar": {
              "outlinewidth": 0,
              "ticks": ""
             }
            },
            "type": "scattermapbox"
           }
          ],
          "scatterpolar": [
           {
            "marker": {
             "colorbar": {
              "outlinewidth": 0,
              "ticks": ""
             }
            },
            "type": "scatterpolar"
           }
          ],
          "scatterpolargl": [
           {
            "marker": {
             "colorbar": {
              "outlinewidth": 0,
              "ticks": ""
             }
            },
            "type": "scatterpolargl"
           }
          ],
          "scatterternary": [
           {
            "marker": {
             "colorbar": {
              "outlinewidth": 0,
              "ticks": ""
             }
            },
            "type": "scatterternary"
           }
          ],
          "surface": [
           {
            "colorbar": {
             "outlinewidth": 0,
             "ticks": ""
            },
            "colorscale": [
             [
              0,
              "#0d0887"
             ],
             [
              0.1111111111111111,
              "#46039f"
             ],
             [
              0.2222222222222222,
              "#7201a8"
             ],
             [
              0.3333333333333333,
              "#9c179e"
             ],
             [
              0.4444444444444444,
              "#bd3786"
             ],
             [
              0.5555555555555556,
              "#d8576b"
             ],
             [
              0.6666666666666666,
              "#ed7953"
             ],
             [
              0.7777777777777778,
              "#fb9f3a"
             ],
             [
              0.8888888888888888,
              "#fdca26"
             ],
             [
              1,
              "#f0f921"
             ]
            ],
            "type": "surface"
           }
          ],
          "table": [
           {
            "cells": {
             "fill": {
              "color": "#EBF0F8"
             },
             "line": {
              "color": "white"
             }
            },
            "header": {
             "fill": {
              "color": "#C8D4E3"
             },
             "line": {
              "color": "white"
             }
            },
            "type": "table"
           }
          ]
         },
         "layout": {
          "annotationdefaults": {
           "arrowcolor": "#2a3f5f",
           "arrowhead": 0,
           "arrowwidth": 1
          },
          "autotypenumbers": "strict",
          "coloraxis": {
           "colorbar": {
            "outlinewidth": 0,
            "ticks": ""
           }
          },
          "colorscale": {
           "diverging": [
            [
             0,
             "#8e0152"
            ],
            [
             0.1,
             "#c51b7d"
            ],
            [
             0.2,
             "#de77ae"
            ],
            [
             0.3,
             "#f1b6da"
            ],
            [
             0.4,
             "#fde0ef"
            ],
            [
             0.5,
             "#f7f7f7"
            ],
            [
             0.6,
             "#e6f5d0"
            ],
            [
             0.7,
             "#b8e186"
            ],
            [
             0.8,
             "#7fbc41"
            ],
            [
             0.9,
             "#4d9221"
            ],
            [
             1,
             "#276419"
            ]
           ],
           "sequential": [
            [
             0,
             "#0d0887"
            ],
            [
             0.1111111111111111,
             "#46039f"
            ],
            [
             0.2222222222222222,
             "#7201a8"
            ],
            [
             0.3333333333333333,
             "#9c179e"
            ],
            [
             0.4444444444444444,
             "#bd3786"
            ],
            [
             0.5555555555555556,
             "#d8576b"
            ],
            [
             0.6666666666666666,
             "#ed7953"
            ],
            [
             0.7777777777777778,
             "#fb9f3a"
            ],
            [
             0.8888888888888888,
             "#fdca26"
            ],
            [
             1,
             "#f0f921"
            ]
           ],
           "sequentialminus": [
            [
             0,
             "#0d0887"
            ],
            [
             0.1111111111111111,
             "#46039f"
            ],
            [
             0.2222222222222222,
             "#7201a8"
            ],
            [
             0.3333333333333333,
             "#9c179e"
            ],
            [
             0.4444444444444444,
             "#bd3786"
            ],
            [
             0.5555555555555556,
             "#d8576b"
            ],
            [
             0.6666666666666666,
             "#ed7953"
            ],
            [
             0.7777777777777778,
             "#fb9f3a"
            ],
            [
             0.8888888888888888,
             "#fdca26"
            ],
            [
             1,
             "#f0f921"
            ]
           ]
          },
          "colorway": [
           "#636efa",
           "#EF553B",
           "#00cc96",
           "#ab63fa",
           "#FFA15A",
           "#19d3f3",
           "#FF6692",
           "#B6E880",
           "#FF97FF",
           "#FECB52"
          ],
          "font": {
           "color": "#2a3f5f"
          },
          "geo": {
           "bgcolor": "white",
           "lakecolor": "white",
           "landcolor": "#E5ECF6",
           "showlakes": true,
           "showland": true,
           "subunitcolor": "white"
          },
          "hoverlabel": {
           "align": "left"
          },
          "hovermode": "closest",
          "mapbox": {
           "style": "light"
          },
          "paper_bgcolor": "white",
          "plot_bgcolor": "#E5ECF6",
          "polar": {
           "angularaxis": {
            "gridcolor": "white",
            "linecolor": "white",
            "ticks": ""
           },
           "bgcolor": "#E5ECF6",
           "radialaxis": {
            "gridcolor": "white",
            "linecolor": "white",
            "ticks": ""
           }
          },
          "scene": {
           "xaxis": {
            "backgroundcolor": "#E5ECF6",
            "gridcolor": "white",
            "gridwidth": 2,
            "linecolor": "white",
            "showbackground": true,
            "ticks": "",
            "zerolinecolor": "white"
           },
           "yaxis": {
            "backgroundcolor": "#E5ECF6",
            "gridcolor": "white",
            "gridwidth": 2,
            "linecolor": "white",
            "showbackground": true,
            "ticks": "",
            "zerolinecolor": "white"
           },
           "zaxis": {
            "backgroundcolor": "#E5ECF6",
            "gridcolor": "white",
            "gridwidth": 2,
            "linecolor": "white",
            "showbackground": true,
            "ticks": "",
            "zerolinecolor": "white"
           }
          },
          "shapedefaults": {
           "line": {
            "color": "#2a3f5f"
           }
          },
          "ternary": {
           "aaxis": {
            "gridcolor": "white",
            "linecolor": "white",
            "ticks": ""
           },
           "baxis": {
            "gridcolor": "white",
            "linecolor": "white",
            "ticks": ""
           },
           "bgcolor": "#E5ECF6",
           "caxis": {
            "gridcolor": "white",
            "linecolor": "white",
            "ticks": ""
           }
          },
          "title": {
           "x": 0.05
          },
          "xaxis": {
           "automargin": true,
           "gridcolor": "white",
           "linecolor": "white",
           "ticks": "",
           "title": {
            "standoff": 15
           },
           "zerolinecolor": "white",
           "zerolinewidth": 2
          },
          "yaxis": {
           "automargin": true,
           "gridcolor": "white",
           "linecolor": "white",
           "ticks": "",
           "title": {
            "standoff": 15
           },
           "zerolinecolor": "white",
           "zerolinewidth": 2
          }
         }
        },
        "title": {
         "text": "Tertiary education enrollment in 2014"
        }
       }
      }
     },
     "metadata": {},
     "output_type": "display_data"
    }
   ],
   "source": [
    "dfEdStatsDataCountry2014 = dfEdStatsDataCountry[dfEdStatsDataCountry['indicator_code'] == 'SE.TER.ENRR']\n",
    "dfEdStatsDataCountry2014 = dfEdStatsDataCountry2014[dfEdStatsDataCountry2014['2014'].notnull()]\n",
    "\n",
    "fig = px.choropleth(dfEdStatsDataCountry2014, locations='country_code', color='2014', hover_name='country_name', color_continuous_scale=px.colors.sequential.Plasma, title='Tertiary education enrollment in 2014', labels={'2014':'Secondary education enrollment'})\n",
    "fig.show()"
   ]
  },
  {
   "cell_type": "markdown",
   "id": "dc34f1a8",
   "metadata": {},
   "source": [
    "> Interesting countries : Austalia, Argentina, Chile, USA, Greece, Spain, Findland, Belarus, ..."
   ]
  },
  {
   "cell_type": "markdown",
   "id": "3342aacf",
   "metadata": {},
   "source": [
    "Numeric"
   ]
  },
  {
   "cell_type": "code",
   "execution_count": 216,
   "id": "f39a972e",
   "metadata": {},
   "outputs": [
    {
     "data": {
      "application/vnd.plotly.v1+json": {
       "config": {
        "plotlyServerURL": "https://plot.ly"
       },
       "data": [
        {
         "coloraxis": "coloraxis",
         "geo": "geo",
         "hovertemplate": "<b>%{hovertext}</b><br><br>country_code=%{location}<br>Internet users=%{z}<extra></extra>",
         "hovertext": [
          "Afghanistan",
          "Albania",
          "Algeria",
          "Andorra",
          "Angola",
          "Antigua and Barbuda",
          "Argentina",
          "Armenia",
          "Aruba",
          "Australia",
          "Austria",
          "Azerbaijan",
          "Bahamas, The",
          "Bahrain",
          "Bangladesh",
          "Barbados",
          "Belarus",
          "Belgium",
          "Belize",
          "Benin",
          "Bermuda",
          "Bhutan",
          "Bolivia",
          "Bosnia and Herzegovina",
          "Botswana",
          "Brazil",
          "Brunei Darussalam",
          "Bulgaria",
          "Burkina Faso",
          "Burundi",
          "Cabo Verde",
          "Cambodia",
          "Cameroon",
          "Canada",
          "Cayman Islands",
          "Central African Republic",
          "Chad",
          "Chile",
          "China",
          "Colombia",
          "Comoros",
          "Congo, Dem. Rep.",
          "Congo, Rep.",
          "Costa Rica",
          "Cote d'Ivoire",
          "Croatia",
          "Cuba",
          "Cyprus",
          "Czech Republic",
          "Denmark",
          "Djibouti",
          "Dominica",
          "Dominican Republic",
          "Ecuador",
          "Egypt, Arab Rep.",
          "El Salvador",
          "Equatorial Guinea",
          "Eritrea",
          "Estonia",
          "Ethiopia",
          "Faroe Islands",
          "Fiji",
          "Finland",
          "France",
          "French Polynesia",
          "Gabon",
          "Gambia, The",
          "Georgia",
          "Germany",
          "Ghana",
          "Gibraltar",
          "Greece",
          "Greenland",
          "Grenada",
          "Guam",
          "Guatemala",
          "Guinea",
          "Guinea-Bissau",
          "Guyana",
          "Haiti",
          "Honduras",
          "Hong Kong SAR, China",
          "Hungary",
          "Iceland",
          "India",
          "Indonesia",
          "Iran, Islamic Rep.",
          "Iraq",
          "Ireland",
          "Israel",
          "Italy",
          "Jamaica",
          "Japan",
          "Jordan",
          "Kazakhstan",
          "Kenya",
          "Kiribati",
          "Korea, Rep.",
          "Kuwait",
          "Kyrgyz Republic",
          "Lao PDR",
          "Latvia",
          "Lebanon",
          "Lesotho",
          "Liberia",
          "Libya",
          "Liechtenstein",
          "Lithuania",
          "Luxembourg",
          "Macao SAR, China",
          "Macedonia, FYR",
          "Madagascar",
          "Malawi",
          "Malaysia",
          "Maldives",
          "Mali",
          "Malta",
          "Marshall Islands",
          "Mauritania",
          "Mauritius",
          "Mexico",
          "Micronesia, Fed. Sts.",
          "Moldova",
          "Monaco",
          "Mongolia",
          "Montenegro",
          "Morocco",
          "Mozambique",
          "Myanmar",
          "Namibia",
          "Nepal",
          "Netherlands",
          "New Zealand",
          "Nicaragua",
          "Niger",
          "Nigeria",
          "Norway",
          "Oman",
          "Pakistan",
          "Panama",
          "Papua New Guinea",
          "Paraguay",
          "Peru",
          "Philippines",
          "Poland",
          "Portugal",
          "Puerto Rico",
          "Qatar",
          "Romania",
          "Russian Federation",
          "Rwanda",
          "Samoa",
          "Sao Tome and Principe",
          "Saudi Arabia",
          "Senegal",
          "Serbia",
          "Seychelles",
          "Sierra Leone",
          "Singapore",
          "Slovak Republic",
          "Slovenia",
          "Solomon Islands",
          "Somalia",
          "South Africa",
          "Spain",
          "Sri Lanka",
          "St. Kitts and Nevis",
          "St. Lucia",
          "St. Vincent and the Grenadines",
          "Sudan",
          "Suriname",
          "Swaziland",
          "Sweden",
          "Switzerland",
          "Syrian Arab Republic",
          "Tajikistan",
          "Tanzania",
          "Thailand",
          "Timor-Leste",
          "Togo",
          "Tonga",
          "Trinidad and Tobago",
          "Tunisia",
          "Turkey",
          "Turkmenistan",
          "Tuvalu",
          "Uganda",
          "Ukraine",
          "United Arab Emirates",
          "United Kingdom",
          "United States",
          "Uruguay",
          "Uzbekistan",
          "Vanuatu",
          "Venezuela, RB",
          "Vietnam",
          "Virgin Islands (U.S.)",
          "West Bank and Gaza",
          "Yemen, Rep.",
          "Zambia",
          "Zimbabwe"
         ],
         "locations": [
          "AFG",
          "ALB",
          "DZA",
          "AND",
          "AGO",
          "ATG",
          "ARG",
          "ARM",
          "ABW",
          "AUS",
          "AUT",
          "AZE",
          "BHS",
          "BHR",
          "BGD",
          "BRB",
          "BLR",
          "BEL",
          "BLZ",
          "BEN",
          "BMU",
          "BTN",
          "BOL",
          "BIH",
          "BWA",
          "BRA",
          "BRN",
          "BGR",
          "BFA",
          "BDI",
          "CPV",
          "KHM",
          "CMR",
          "CAN",
          "CYM",
          "CAF",
          "TCD",
          "CHL",
          "CHN",
          "COL",
          "COM",
          "COD",
          "COG",
          "CRI",
          "CIV",
          "HRV",
          "CUB",
          "CYP",
          "CZE",
          "DNK",
          "DJI",
          "DMA",
          "DOM",
          "ECU",
          "EGY",
          "SLV",
          "GNQ",
          "ERI",
          "EST",
          "ETH",
          "FRO",
          "FJI",
          "FIN",
          "FRA",
          "PYF",
          "GAB",
          "GMB",
          "GEO",
          "DEU",
          "GHA",
          "GIB",
          "GRC",
          "GRL",
          "GRD",
          "GUM",
          "GTM",
          "GIN",
          "GNB",
          "GUY",
          "HTI",
          "HND",
          "HKG",
          "HUN",
          "ISL",
          "IND",
          "IDN",
          "IRN",
          "IRQ",
          "IRL",
          "ISR",
          "ITA",
          "JAM",
          "JPN",
          "JOR",
          "KAZ",
          "KEN",
          "KIR",
          "KOR",
          "KWT",
          "KGZ",
          "LAO",
          "LVA",
          "LBN",
          "LSO",
          "LBR",
          "LBY",
          "LIE",
          "LTU",
          "LUX",
          "MAC",
          "MKD",
          "MDG",
          "MWI",
          "MYS",
          "MDV",
          "MLI",
          "MLT",
          "MHL",
          "MRT",
          "MUS",
          "MEX",
          "FSM",
          "MDA",
          "MCO",
          "MNG",
          "MNE",
          "MAR",
          "MOZ",
          "MMR",
          "NAM",
          "NPL",
          "NLD",
          "NZL",
          "NIC",
          "NER",
          "NGA",
          "NOR",
          "OMN",
          "PAK",
          "PAN",
          "PNG",
          "PRY",
          "PER",
          "PHL",
          "POL",
          "PRT",
          "PRI",
          "QAT",
          "ROU",
          "RUS",
          "RWA",
          "WSM",
          "STP",
          "SAU",
          "SEN",
          "SRB",
          "SYC",
          "SLE",
          "SGP",
          "SVK",
          "SVN",
          "SLB",
          "SOM",
          "ZAF",
          "ESP",
          "LKA",
          "KNA",
          "LCA",
          "VCT",
          "SDN",
          "SUR",
          "SWZ",
          "SWE",
          "CHE",
          "SYR",
          "TJK",
          "TZA",
          "THA",
          "TLS",
          "TGO",
          "TON",
          "TTO",
          "TUN",
          "TUR",
          "TKM",
          "TUV",
          "UGA",
          "UKR",
          "ARE",
          "GBR",
          "USA",
          "URY",
          "UZB",
          "VUT",
          "VEN",
          "VNM",
          "VIR",
          "PSE",
          "YEM",
          "ZMB",
          "ZWE"
         ],
         "name": "",
         "type": "choropleth",
         "z": [
          10.59572642,
          66.3634447,
          42.94552688,
          97.93063712,
          13,
          73,
          70.15076431,
          62,
          93.54245387,
          88.23865805,
          84.32333129,
          78.2,
          80,
          97.9999807,
          18.246938,
          79.54939789,
          71.11304576,
          86.5165,
          44.57574032,
          11.99404791,
          98,
          41.77264453,
          39.6975146,
          69.33100561,
          39.36299738,
          59.68274736,
          75,
          59.82554766,
          13.96,
          5.173626777,
          48.1652774,
          25.5706868,
          25,
          89.84,
          79,
          4,
          5,
          66.01,
          53.2,
          58.13649357,
          7.938322771,
          6.20997406,
          8.121949323,
          66.02871285,
          26.52722561,
          72.69730605,
          38.76586728,
          75.90036019,
          76.48120138,
          96.96778525,
          13.13491511,
          67.03,
          61.32819041,
          54.06292473,
          39.21381268,
          28.99707305,
          23.77999997,
          1.17711872,
          87.23733209,
          15.36692386,
          95.10868167,
          46.50697831,
          87.70364996,
          85.62219995,
          68.44041949,
          48.05227375,
          18.5,
          50.00163739,
          89.64710059,
          34.66600065,
          94.44447158,
          69.08791547,
          68.50087368,
          55.85640782,
          77.00999989,
          34.50932609,
          9.8,
          3.761413832,
          35.66,
          12.23260161,
          30,
          87.30034325,
          79.25940132,
          98.2400163,
          29.54716289,
          25.36630059,
          53.22677263,
          21.23,
          82.1697,
          79.77879126,
          61.32425277,
          45,
          92,
          62.30219257,
          76.8,
          26,
          13.7,
          92.71654537,
          78.36738376,
          34.5,
          21.87,
          79.88937141,
          76.11,
          27.36,
          7.319106411,
          20.27215956,
          98.09390389,
          74.37664556,
          97.49393019,
          81.64298546,
          72.15681447,
          4.713662899,
          9.614097296,
          78.78830993,
          59.09258997,
          11.11218649,
          77.28939482,
          29.78777936,
          18,
          53.22617811,
          59.540446,
          33.35216255,
          70.99999911,
          95.20817797,
          22.2657705,
          69.88164684,
          58.27123642,
          17.52123909,
          25.07330424,
          31.03334594,
          19.68876384,
          90.4109589,
          88.47018635,
          24.57183396,
          4.32275803,
          25.67,
          97.29820367,
          69.81521334,
          15.51455779,
          54,
          9.601538462,
          51.34987436,
          45.46174069,
          55.5,
          73.3007,
          70.42356709,
          80.32,
          94.29111815,
          59.50395129,
          76.40908522,
          20,
          29.41173011,
          28,
          73.75090368,
          25.66476804,
          67.05684137,
          56.51470815,
          11.77318438,
          81,
          80.4759,
          75.49850426,
          11.00090227,
          1.88,
          54,
          80.56133294,
          32.05100274,
          76.81767491,
          46.72907806,
          55.57461942,
          28,
          45.4,
          28.57352278,
          91.50682826,
          89.4055681,
          31.86962727,
          20.47,
          13,
          47.50496562,
          25.24624959,
          11.31,
          39.95,
          73.29694122,
          50.87967502,
          58.34773401,
          17.99032446,
          46.00915151,
          21.87617046,
          52.48180829,
          90.60000732,
          94.77580063,
          76.17673698,
          66.4,
          46.79128694,
          24,
          60,
          46.5,
          59.6083158,
          61.17838483,
          24.57920836,
          25.50657885,
          23.11998904
         ]
        }
       ],
       "layout": {
        "coloraxis": {
         "colorbar": {
          "title": {
           "text": "Internet users"
          }
         },
         "colorscale": [
          [
           0,
           "#0d0887"
          ],
          [
           0.1111111111111111,
           "#46039f"
          ],
          [
           0.2222222222222222,
           "#7201a8"
          ],
          [
           0.3333333333333333,
           "#9c179e"
          ],
          [
           0.4444444444444444,
           "#bd3786"
          ],
          [
           0.5555555555555556,
           "#d8576b"
          ],
          [
           0.6666666666666666,
           "#ed7953"
          ],
          [
           0.7777777777777778,
           "#fb9f3a"
          ],
          [
           0.8888888888888888,
           "#fdca26"
          ],
          [
           1,
           "#f0f921"
          ]
         ]
        },
        "geo": {
         "center": {},
         "domain": {
          "x": [
           0,
           1
          ],
          "y": [
           0,
           1
          ]
         }
        },
        "legend": {
         "tracegroupgap": 0
        },
        "template": {
         "data": {
          "bar": [
           {
            "error_x": {
             "color": "#2a3f5f"
            },
            "error_y": {
             "color": "#2a3f5f"
            },
            "marker": {
             "line": {
              "color": "#E5ECF6",
              "width": 0.5
             },
             "pattern": {
              "fillmode": "overlay",
              "size": 10,
              "solidity": 0.2
             }
            },
            "type": "bar"
           }
          ],
          "barpolar": [
           {
            "marker": {
             "line": {
              "color": "#E5ECF6",
              "width": 0.5
             },
             "pattern": {
              "fillmode": "overlay",
              "size": 10,
              "solidity": 0.2
             }
            },
            "type": "barpolar"
           }
          ],
          "carpet": [
           {
            "aaxis": {
             "endlinecolor": "#2a3f5f",
             "gridcolor": "white",
             "linecolor": "white",
             "minorgridcolor": "white",
             "startlinecolor": "#2a3f5f"
            },
            "baxis": {
             "endlinecolor": "#2a3f5f",
             "gridcolor": "white",
             "linecolor": "white",
             "minorgridcolor": "white",
             "startlinecolor": "#2a3f5f"
            },
            "type": "carpet"
           }
          ],
          "choropleth": [
           {
            "colorbar": {
             "outlinewidth": 0,
             "ticks": ""
            },
            "type": "choropleth"
           }
          ],
          "contour": [
           {
            "colorbar": {
             "outlinewidth": 0,
             "ticks": ""
            },
            "colorscale": [
             [
              0,
              "#0d0887"
             ],
             [
              0.1111111111111111,
              "#46039f"
             ],
             [
              0.2222222222222222,
              "#7201a8"
             ],
             [
              0.3333333333333333,
              "#9c179e"
             ],
             [
              0.4444444444444444,
              "#bd3786"
             ],
             [
              0.5555555555555556,
              "#d8576b"
             ],
             [
              0.6666666666666666,
              "#ed7953"
             ],
             [
              0.7777777777777778,
              "#fb9f3a"
             ],
             [
              0.8888888888888888,
              "#fdca26"
             ],
             [
              1,
              "#f0f921"
             ]
            ],
            "type": "contour"
           }
          ],
          "contourcarpet": [
           {
            "colorbar": {
             "outlinewidth": 0,
             "ticks": ""
            },
            "type": "contourcarpet"
           }
          ],
          "heatmap": [
           {
            "colorbar": {
             "outlinewidth": 0,
             "ticks": ""
            },
            "colorscale": [
             [
              0,
              "#0d0887"
             ],
             [
              0.1111111111111111,
              "#46039f"
             ],
             [
              0.2222222222222222,
              "#7201a8"
             ],
             [
              0.3333333333333333,
              "#9c179e"
             ],
             [
              0.4444444444444444,
              "#bd3786"
             ],
             [
              0.5555555555555556,
              "#d8576b"
             ],
             [
              0.6666666666666666,
              "#ed7953"
             ],
             [
              0.7777777777777778,
              "#fb9f3a"
             ],
             [
              0.8888888888888888,
              "#fdca26"
             ],
             [
              1,
              "#f0f921"
             ]
            ],
            "type": "heatmap"
           }
          ],
          "heatmapgl": [
           {
            "colorbar": {
             "outlinewidth": 0,
             "ticks": ""
            },
            "colorscale": [
             [
              0,
              "#0d0887"
             ],
             [
              0.1111111111111111,
              "#46039f"
             ],
             [
              0.2222222222222222,
              "#7201a8"
             ],
             [
              0.3333333333333333,
              "#9c179e"
             ],
             [
              0.4444444444444444,
              "#bd3786"
             ],
             [
              0.5555555555555556,
              "#d8576b"
             ],
             [
              0.6666666666666666,
              "#ed7953"
             ],
             [
              0.7777777777777778,
              "#fb9f3a"
             ],
             [
              0.8888888888888888,
              "#fdca26"
             ],
             [
              1,
              "#f0f921"
             ]
            ],
            "type": "heatmapgl"
           }
          ],
          "histogram": [
           {
            "marker": {
             "pattern": {
              "fillmode": "overlay",
              "size": 10,
              "solidity": 0.2
             }
            },
            "type": "histogram"
           }
          ],
          "histogram2d": [
           {
            "colorbar": {
             "outlinewidth": 0,
             "ticks": ""
            },
            "colorscale": [
             [
              0,
              "#0d0887"
             ],
             [
              0.1111111111111111,
              "#46039f"
             ],
             [
              0.2222222222222222,
              "#7201a8"
             ],
             [
              0.3333333333333333,
              "#9c179e"
             ],
             [
              0.4444444444444444,
              "#bd3786"
             ],
             [
              0.5555555555555556,
              "#d8576b"
             ],
             [
              0.6666666666666666,
              "#ed7953"
             ],
             [
              0.7777777777777778,
              "#fb9f3a"
             ],
             [
              0.8888888888888888,
              "#fdca26"
             ],
             [
              1,
              "#f0f921"
             ]
            ],
            "type": "histogram2d"
           }
          ],
          "histogram2dcontour": [
           {
            "colorbar": {
             "outlinewidth": 0,
             "ticks": ""
            },
            "colorscale": [
             [
              0,
              "#0d0887"
             ],
             [
              0.1111111111111111,
              "#46039f"
             ],
             [
              0.2222222222222222,
              "#7201a8"
             ],
             [
              0.3333333333333333,
              "#9c179e"
             ],
             [
              0.4444444444444444,
              "#bd3786"
             ],
             [
              0.5555555555555556,
              "#d8576b"
             ],
             [
              0.6666666666666666,
              "#ed7953"
             ],
             [
              0.7777777777777778,
              "#fb9f3a"
             ],
             [
              0.8888888888888888,
              "#fdca26"
             ],
             [
              1,
              "#f0f921"
             ]
            ],
            "type": "histogram2dcontour"
           }
          ],
          "mesh3d": [
           {
            "colorbar": {
             "outlinewidth": 0,
             "ticks": ""
            },
            "type": "mesh3d"
           }
          ],
          "parcoords": [
           {
            "line": {
             "colorbar": {
              "outlinewidth": 0,
              "ticks": ""
             }
            },
            "type": "parcoords"
           }
          ],
          "pie": [
           {
            "automargin": true,
            "type": "pie"
           }
          ],
          "scatter": [
           {
            "fillpattern": {
             "fillmode": "overlay",
             "size": 10,
             "solidity": 0.2
            },
            "type": "scatter"
           }
          ],
          "scatter3d": [
           {
            "line": {
             "colorbar": {
              "outlinewidth": 0,
              "ticks": ""
             }
            },
            "marker": {
             "colorbar": {
              "outlinewidth": 0,
              "ticks": ""
             }
            },
            "type": "scatter3d"
           }
          ],
          "scattercarpet": [
           {
            "marker": {
             "colorbar": {
              "outlinewidth": 0,
              "ticks": ""
             }
            },
            "type": "scattercarpet"
           }
          ],
          "scattergeo": [
           {
            "marker": {
             "colorbar": {
              "outlinewidth": 0,
              "ticks": ""
             }
            },
            "type": "scattergeo"
           }
          ],
          "scattergl": [
           {
            "marker": {
             "colorbar": {
              "outlinewidth": 0,
              "ticks": ""
             }
            },
            "type": "scattergl"
           }
          ],
          "scattermapbox": [
           {
            "marker": {
             "colorbar": {
              "outlinewidth": 0,
              "ticks": ""
             }
            },
            "type": "scattermapbox"
           }
          ],
          "scatterpolar": [
           {
            "marker": {
             "colorbar": {
              "outlinewidth": 0,
              "ticks": ""
             }
            },
            "type": "scatterpolar"
           }
          ],
          "scatterpolargl": [
           {
            "marker": {
             "colorbar": {
              "outlinewidth": 0,
              "ticks": ""
             }
            },
            "type": "scatterpolargl"
           }
          ],
          "scatterternary": [
           {
            "marker": {
             "colorbar": {
              "outlinewidth": 0,
              "ticks": ""
             }
            },
            "type": "scatterternary"
           }
          ],
          "surface": [
           {
            "colorbar": {
             "outlinewidth": 0,
             "ticks": ""
            },
            "colorscale": [
             [
              0,
              "#0d0887"
             ],
             [
              0.1111111111111111,
              "#46039f"
             ],
             [
              0.2222222222222222,
              "#7201a8"
             ],
             [
              0.3333333333333333,
              "#9c179e"
             ],
             [
              0.4444444444444444,
              "#bd3786"
             ],
             [
              0.5555555555555556,
              "#d8576b"
             ],
             [
              0.6666666666666666,
              "#ed7953"
             ],
             [
              0.7777777777777778,
              "#fb9f3a"
             ],
             [
              0.8888888888888888,
              "#fdca26"
             ],
             [
              1,
              "#f0f921"
             ]
            ],
            "type": "surface"
           }
          ],
          "table": [
           {
            "cells": {
             "fill": {
              "color": "#EBF0F8"
             },
             "line": {
              "color": "white"
             }
            },
            "header": {
             "fill": {
              "color": "#C8D4E3"
             },
             "line": {
              "color": "white"
             }
            },
            "type": "table"
           }
          ]
         },
         "layout": {
          "annotationdefaults": {
           "arrowcolor": "#2a3f5f",
           "arrowhead": 0,
           "arrowwidth": 1
          },
          "autotypenumbers": "strict",
          "coloraxis": {
           "colorbar": {
            "outlinewidth": 0,
            "ticks": ""
           }
          },
          "colorscale": {
           "diverging": [
            [
             0,
             "#8e0152"
            ],
            [
             0.1,
             "#c51b7d"
            ],
            [
             0.2,
             "#de77ae"
            ],
            [
             0.3,
             "#f1b6da"
            ],
            [
             0.4,
             "#fde0ef"
            ],
            [
             0.5,
             "#f7f7f7"
            ],
            [
             0.6,
             "#e6f5d0"
            ],
            [
             0.7,
             "#b8e186"
            ],
            [
             0.8,
             "#7fbc41"
            ],
            [
             0.9,
             "#4d9221"
            ],
            [
             1,
             "#276419"
            ]
           ],
           "sequential": [
            [
             0,
             "#0d0887"
            ],
            [
             0.1111111111111111,
             "#46039f"
            ],
            [
             0.2222222222222222,
             "#7201a8"
            ],
            [
             0.3333333333333333,
             "#9c179e"
            ],
            [
             0.4444444444444444,
             "#bd3786"
            ],
            [
             0.5555555555555556,
             "#d8576b"
            ],
            [
             0.6666666666666666,
             "#ed7953"
            ],
            [
             0.7777777777777778,
             "#fb9f3a"
            ],
            [
             0.8888888888888888,
             "#fdca26"
            ],
            [
             1,
             "#f0f921"
            ]
           ],
           "sequentialminus": [
            [
             0,
             "#0d0887"
            ],
            [
             0.1111111111111111,
             "#46039f"
            ],
            [
             0.2222222222222222,
             "#7201a8"
            ],
            [
             0.3333333333333333,
             "#9c179e"
            ],
            [
             0.4444444444444444,
             "#bd3786"
            ],
            [
             0.5555555555555556,
             "#d8576b"
            ],
            [
             0.6666666666666666,
             "#ed7953"
            ],
            [
             0.7777777777777778,
             "#fb9f3a"
            ],
            [
             0.8888888888888888,
             "#fdca26"
            ],
            [
             1,
             "#f0f921"
            ]
           ]
          },
          "colorway": [
           "#636efa",
           "#EF553B",
           "#00cc96",
           "#ab63fa",
           "#FFA15A",
           "#19d3f3",
           "#FF6692",
           "#B6E880",
           "#FF97FF",
           "#FECB52"
          ],
          "font": {
           "color": "#2a3f5f"
          },
          "geo": {
           "bgcolor": "white",
           "lakecolor": "white",
           "landcolor": "#E5ECF6",
           "showlakes": true,
           "showland": true,
           "subunitcolor": "white"
          },
          "hoverlabel": {
           "align": "left"
          },
          "hovermode": "closest",
          "mapbox": {
           "style": "light"
          },
          "paper_bgcolor": "white",
          "plot_bgcolor": "#E5ECF6",
          "polar": {
           "angularaxis": {
            "gridcolor": "white",
            "linecolor": "white",
            "ticks": ""
           },
           "bgcolor": "#E5ECF6",
           "radialaxis": {
            "gridcolor": "white",
            "linecolor": "white",
            "ticks": ""
           }
          },
          "scene": {
           "xaxis": {
            "backgroundcolor": "#E5ECF6",
            "gridcolor": "white",
            "gridwidth": 2,
            "linecolor": "white",
            "showbackground": true,
            "ticks": "",
            "zerolinecolor": "white"
           },
           "yaxis": {
            "backgroundcolor": "#E5ECF6",
            "gridcolor": "white",
            "gridwidth": 2,
            "linecolor": "white",
            "showbackground": true,
            "ticks": "",
            "zerolinecolor": "white"
           },
           "zaxis": {
            "backgroundcolor": "#E5ECF6",
            "gridcolor": "white",
            "gridwidth": 2,
            "linecolor": "white",
            "showbackground": true,
            "ticks": "",
            "zerolinecolor": "white"
           }
          },
          "shapedefaults": {
           "line": {
            "color": "#2a3f5f"
           }
          },
          "ternary": {
           "aaxis": {
            "gridcolor": "white",
            "linecolor": "white",
            "ticks": ""
           },
           "baxis": {
            "gridcolor": "white",
            "linecolor": "white",
            "ticks": ""
           },
           "bgcolor": "#E5ECF6",
           "caxis": {
            "gridcolor": "white",
            "linecolor": "white",
            "ticks": ""
           }
          },
          "title": {
           "x": 0.05
          },
          "xaxis": {
           "automargin": true,
           "gridcolor": "white",
           "linecolor": "white",
           "ticks": "",
           "title": {
            "standoff": 15
           },
           "zerolinecolor": "white",
           "zerolinewidth": 2
          },
          "yaxis": {
           "automargin": true,
           "gridcolor": "white",
           "linecolor": "white",
           "ticks": "",
           "title": {
            "standoff": 15
           },
           "zerolinecolor": "white",
           "zerolinewidth": 2
          }
         }
        },
        "title": {
         "text": "Internet users in 2016"
        }
       }
      }
     },
     "metadata": {},
     "output_type": "display_data"
    }
   ],
   "source": [
    "dfEdStatsDataCountry2016 = dfEdStatsDataCountry[dfEdStatsDataCountry['indicator_code'] == 'IT.NET.USER.P2']\n",
    "dfEdStatsDataCountry2016 = dfEdStatsDataCountry2016[dfEdStatsDataCountry2016['2016'].notnull()]\n",
    "\n",
    "fig = px.choropleth(dfEdStatsDataCountry2016, locations='country_code', color='2016', hover_name='country_name', color_continuous_scale=px.colors.sequential.Plasma, title='Internet users in 2016', labels={'2016':'Internet users'})\n",
    "fig.show()"
   ]
  },
  {
   "cell_type": "markdown",
   "id": "8aa247d5",
   "metadata": {},
   "source": [
    " > Interesting countries : Australia, Japan, Korea, United Arab Emirates, Norway, UK, Canada, ..."
   ]
  },
  {
   "cell_type": "markdown",
   "id": "a227e42c",
   "metadata": {},
   "source": [
    "## Worth to settle in indicator"
   ]
  },
  {
   "cell_type": "code",
   "execution_count": 217,
   "id": "3b5bc80d",
   "metadata": {},
   "outputs": [
    {
     "data": {
      "text/html": [
       "<div>\n",
       "<style scoped>\n",
       "    .dataframe tbody tr th:only-of-type {\n",
       "        vertical-align: middle;\n",
       "    }\n",
       "\n",
       "    .dataframe tbody tr th {\n",
       "        vertical-align: top;\n",
       "    }\n",
       "\n",
       "    .dataframe thead th {\n",
       "        text-align: right;\n",
       "    }\n",
       "</style>\n",
       "<table border=\"1\" class=\"dataframe\">\n",
       "  <thead>\n",
       "    <tr style=\"text-align: right;\">\n",
       "      <th></th>\n",
       "      <th>country_name</th>\n",
       "      <th>country_code</th>\n",
       "      <th>population</th>\n",
       "      <th>gni_per_capita</th>\n",
       "      <th>secondary_education_enrollment</th>\n",
       "      <th>tertiary_education_enrollment</th>\n",
       "      <th>internet_users</th>\n",
       "    </tr>\n",
       "  </thead>\n",
       "  <tbody>\n",
       "    <tr>\n",
       "      <th>0</th>\n",
       "      <td>Afghanistan</td>\n",
       "      <td>AFG</td>\n",
       "      <td>34656032.0</td>\n",
       "      <td>1900.0</td>\n",
       "      <td>55.656158</td>\n",
       "      <td>8.662800</td>\n",
       "      <td>10.595726</td>\n",
       "    </tr>\n",
       "    <tr>\n",
       "      <th>1</th>\n",
       "      <td>Albania</td>\n",
       "      <td>ALB</td>\n",
       "      <td>2876101.0</td>\n",
       "      <td>11670.0</td>\n",
       "      <td>96.426086</td>\n",
       "      <td>62.706848</td>\n",
       "      <td>66.363445</td>\n",
       "    </tr>\n",
       "    <tr>\n",
       "      <th>2</th>\n",
       "      <td>Algeria</td>\n",
       "      <td>DZA</td>\n",
       "      <td>40606052.0</td>\n",
       "      <td>14420.0</td>\n",
       "      <td>NaN</td>\n",
       "      <td>34.593811</td>\n",
       "      <td>42.945527</td>\n",
       "    </tr>\n",
       "    <tr>\n",
       "      <th>3</th>\n",
       "      <td>American Samoa</td>\n",
       "      <td>ASM</td>\n",
       "      <td>55599.0</td>\n",
       "      <td>NaN</td>\n",
       "      <td>NaN</td>\n",
       "      <td>NaN</td>\n",
       "      <td>NaN</td>\n",
       "    </tr>\n",
       "    <tr>\n",
       "      <th>4</th>\n",
       "      <td>Andorra</td>\n",
       "      <td>AND</td>\n",
       "      <td>77281.0</td>\n",
       "      <td>NaN</td>\n",
       "      <td>NaN</td>\n",
       "      <td>NaN</td>\n",
       "      <td>97.930637</td>\n",
       "    </tr>\n",
       "    <tr>\n",
       "      <th>...</th>\n",
       "      <td>...</td>\n",
       "      <td>...</td>\n",
       "      <td>...</td>\n",
       "      <td>...</td>\n",
       "      <td>...</td>\n",
       "      <td>...</td>\n",
       "      <td>...</td>\n",
       "    </tr>\n",
       "    <tr>\n",
       "      <th>205</th>\n",
       "      <td>Virgin Islands (U.S.)</td>\n",
       "      <td>VIR</td>\n",
       "      <td>102951.0</td>\n",
       "      <td>NaN</td>\n",
       "      <td>NaN</td>\n",
       "      <td>NaN</td>\n",
       "      <td>59.608316</td>\n",
       "    </tr>\n",
       "    <tr>\n",
       "      <th>206</th>\n",
       "      <td>West Bank and Gaza</td>\n",
       "      <td>PSE</td>\n",
       "      <td>4551566.0</td>\n",
       "      <td>NaN</td>\n",
       "      <td>82.240448</td>\n",
       "      <td>44.006870</td>\n",
       "      <td>61.178385</td>\n",
       "    </tr>\n",
       "    <tr>\n",
       "      <th>207</th>\n",
       "      <td>Yemen, Rep.</td>\n",
       "      <td>YEM</td>\n",
       "      <td>27584213.0</td>\n",
       "      <td>2500.0</td>\n",
       "      <td>NaN</td>\n",
       "      <td>NaN</td>\n",
       "      <td>24.579208</td>\n",
       "    </tr>\n",
       "    <tr>\n",
       "      <th>208</th>\n",
       "      <td>Zambia</td>\n",
       "      <td>ZMB</td>\n",
       "      <td>16591390.0</td>\n",
       "      <td>3850.0</td>\n",
       "      <td>NaN</td>\n",
       "      <td>NaN</td>\n",
       "      <td>25.506579</td>\n",
       "    </tr>\n",
       "    <tr>\n",
       "      <th>209</th>\n",
       "      <td>Zimbabwe</td>\n",
       "      <td>ZWE</td>\n",
       "      <td>16150362.0</td>\n",
       "      <td>1810.0</td>\n",
       "      <td>NaN</td>\n",
       "      <td>NaN</td>\n",
       "      <td>23.119989</td>\n",
       "    </tr>\n",
       "  </tbody>\n",
       "</table>\n",
       "<p>210 rows × 7 columns</p>\n",
       "</div>"
      ],
      "text/plain": [
       "              country_name country_code  population  gni_per_capita  \\\n",
       "0              Afghanistan          AFG  34656032.0          1900.0   \n",
       "1                  Albania          ALB   2876101.0         11670.0   \n",
       "2                  Algeria          DZA  40606052.0         14420.0   \n",
       "3           American Samoa          ASM     55599.0             NaN   \n",
       "4                  Andorra          AND     77281.0             NaN   \n",
       "..                     ...          ...         ...             ...   \n",
       "205  Virgin Islands (U.S.)          VIR    102951.0             NaN   \n",
       "206     West Bank and Gaza          PSE   4551566.0             NaN   \n",
       "207            Yemen, Rep.          YEM  27584213.0          2500.0   \n",
       "208                 Zambia          ZMB  16591390.0          3850.0   \n",
       "209               Zimbabwe          ZWE  16150362.0          1810.0   \n",
       "\n",
       "     secondary_education_enrollment  tertiary_education_enrollment  \\\n",
       "0                         55.656158                       8.662800   \n",
       "1                         96.426086                      62.706848   \n",
       "2                               NaN                      34.593811   \n",
       "3                               NaN                            NaN   \n",
       "4                               NaN                            NaN   \n",
       "..                              ...                            ...   \n",
       "205                             NaN                            NaN   \n",
       "206                       82.240448                      44.006870   \n",
       "207                             NaN                            NaN   \n",
       "208                             NaN                            NaN   \n",
       "209                             NaN                            NaN   \n",
       "\n",
       "     internet_users  \n",
       "0         10.595726  \n",
       "1         66.363445  \n",
       "2         42.945527  \n",
       "3               NaN  \n",
       "4         97.930637  \n",
       "..              ...  \n",
       "205       59.608316  \n",
       "206       61.178385  \n",
       "207       24.579208  \n",
       "208       25.506579  \n",
       "209       23.119989  \n",
       "\n",
       "[210 rows x 7 columns]"
      ]
     },
     "execution_count": 217,
     "metadata": {},
     "output_type": "execute_result"
    }
   ],
   "source": [
    "# create a new dataframe with all countries and all values for the indicators SP.POP.TOTL (2016), NY.GNP.PCAP.PP.CD(2016), SE.SEC.ENRR(2014), SE.TER.ENRR(2014), IT.NET.USER.P2 (2016)\n",
    "dfEdStatsDataWorthToSettleIn = dfEdStatsDataCountry[dfEdStatsDataCountry['indicator_code'] == 'SP.POP.TOTL']\n",
    "dfEdStatsDataWorthToSettleIn = dfEdStatsDataWorthToSettleIn[dfEdStatsDataWorthToSettleIn['2016'].notnull()]\n",
    "dfEdStatsDataWorthToSettleIn = dfEdStatsDataWorthToSettleIn[['country_name', 'country_code', '2016']]\n",
    "dfEdStatsDataWorthToSettleIn.rename(columns={'2016':'population'}, inplace=True)\n",
    "\n",
    "gni_per_capita = dfEdStatsDataCountry[dfEdStatsDataCountry['indicator_code'] == 'NY.GNP.PCAP.PP.CD'][['country_code', '2016']].rename(columns={'2016':'gni_per_capita'})\n",
    "dfEdStatsDataWorthToSettleIn = pd.merge(dfEdStatsDataWorthToSettleIn, gni_per_capita, on='country_code', how='left')\n",
    "\n",
    "secondary_education_enrollment = dfEdStatsDataCountry[dfEdStatsDataCountry['indicator_code'] == 'SE.SEC.ENRR'][['country_code', '2014']].rename(columns={'2014':'secondary_education_enrollment'})\n",
    "dfEdStatsDataWorthToSettleIn = pd.merge(dfEdStatsDataWorthToSettleIn, secondary_education_enrollment, on='country_code', how='left')\n",
    "\n",
    "tertiary_education_enrollment = dfEdStatsDataCountry[dfEdStatsDataCountry['indicator_code'] == 'SE.TER.ENRR'][['country_code', '2014']].rename(columns={'2014':'tertiary_education_enrollment'})\n",
    "dfEdStatsDataWorthToSettleIn = pd.merge(dfEdStatsDataWorthToSettleIn, tertiary_education_enrollment, on='country_code', how='left')\n",
    "\n",
    "internet_users = dfEdStatsDataCountry[dfEdStatsDataCountry['indicator_code'] == 'IT.NET.USER.P2'][['country_code', '2016']].rename(columns={'2016':'internet_users'})\n",
    "dfEdStatsDataWorthToSettleIn = pd.merge(dfEdStatsDataWorthToSettleIn, internet_users, on='country_code', how='left')\n",
    "\n",
    "dfEdStatsDataWorthToSettleIn\n"
   ]
  },
  {
   "cell_type": "code",
   "execution_count": 218,
   "id": "1d23a23d",
   "metadata": {},
   "outputs": [
    {
     "data": {
      "text/html": [
       "<div>\n",
       "<style scoped>\n",
       "    .dataframe tbody tr th:only-of-type {\n",
       "        vertical-align: middle;\n",
       "    }\n",
       "\n",
       "    .dataframe tbody tr th {\n",
       "        vertical-align: top;\n",
       "    }\n",
       "\n",
       "    .dataframe thead th {\n",
       "        text-align: right;\n",
       "    }\n",
       "</style>\n",
       "<table border=\"1\" class=\"dataframe\">\n",
       "  <thead>\n",
       "    <tr style=\"text-align: right;\">\n",
       "      <th></th>\n",
       "      <th>country_name</th>\n",
       "      <th>country_code</th>\n",
       "      <th>population</th>\n",
       "      <th>gni_per_capita</th>\n",
       "      <th>secondary_education_enrollment</th>\n",
       "      <th>tertiary_education_enrollment</th>\n",
       "      <th>internet_users</th>\n",
       "    </tr>\n",
       "  </thead>\n",
       "  <tbody>\n",
       "    <tr>\n",
       "      <th>0</th>\n",
       "      <td>Afghanistan</td>\n",
       "      <td>AFG</td>\n",
       "      <td>34656032.0</td>\n",
       "      <td>1900.000000</td>\n",
       "      <td>55.656158</td>\n",
       "      <td>8.662800</td>\n",
       "      <td>10.595726</td>\n",
       "    </tr>\n",
       "    <tr>\n",
       "      <th>1</th>\n",
       "      <td>Albania</td>\n",
       "      <td>ALB</td>\n",
       "      <td>2876101.0</td>\n",
       "      <td>11670.000000</td>\n",
       "      <td>96.426086</td>\n",
       "      <td>62.706848</td>\n",
       "      <td>66.363445</td>\n",
       "    </tr>\n",
       "    <tr>\n",
       "      <th>2</th>\n",
       "      <td>Algeria</td>\n",
       "      <td>DZA</td>\n",
       "      <td>40606052.0</td>\n",
       "      <td>14420.000000</td>\n",
       "      <td>88.508048</td>\n",
       "      <td>34.593811</td>\n",
       "      <td>42.945527</td>\n",
       "    </tr>\n",
       "    <tr>\n",
       "      <th>3</th>\n",
       "      <td>American Samoa</td>\n",
       "      <td>ASM</td>\n",
       "      <td>55599.0</td>\n",
       "      <td>18177.570621</td>\n",
       "      <td>88.508048</td>\n",
       "      <td>44.874089</td>\n",
       "      <td>51.665710</td>\n",
       "    </tr>\n",
       "    <tr>\n",
       "      <th>4</th>\n",
       "      <td>Andorra</td>\n",
       "      <td>AND</td>\n",
       "      <td>77281.0</td>\n",
       "      <td>18177.570621</td>\n",
       "      <td>88.508048</td>\n",
       "      <td>44.874089</td>\n",
       "      <td>97.930637</td>\n",
       "    </tr>\n",
       "    <tr>\n",
       "      <th>...</th>\n",
       "      <td>...</td>\n",
       "      <td>...</td>\n",
       "      <td>...</td>\n",
       "      <td>...</td>\n",
       "      <td>...</td>\n",
       "      <td>...</td>\n",
       "      <td>...</td>\n",
       "    </tr>\n",
       "    <tr>\n",
       "      <th>205</th>\n",
       "      <td>Virgin Islands (U.S.)</td>\n",
       "      <td>VIR</td>\n",
       "      <td>102951.0</td>\n",
       "      <td>18177.570621</td>\n",
       "      <td>88.508048</td>\n",
       "      <td>44.874089</td>\n",
       "      <td>59.608316</td>\n",
       "    </tr>\n",
       "    <tr>\n",
       "      <th>206</th>\n",
       "      <td>West Bank and Gaza</td>\n",
       "      <td>PSE</td>\n",
       "      <td>4551566.0</td>\n",
       "      <td>18177.570621</td>\n",
       "      <td>82.240448</td>\n",
       "      <td>44.006870</td>\n",
       "      <td>61.178385</td>\n",
       "    </tr>\n",
       "    <tr>\n",
       "      <th>207</th>\n",
       "      <td>Yemen, Rep.</td>\n",
       "      <td>YEM</td>\n",
       "      <td>27584213.0</td>\n",
       "      <td>2500.000000</td>\n",
       "      <td>88.508048</td>\n",
       "      <td>44.874089</td>\n",
       "      <td>24.579208</td>\n",
       "    </tr>\n",
       "    <tr>\n",
       "      <th>208</th>\n",
       "      <td>Zambia</td>\n",
       "      <td>ZMB</td>\n",
       "      <td>16591390.0</td>\n",
       "      <td>3850.000000</td>\n",
       "      <td>88.508048</td>\n",
       "      <td>44.874089</td>\n",
       "      <td>25.506579</td>\n",
       "    </tr>\n",
       "    <tr>\n",
       "      <th>209</th>\n",
       "      <td>Zimbabwe</td>\n",
       "      <td>ZWE</td>\n",
       "      <td>16150362.0</td>\n",
       "      <td>1810.000000</td>\n",
       "      <td>88.508048</td>\n",
       "      <td>44.874089</td>\n",
       "      <td>23.119989</td>\n",
       "    </tr>\n",
       "  </tbody>\n",
       "</table>\n",
       "<p>210 rows × 7 columns</p>\n",
       "</div>"
      ],
      "text/plain": [
       "              country_name country_code  population  gni_per_capita  \\\n",
       "0              Afghanistan          AFG  34656032.0     1900.000000   \n",
       "1                  Albania          ALB   2876101.0    11670.000000   \n",
       "2                  Algeria          DZA  40606052.0    14420.000000   \n",
       "3           American Samoa          ASM     55599.0    18177.570621   \n",
       "4                  Andorra          AND     77281.0    18177.570621   \n",
       "..                     ...          ...         ...             ...   \n",
       "205  Virgin Islands (U.S.)          VIR    102951.0    18177.570621   \n",
       "206     West Bank and Gaza          PSE   4551566.0    18177.570621   \n",
       "207            Yemen, Rep.          YEM  27584213.0     2500.000000   \n",
       "208                 Zambia          ZMB  16591390.0     3850.000000   \n",
       "209               Zimbabwe          ZWE  16150362.0     1810.000000   \n",
       "\n",
       "     secondary_education_enrollment  tertiary_education_enrollment  \\\n",
       "0                         55.656158                       8.662800   \n",
       "1                         96.426086                      62.706848   \n",
       "2                         88.508048                      34.593811   \n",
       "3                         88.508048                      44.874089   \n",
       "4                         88.508048                      44.874089   \n",
       "..                              ...                            ...   \n",
       "205                       88.508048                      44.874089   \n",
       "206                       82.240448                      44.006870   \n",
       "207                       88.508048                      44.874089   \n",
       "208                       88.508048                      44.874089   \n",
       "209                       88.508048                      44.874089   \n",
       "\n",
       "     internet_users  \n",
       "0         10.595726  \n",
       "1         66.363445  \n",
       "2         42.945527  \n",
       "3         51.665710  \n",
       "4         97.930637  \n",
       "..              ...  \n",
       "205       59.608316  \n",
       "206       61.178385  \n",
       "207       24.579208  \n",
       "208       25.506579  \n",
       "209       23.119989  \n",
       "\n",
       "[210 rows x 7 columns]"
      ]
     },
     "execution_count": 218,
     "metadata": {},
     "output_type": "execute_result"
    }
   ],
   "source": [
    "# we fill the missing values with the mean of the column for each indicator\n",
    "dfEdStatsDataWorthToSettleIn['gni_per_capita'] = dfEdStatsDataWorthToSettleIn['gni_per_capita'].fillna(dfEdStatsDataWorthToSettleIn['gni_per_capita'].mean())\n",
    "dfEdStatsDataWorthToSettleIn['secondary_education_enrollment'] = dfEdStatsDataWorthToSettleIn['secondary_education_enrollment'].fillna(dfEdStatsDataWorthToSettleIn['secondary_education_enrollment'].mean())\n",
    "dfEdStatsDataWorthToSettleIn['tertiary_education_enrollment'] = dfEdStatsDataWorthToSettleIn['tertiary_education_enrollment'].fillna(dfEdStatsDataWorthToSettleIn['tertiary_education_enrollment'].mean())\n",
    "dfEdStatsDataWorthToSettleIn['internet_users'] = dfEdStatsDataWorthToSettleIn['internet_users'].fillna(dfEdStatsDataWorthToSettleIn['internet_users'].mean())\n",
    "dfEdStatsDataWorthToSettleIn"
   ]
  },
  {
   "cell_type": "code",
   "execution_count": 219,
   "id": "ce44f874",
   "metadata": {},
   "outputs": [
    {
     "data": {
      "text/html": [
       "<div>\n",
       "<style scoped>\n",
       "    .dataframe tbody tr th:only-of-type {\n",
       "        vertical-align: middle;\n",
       "    }\n",
       "\n",
       "    .dataframe tbody tr th {\n",
       "        vertical-align: top;\n",
       "    }\n",
       "\n",
       "    .dataframe thead th {\n",
       "        text-align: right;\n",
       "    }\n",
       "</style>\n",
       "<table border=\"1\" class=\"dataframe\">\n",
       "  <thead>\n",
       "    <tr style=\"text-align: right;\">\n",
       "      <th></th>\n",
       "      <th>country_name</th>\n",
       "      <th>country_code</th>\n",
       "      <th>population</th>\n",
       "      <th>gni_per_capita</th>\n",
       "      <th>secondary_education_enrollment</th>\n",
       "      <th>tertiary_education_enrollment</th>\n",
       "      <th>internet_users</th>\n",
       "      <th>viability_score</th>\n",
       "    </tr>\n",
       "  </thead>\n",
       "  <tbody>\n",
       "    <tr>\n",
       "      <th>40</th>\n",
       "      <td>China</td>\n",
       "      <td>CHN</td>\n",
       "      <td>1.378665e+09</td>\n",
       "      <td>15500.000000</td>\n",
       "      <td>94.332069</td>\n",
       "      <td>39.390388</td>\n",
       "      <td>53.200000</td>\n",
       "      <td>100.000000</td>\n",
       "    </tr>\n",
       "    <tr>\n",
       "      <th>85</th>\n",
       "      <td>India</td>\n",
       "      <td>IND</td>\n",
       "      <td>1.324171e+09</td>\n",
       "      <td>6500.000000</td>\n",
       "      <td>74.275436</td>\n",
       "      <td>25.535450</td>\n",
       "      <td>29.547163</td>\n",
       "      <td>96.046281</td>\n",
       "    </tr>\n",
       "    <tr>\n",
       "      <th>199</th>\n",
       "      <td>United States</td>\n",
       "      <td>USA</td>\n",
       "      <td>3.231275e+08</td>\n",
       "      <td>58700.000000</td>\n",
       "      <td>97.564690</td>\n",
       "      <td>86.663963</td>\n",
       "      <td>76.176737</td>\n",
       "      <td>23.443211</td>\n",
       "    </tr>\n",
       "    <tr>\n",
       "      <th>86</th>\n",
       "      <td>Indonesia</td>\n",
       "      <td>IDN</td>\n",
       "      <td>2.611155e+08</td>\n",
       "      <td>11240.000000</td>\n",
       "      <td>82.468697</td>\n",
       "      <td>31.102100</td>\n",
       "      <td>25.366301</td>\n",
       "      <td>18.939498</td>\n",
       "    </tr>\n",
       "    <tr>\n",
       "      <th>26</th>\n",
       "      <td>Brazil</td>\n",
       "      <td>BRA</td>\n",
       "      <td>2.076529e+08</td>\n",
       "      <td>14840.000000</td>\n",
       "      <td>101.950897</td>\n",
       "      <td>49.279839</td>\n",
       "      <td>59.682747</td>\n",
       "      <td>15.062103</td>\n",
       "    </tr>\n",
       "    <tr>\n",
       "      <th>...</th>\n",
       "      <td>...</td>\n",
       "      <td>...</td>\n",
       "      <td>...</td>\n",
       "      <td>...</td>\n",
       "      <td>...</td>\n",
       "      <td>...</td>\n",
       "      <td>...</td>\n",
       "      <td>...</td>\n",
       "    </tr>\n",
       "    <tr>\n",
       "      <th>71</th>\n",
       "      <td>Gibraltar</td>\n",
       "      <td>GIB</td>\n",
       "      <td>3.440800e+04</td>\n",
       "      <td>18177.570621</td>\n",
       "      <td>88.508048</td>\n",
       "      <td>44.874089</td>\n",
       "      <td>94.444472</td>\n",
       "      <td>0.003178</td>\n",
       "    </tr>\n",
       "    <tr>\n",
       "      <th>159</th>\n",
       "      <td>San Marino</td>\n",
       "      <td>SMR</td>\n",
       "      <td>3.320300e+04</td>\n",
       "      <td>18177.570621</td>\n",
       "      <td>88.508048</td>\n",
       "      <td>44.874089</td>\n",
       "      <td>51.665710</td>\n",
       "      <td>0.003085</td>\n",
       "    </tr>\n",
       "    <tr>\n",
       "      <th>121</th>\n",
       "      <td>Marshall Islands</td>\n",
       "      <td>MHL</td>\n",
       "      <td>5.306600e+04</td>\n",
       "      <td>5380.000000</td>\n",
       "      <td>88.508048</td>\n",
       "      <td>44.874089</td>\n",
       "      <td>29.787779</td>\n",
       "      <td>0.002976</td>\n",
       "    </tr>\n",
       "    <tr>\n",
       "      <th>145</th>\n",
       "      <td>Palau</td>\n",
       "      <td>PLW</td>\n",
       "      <td>2.150300e+04</td>\n",
       "      <td>14870.000000</td>\n",
       "      <td>113.597733</td>\n",
       "      <td>44.874089</td>\n",
       "      <td>51.665710</td>\n",
       "      <td>0.001839</td>\n",
       "    </tr>\n",
       "    <tr>\n",
       "      <th>194</th>\n",
       "      <td>Tuvalu</td>\n",
       "      <td>TUV</td>\n",
       "      <td>1.109700e+04</td>\n",
       "      <td>5930.000000</td>\n",
       "      <td>80.766640</td>\n",
       "      <td>44.874089</td>\n",
       "      <td>46.009152</td>\n",
       "      <td>0.000000</td>\n",
       "    </tr>\n",
       "  </tbody>\n",
       "</table>\n",
       "<p>210 rows × 8 columns</p>\n",
       "</div>"
      ],
      "text/plain": [
       "         country_name country_code    population  gni_per_capita  \\\n",
       "40              China          CHN  1.378665e+09    15500.000000   \n",
       "85              India          IND  1.324171e+09     6500.000000   \n",
       "199     United States          USA  3.231275e+08    58700.000000   \n",
       "86          Indonesia          IDN  2.611155e+08    11240.000000   \n",
       "26             Brazil          BRA  2.076529e+08    14840.000000   \n",
       "..                ...          ...           ...             ...   \n",
       "71          Gibraltar          GIB  3.440800e+04    18177.570621   \n",
       "159        San Marino          SMR  3.320300e+04    18177.570621   \n",
       "121  Marshall Islands          MHL  5.306600e+04     5380.000000   \n",
       "145             Palau          PLW  2.150300e+04    14870.000000   \n",
       "194            Tuvalu          TUV  1.109700e+04     5930.000000   \n",
       "\n",
       "     secondary_education_enrollment  tertiary_education_enrollment  \\\n",
       "40                        94.332069                      39.390388   \n",
       "85                        74.275436                      25.535450   \n",
       "199                       97.564690                      86.663963   \n",
       "86                        82.468697                      31.102100   \n",
       "26                       101.950897                      49.279839   \n",
       "..                              ...                            ...   \n",
       "71                        88.508048                      44.874089   \n",
       "159                       88.508048                      44.874089   \n",
       "121                       88.508048                      44.874089   \n",
       "145                      113.597733                      44.874089   \n",
       "194                       80.766640                      44.874089   \n",
       "\n",
       "     internet_users  viability_score  \n",
       "40        53.200000       100.000000  \n",
       "85        29.547163        96.046281  \n",
       "199       76.176737        23.443211  \n",
       "86        25.366301        18.939498  \n",
       "26        59.682747        15.062103  \n",
       "..              ...              ...  \n",
       "71        94.444472         0.003178  \n",
       "159       51.665710         0.003085  \n",
       "121       29.787779         0.002976  \n",
       "145       51.665710         0.001839  \n",
       "194       46.009152         0.000000  \n",
       "\n",
       "[210 rows x 8 columns]"
      ]
     },
     "execution_count": 219,
     "metadata": {},
     "output_type": "execute_result"
    }
   ],
   "source": [
    "# we create a new column with the viability score of each country based on the indicators\n",
    "# we use the formula: 0.5 * population + 0.2 * (secondary_education_enrollment + tertiary_education_enrollment) + 0.3 * internet_users + 0.5 * gni_per_capita\n",
    "dfEdStatsDataWorthToSettleIn['viability_score'] = 0.3 * dfEdStatsDataWorthToSettleIn['population'] + 0.4 * (dfEdStatsDataWorthToSettleIn['secondary_education_enrollment'] + dfEdStatsDataWorthToSettleIn['tertiary_education_enrollment']) + 0.5 * dfEdStatsDataWorthToSettleIn['internet_users'] + 0.5 * dfEdStatsDataWorthToSettleIn['gni_per_capita']\n",
    "# we scale the viability score between 0 and 100\n",
    "dfEdStatsDataWorthToSettleIn['viability_score'] = (dfEdStatsDataWorthToSettleIn['viability_score'] - dfEdStatsDataWorthToSettleIn['viability_score'].min()) / (dfEdStatsDataWorthToSettleIn['viability_score'].max() - dfEdStatsDataWorthToSettleIn['viability_score'].min()) * 100\n",
    "dfEdStatsDataWorthToSettleIn.sort_values('viability_score', ascending=False, inplace=True)\n",
    "dfEdStatsDataWorthToSettleIn"
   ]
  },
  {
   "cell_type": "code",
   "execution_count": 220,
   "id": "89e431b4",
   "metadata": {},
   "outputs": [
    {
     "data": {
      "application/vnd.plotly.v1+json": {
       "config": {
        "plotlyServerURL": "https://plot.ly"
       },
       "data": [
        {
         "coloraxis": "coloraxis",
         "geo": "geo",
         "hovertemplate": "<b>%{hovertext}</b><br><br>country_code=%{location}<br>Viability score=%{z}<extra></extra>",
         "hovertext": [
          "China",
          "India",
          "United States",
          "Indonesia",
          "Brazil",
          "Pakistan",
          "Nigeria",
          "Bangladesh",
          "Russian Federation",
          "Mexico",
          "Japan",
          "Philippines",
          "Ethiopia",
          "Egypt, Arab Rep.",
          "Vietnam",
          "Germany",
          "Iran, Islamic Rep.",
          "Turkey",
          "Congo, Dem. Rep.",
          "Thailand",
          "France",
          "United Kingdom",
          "Italy",
          "South Africa",
          "Tanzania",
          "Myanmar",
          "Korea, Rep.",
          "Colombia",
          "Kenya",
          "Spain",
          "Ukraine",
          "Argentina",
          "Uganda",
          "Algeria",
          "Sudan",
          "Poland",
          "Iraq",
          "Canada",
          "Morocco",
          "Afghanistan",
          "Saudi Arabia",
          "Uzbekistan",
          "Peru",
          "Venezuela, RB",
          "Malaysia",
          "Nepal",
          "Mozambique",
          "Angola",
          "Ghana",
          "Yemen, Rep.",
          "Korea, Dem. People’s Rep.",
          "Madagascar",
          "Australia",
          "Cote d'Ivoire",
          "Cameroon",
          "Sri Lanka",
          "Niger",
          "Romania",
          "Burkina Faso",
          "Syrian Arab Republic",
          "Malawi",
          "Mali",
          "Chile",
          "Kazakhstan",
          "Netherlands",
          "Zambia",
          "Guatemala",
          "Ecuador",
          "Zimbabwe",
          "Cambodia",
          "Senegal",
          "Chad",
          "Somalia",
          "Guinea",
          "Rwanda",
          "Cuba",
          "Belgium",
          "Tunisia",
          "Bolivia",
          "Benin",
          "Haiti",
          "Greece",
          "Dominican Republic",
          "Czech Republic",
          "Burundi",
          "Portugal",
          "Sweden",
          "Hungary",
          "Azerbaijan",
          "Belarus",
          "Jordan",
          "United Arab Emirates",
          "Honduras",
          "Austria",
          "Tajikistan",
          "Israel",
          "Switzerland",
          "Papua New Guinea",
          "Togo",
          "Hong Kong SAR, China",
          "Sierra Leone",
          "Bulgaria",
          "Serbia",
          "Lao PDR",
          "Paraguay",
          "El Salvador",
          "Libya",
          "Nicaragua",
          "Kyrgyz Republic",
          "Lebanon",
          "Denmark",
          "Singapore",
          "Turkmenistan",
          "Finland",
          "Slovak Republic",
          "Norway",
          "Congo, Rep.",
          "Costa Rica",
          "Ireland",
          "New Zealand",
          "Liberia",
          "Central African Republic",
          "West Bank and Gaza",
          "Oman",
          "Mauritania",
          "Croatia",
          "Kuwait",
          "Panama",
          "Georgia",
          "Moldova",
          "Bosnia and Herzegovina",
          "Uruguay",
          "Puerto Rico",
          "Mongolia",
          "Armenia",
          "Lithuania",
          "Albania",
          "Jamaica",
          "Qatar",
          "Namibia",
          "Botswana",
          "Lesotho",
          "Slovenia",
          "Macedonia, FYR",
          "Gambia, The",
          "Gabon",
          "Latvia",
          "Kosovo",
          "Guinea-Bissau",
          "Bahrain",
          "Trinidad and Tobago",
          "Estonia",
          "Swaziland",
          "Mauritius",
          "Timor-Leste",
          "Equatorial Guinea",
          "Cyprus",
          "Djibouti",
          "Fiji",
          "Bhutan",
          "Comoros",
          "Guyana",
          "Luxembourg",
          "Montenegro",
          "Macao SAR, China",
          "Solomon Islands",
          "Suriname",
          "Brunei Darussalam",
          "Cabo Verde",
          "Malta",
          "Maldives",
          "Bahamas, The",
          "Iceland",
          "Belize",
          "Barbados",
          "French Polynesia",
          "New Caledonia",
          "Vanuatu",
          "Samoa",
          "Sao Tome and Principe",
          "St. Lucia",
          "Channel Islands",
          "Guam",
          "Seychelles",
          "Antigua and Barbuda",
          "Aruba",
          "Virgin Islands (U.S.)",
          "Grenada",
          "St. Vincent and the Grenadines",
          "Kiribati",
          "Tonga",
          "Isle of Man",
          "Micronesia, Fed. Sts.",
          "Andorra",
          "St. Kitts and Nevis",
          "Bermuda",
          "Dominica",
          "Cayman Islands",
          "Greenland",
          "American Samoa",
          "Northern Mariana Islands",
          "Faroe Islands",
          "Monaco",
          "Liechtenstein",
          "Turks and Caicos Islands",
          "Gibraltar",
          "San Marino",
          "Marshall Islands",
          "Palau",
          "Tuvalu"
         ],
         "locations": [
          "CHN",
          "IND",
          "USA",
          "IDN",
          "BRA",
          "PAK",
          "NGA",
          "BGD",
          "RUS",
          "MEX",
          "JPN",
          "PHL",
          "ETH",
          "EGY",
          "VNM",
          "DEU",
          "IRN",
          "TUR",
          "COD",
          "THA",
          "FRA",
          "GBR",
          "ITA",
          "ZAF",
          "TZA",
          "MMR",
          "KOR",
          "COL",
          "KEN",
          "ESP",
          "UKR",
          "ARG",
          "UGA",
          "DZA",
          "SDN",
          "POL",
          "IRQ",
          "CAN",
          "MAR",
          "AFG",
          "SAU",
          "UZB",
          "PER",
          "VEN",
          "MYS",
          "NPL",
          "MOZ",
          "AGO",
          "GHA",
          "YEM",
          "PRK",
          "MDG",
          "AUS",
          "CIV",
          "CMR",
          "LKA",
          "NER",
          "ROU",
          "BFA",
          "SYR",
          "MWI",
          "MLI",
          "CHL",
          "KAZ",
          "NLD",
          "ZMB",
          "GTM",
          "ECU",
          "ZWE",
          "KHM",
          "SEN",
          "TCD",
          "SOM",
          "GIN",
          "RWA",
          "CUB",
          "BEL",
          "TUN",
          "BOL",
          "BEN",
          "HTI",
          "GRC",
          "DOM",
          "CZE",
          "BDI",
          "PRT",
          "SWE",
          "HUN",
          "AZE",
          "BLR",
          "JOR",
          "ARE",
          "HND",
          "AUT",
          "TJK",
          "ISR",
          "CHE",
          "PNG",
          "TGO",
          "HKG",
          "SLE",
          "BGR",
          "SRB",
          "LAO",
          "PRY",
          "SLV",
          "LBY",
          "NIC",
          "KGZ",
          "LBN",
          "DNK",
          "SGP",
          "TKM",
          "FIN",
          "SVK",
          "NOR",
          "COG",
          "CRI",
          "IRL",
          "NZL",
          "LBR",
          "CAF",
          "PSE",
          "OMN",
          "MRT",
          "HRV",
          "KWT",
          "PAN",
          "GEO",
          "MDA",
          "BIH",
          "URY",
          "PRI",
          "MNG",
          "ARM",
          "LTU",
          "ALB",
          "JAM",
          "QAT",
          "NAM",
          "BWA",
          "LSO",
          "SVN",
          "MKD",
          "GMB",
          "GAB",
          "LVA",
          "XKX",
          "GNB",
          "BHR",
          "TTO",
          "EST",
          "SWZ",
          "MUS",
          "TLS",
          "GNQ",
          "CYP",
          "DJI",
          "FJI",
          "BTN",
          "COM",
          "GUY",
          "LUX",
          "MNE",
          "MAC",
          "SLB",
          "SUR",
          "BRN",
          "CPV",
          "MLT",
          "MDV",
          "BHS",
          "ISL",
          "BLZ",
          "BRB",
          "PYF",
          "NCL",
          "VUT",
          "WSM",
          "STP",
          "LCA",
          "CHI",
          "GUM",
          "SYC",
          "ATG",
          "ABW",
          "VIR",
          "GRD",
          "VCT",
          "KIR",
          "TON",
          "IMN",
          "FSM",
          "AND",
          "KNA",
          "BMU",
          "DMA",
          "CYM",
          "GRL",
          "ASM",
          "MNP",
          "FRO",
          "MCO",
          "LIE",
          "TCA",
          "GIB",
          "SMR",
          "MHL",
          "PLW",
          "TUV"
         ],
         "name": "",
         "type": "choropleth",
         "z": [
          100,
          96.04628115873204,
          23.44321146628974,
          18.939498359459893,
          15.062102868883365,
          14.012899924487506,
          13.489684709381066,
          11.818407099374479,
          10.470897130861985,
          9.25160262036088,
          9.215039716304664,
          7.493812753540069,
          7.426361528181735,
          6.940458617218454,
          6.723175473294763,
          6.00068843177801,
          5.823723000864611,
          5.768735400353543,
          5.709588256293106,
          4.995354109080026,
          4.8558018413581046,
          4.764489742063089,
          4.398713549788063,
          4.055311260978715,
          4.029662475167775,
          3.8351024231738013,
          3.719856709544695,
          3.529176558835514,
          3.513950740376158,
          3.371649142818251,
          3.2638270249139802,
          3.181263773140714,
          3.0079633525764633,
          2.945527223215929,
          2.869790701720028,
          2.754237925768819,
          2.698999570348122,
          2.635721237223921,
          2.558164506714018,
          2.512427242924527,
          2.346313052690664,
          2.3093473803354208,
          2.3046653966908908,
          2.2904346392489803,
          2.2638665087540524,
          2.1010025718434124,
          2.0897181591848537,
          2.0891589166023383,
          2.0449125287826115,
          1.9995630878229413,
          1.8407565011297797,
          1.8043339480970806,
          1.7540821373154598,
          1.7176546400748438,
          1.6990303328892424,
          1.537855893988906,
          1.4980722813269567,
          1.4305544282237053,
          1.3511730161397026,
          1.3375032222274204,
          1.310856158767869,
          1.3039511837081927,
          1.3003624611404454,
          1.2921457404502783,
          1.2390266423194445,
          1.2023764916973958,
          1.2022007693350987,
          1.1882865983989597,
          1.1701402047179212,
          1.1422035253908291,
          1.1166352662123504,
          1.0470030804436499,
          1.039208054291625,
          0.8978121287917133,
          0.8631142173609694,
          0.8330714828626409,
          0.8271798564084412,
          0.8269483568998651,
          0.7890767874066706,
          0.787341671004196,
          0.785489542108241,
          0.7812427007510268,
          0.7726289926574544,
          0.7685147094458683,
          0.7619112990397215,
          0.7509953389716978,
          0.7228484379226456,
          0.7137178115423894,
          0.7085267855555519,
          0.6901585848253772,
          0.6854312667412182,
          0.679665945032897,
          0.6599956989506405,
          0.6390855334042291,
          0.6324763728946353,
          0.6229518252103938,
          0.613441401286217,
          0.5854104102626129,
          0.5503553302646654,
          0.538700161513236,
          0.5351084929738459,
          0.5178440117126482,
          0.5120625719382339,
          0.48939544819857306,
          0.4873874213513033,
          0.45967681331614596,
          0.4571461345028278,
          0.44522422427605,
          0.4400907475957049,
          0.43587008555557394,
          0.42036920450007836,
          0.4154986440680081,
          0.41114197448278106,
          0.40236824935677307,
          0.39586392752828076,
          0.38561581892314745,
          0.37092064361820287,
          0.35270885005685376,
          0.35157537992337745,
          0.3434218852011832,
          0.3332127876646697,
          0.3318232827445627,
          0.3308194215840559,
          0.32162359490913395,
          0.31089433506507413,
          0.30376655730106994,
          0.30250350619509425,
          0.293629275956798,
          0.26940654975383194,
          0.2568078314661786,
          0.25506237957763855,
          0.2508440015830577,
          0.24811836672586018,
          0.21945047683675079,
          0.21172135055470606,
          0.21030762670727707,
          0.2085088894234185,
          0.20849753176191566,
          0.18707613163618533,
          0.17959711789859045,
          0.16371594827438388,
          0.15872482988608028,
          0.15217114658215478,
          0.15118866811013515,
          0.1465326719720303,
          0.14410527823558858,
          0.14381198237705548,
          0.1314508122167529,
          0.13036049750418374,
          0.10405628701326536,
          0.10133589576136351,
          0.0974739682649958,
          0.09690032734033552,
          0.09266680488556561,
          0.09090494836719748,
          0.08929134969888924,
          0.08715625209590609,
          0.06901927423412171,
          0.06472355473037851,
          0.057331746184461976,
          0.05636220435483373,
          0.05551237610113563,
          0.04928587191199966,
          0.04581837323612382,
          0.04508657637932444,
          0.04221271422751841,
          0.0407299974201858,
          0.03923256722682763,
          0.03836691901869754,
          0.03450933963877899,
          0.030833264690219953,
          0.02948145748580013,
          0.0290752978915938,
          0.026055555294411246,
          0.021237344786244224,
          0.021003673911932995,
          0.020841491660119026,
          0.020287036264333168,
          0.01338428584787334,
          0.013365370162991006,
          0.012846157397024691,
          0.012611892827590445,
          0.012495638781238199,
          0.008780982434899208,
          0.00848206827802791,
          0.008282563181624342,
          0.008145503635669807,
          0.007927679014875582,
          0.007813848049945908,
          0.007141265289308698,
          0.0069482922205860555,
          0.006750881325077298,
          0.0065833425263866225,
          0.0062881968275157575,
          0.005568313253842461,
          0.005418207239973533,
          0.00510211747292798,
          0.005087942049138149,
          0.004754541093283397,
          0.00470992862895192,
          0.0046681492291023126,
          0.004245017111012031,
          0.0034748665217001974,
          0.0034166965951854355,
          0.0032085539805369948,
          0.003178038911557031,
          0.003085464325077304,
          0.0029764645120814396,
          0.0018393962784965974,
          0
         ]
        }
       ],
       "layout": {
        "coloraxis": {
         "colorbar": {
          "title": {
           "text": "Viability score"
          }
         },
         "colorscale": [
          [
           0,
           "#0d0887"
          ],
          [
           0.1111111111111111,
           "#46039f"
          ],
          [
           0.2222222222222222,
           "#7201a8"
          ],
          [
           0.3333333333333333,
           "#9c179e"
          ],
          [
           0.4444444444444444,
           "#bd3786"
          ],
          [
           0.5555555555555556,
           "#d8576b"
          ],
          [
           0.6666666666666666,
           "#ed7953"
          ],
          [
           0.7777777777777778,
           "#fb9f3a"
          ],
          [
           0.8888888888888888,
           "#fdca26"
          ],
          [
           1,
           "#f0f921"
          ]
         ]
        },
        "geo": {
         "center": {},
         "domain": {
          "x": [
           0,
           1
          ],
          "y": [
           0,
           1
          ]
         }
        },
        "legend": {
         "tracegroupgap": 0
        },
        "template": {
         "data": {
          "bar": [
           {
            "error_x": {
             "color": "#2a3f5f"
            },
            "error_y": {
             "color": "#2a3f5f"
            },
            "marker": {
             "line": {
              "color": "#E5ECF6",
              "width": 0.5
             },
             "pattern": {
              "fillmode": "overlay",
              "size": 10,
              "solidity": 0.2
             }
            },
            "type": "bar"
           }
          ],
          "barpolar": [
           {
            "marker": {
             "line": {
              "color": "#E5ECF6",
              "width": 0.5
             },
             "pattern": {
              "fillmode": "overlay",
              "size": 10,
              "solidity": 0.2
             }
            },
            "type": "barpolar"
           }
          ],
          "carpet": [
           {
            "aaxis": {
             "endlinecolor": "#2a3f5f",
             "gridcolor": "white",
             "linecolor": "white",
             "minorgridcolor": "white",
             "startlinecolor": "#2a3f5f"
            },
            "baxis": {
             "endlinecolor": "#2a3f5f",
             "gridcolor": "white",
             "linecolor": "white",
             "minorgridcolor": "white",
             "startlinecolor": "#2a3f5f"
            },
            "type": "carpet"
           }
          ],
          "choropleth": [
           {
            "colorbar": {
             "outlinewidth": 0,
             "ticks": ""
            },
            "type": "choropleth"
           }
          ],
          "contour": [
           {
            "colorbar": {
             "outlinewidth": 0,
             "ticks": ""
            },
            "colorscale": [
             [
              0,
              "#0d0887"
             ],
             [
              0.1111111111111111,
              "#46039f"
             ],
             [
              0.2222222222222222,
              "#7201a8"
             ],
             [
              0.3333333333333333,
              "#9c179e"
             ],
             [
              0.4444444444444444,
              "#bd3786"
             ],
             [
              0.5555555555555556,
              "#d8576b"
             ],
             [
              0.6666666666666666,
              "#ed7953"
             ],
             [
              0.7777777777777778,
              "#fb9f3a"
             ],
             [
              0.8888888888888888,
              "#fdca26"
             ],
             [
              1,
              "#f0f921"
             ]
            ],
            "type": "contour"
           }
          ],
          "contourcarpet": [
           {
            "colorbar": {
             "outlinewidth": 0,
             "ticks": ""
            },
            "type": "contourcarpet"
           }
          ],
          "heatmap": [
           {
            "colorbar": {
             "outlinewidth": 0,
             "ticks": ""
            },
            "colorscale": [
             [
              0,
              "#0d0887"
             ],
             [
              0.1111111111111111,
              "#46039f"
             ],
             [
              0.2222222222222222,
              "#7201a8"
             ],
             [
              0.3333333333333333,
              "#9c179e"
             ],
             [
              0.4444444444444444,
              "#bd3786"
             ],
             [
              0.5555555555555556,
              "#d8576b"
             ],
             [
              0.6666666666666666,
              "#ed7953"
             ],
             [
              0.7777777777777778,
              "#fb9f3a"
             ],
             [
              0.8888888888888888,
              "#fdca26"
             ],
             [
              1,
              "#f0f921"
             ]
            ],
            "type": "heatmap"
           }
          ],
          "heatmapgl": [
           {
            "colorbar": {
             "outlinewidth": 0,
             "ticks": ""
            },
            "colorscale": [
             [
              0,
              "#0d0887"
             ],
             [
              0.1111111111111111,
              "#46039f"
             ],
             [
              0.2222222222222222,
              "#7201a8"
             ],
             [
              0.3333333333333333,
              "#9c179e"
             ],
             [
              0.4444444444444444,
              "#bd3786"
             ],
             [
              0.5555555555555556,
              "#d8576b"
             ],
             [
              0.6666666666666666,
              "#ed7953"
             ],
             [
              0.7777777777777778,
              "#fb9f3a"
             ],
             [
              0.8888888888888888,
              "#fdca26"
             ],
             [
              1,
              "#f0f921"
             ]
            ],
            "type": "heatmapgl"
           }
          ],
          "histogram": [
           {
            "marker": {
             "pattern": {
              "fillmode": "overlay",
              "size": 10,
              "solidity": 0.2
             }
            },
            "type": "histogram"
           }
          ],
          "histogram2d": [
           {
            "colorbar": {
             "outlinewidth": 0,
             "ticks": ""
            },
            "colorscale": [
             [
              0,
              "#0d0887"
             ],
             [
              0.1111111111111111,
              "#46039f"
             ],
             [
              0.2222222222222222,
              "#7201a8"
             ],
             [
              0.3333333333333333,
              "#9c179e"
             ],
             [
              0.4444444444444444,
              "#bd3786"
             ],
             [
              0.5555555555555556,
              "#d8576b"
             ],
             [
              0.6666666666666666,
              "#ed7953"
             ],
             [
              0.7777777777777778,
              "#fb9f3a"
             ],
             [
              0.8888888888888888,
              "#fdca26"
             ],
             [
              1,
              "#f0f921"
             ]
            ],
            "type": "histogram2d"
           }
          ],
          "histogram2dcontour": [
           {
            "colorbar": {
             "outlinewidth": 0,
             "ticks": ""
            },
            "colorscale": [
             [
              0,
              "#0d0887"
             ],
             [
              0.1111111111111111,
              "#46039f"
             ],
             [
              0.2222222222222222,
              "#7201a8"
             ],
             [
              0.3333333333333333,
              "#9c179e"
             ],
             [
              0.4444444444444444,
              "#bd3786"
             ],
             [
              0.5555555555555556,
              "#d8576b"
             ],
             [
              0.6666666666666666,
              "#ed7953"
             ],
             [
              0.7777777777777778,
              "#fb9f3a"
             ],
             [
              0.8888888888888888,
              "#fdca26"
             ],
             [
              1,
              "#f0f921"
             ]
            ],
            "type": "histogram2dcontour"
           }
          ],
          "mesh3d": [
           {
            "colorbar": {
             "outlinewidth": 0,
             "ticks": ""
            },
            "type": "mesh3d"
           }
          ],
          "parcoords": [
           {
            "line": {
             "colorbar": {
              "outlinewidth": 0,
              "ticks": ""
             }
            },
            "type": "parcoords"
           }
          ],
          "pie": [
           {
            "automargin": true,
            "type": "pie"
           }
          ],
          "scatter": [
           {
            "fillpattern": {
             "fillmode": "overlay",
             "size": 10,
             "solidity": 0.2
            },
            "type": "scatter"
           }
          ],
          "scatter3d": [
           {
            "line": {
             "colorbar": {
              "outlinewidth": 0,
              "ticks": ""
             }
            },
            "marker": {
             "colorbar": {
              "outlinewidth": 0,
              "ticks": ""
             }
            },
            "type": "scatter3d"
           }
          ],
          "scattercarpet": [
           {
            "marker": {
             "colorbar": {
              "outlinewidth": 0,
              "ticks": ""
             }
            },
            "type": "scattercarpet"
           }
          ],
          "scattergeo": [
           {
            "marker": {
             "colorbar": {
              "outlinewidth": 0,
              "ticks": ""
             }
            },
            "type": "scattergeo"
           }
          ],
          "scattergl": [
           {
            "marker": {
             "colorbar": {
              "outlinewidth": 0,
              "ticks": ""
             }
            },
            "type": "scattergl"
           }
          ],
          "scattermapbox": [
           {
            "marker": {
             "colorbar": {
              "outlinewidth": 0,
              "ticks": ""
             }
            },
            "type": "scattermapbox"
           }
          ],
          "scatterpolar": [
           {
            "marker": {
             "colorbar": {
              "outlinewidth": 0,
              "ticks": ""
             }
            },
            "type": "scatterpolar"
           }
          ],
          "scatterpolargl": [
           {
            "marker": {
             "colorbar": {
              "outlinewidth": 0,
              "ticks": ""
             }
            },
            "type": "scatterpolargl"
           }
          ],
          "scatterternary": [
           {
            "marker": {
             "colorbar": {
              "outlinewidth": 0,
              "ticks": ""
             }
            },
            "type": "scatterternary"
           }
          ],
          "surface": [
           {
            "colorbar": {
             "outlinewidth": 0,
             "ticks": ""
            },
            "colorscale": [
             [
              0,
              "#0d0887"
             ],
             [
              0.1111111111111111,
              "#46039f"
             ],
             [
              0.2222222222222222,
              "#7201a8"
             ],
             [
              0.3333333333333333,
              "#9c179e"
             ],
             [
              0.4444444444444444,
              "#bd3786"
             ],
             [
              0.5555555555555556,
              "#d8576b"
             ],
             [
              0.6666666666666666,
              "#ed7953"
             ],
             [
              0.7777777777777778,
              "#fb9f3a"
             ],
             [
              0.8888888888888888,
              "#fdca26"
             ],
             [
              1,
              "#f0f921"
             ]
            ],
            "type": "surface"
           }
          ],
          "table": [
           {
            "cells": {
             "fill": {
              "color": "#EBF0F8"
             },
             "line": {
              "color": "white"
             }
            },
            "header": {
             "fill": {
              "color": "#C8D4E3"
             },
             "line": {
              "color": "white"
             }
            },
            "type": "table"
           }
          ]
         },
         "layout": {
          "annotationdefaults": {
           "arrowcolor": "#2a3f5f",
           "arrowhead": 0,
           "arrowwidth": 1
          },
          "autotypenumbers": "strict",
          "coloraxis": {
           "colorbar": {
            "outlinewidth": 0,
            "ticks": ""
           }
          },
          "colorscale": {
           "diverging": [
            [
             0,
             "#8e0152"
            ],
            [
             0.1,
             "#c51b7d"
            ],
            [
             0.2,
             "#de77ae"
            ],
            [
             0.3,
             "#f1b6da"
            ],
            [
             0.4,
             "#fde0ef"
            ],
            [
             0.5,
             "#f7f7f7"
            ],
            [
             0.6,
             "#e6f5d0"
            ],
            [
             0.7,
             "#b8e186"
            ],
            [
             0.8,
             "#7fbc41"
            ],
            [
             0.9,
             "#4d9221"
            ],
            [
             1,
             "#276419"
            ]
           ],
           "sequential": [
            [
             0,
             "#0d0887"
            ],
            [
             0.1111111111111111,
             "#46039f"
            ],
            [
             0.2222222222222222,
             "#7201a8"
            ],
            [
             0.3333333333333333,
             "#9c179e"
            ],
            [
             0.4444444444444444,
             "#bd3786"
            ],
            [
             0.5555555555555556,
             "#d8576b"
            ],
            [
             0.6666666666666666,
             "#ed7953"
            ],
            [
             0.7777777777777778,
             "#fb9f3a"
            ],
            [
             0.8888888888888888,
             "#fdca26"
            ],
            [
             1,
             "#f0f921"
            ]
           ],
           "sequentialminus": [
            [
             0,
             "#0d0887"
            ],
            [
             0.1111111111111111,
             "#46039f"
            ],
            [
             0.2222222222222222,
             "#7201a8"
            ],
            [
             0.3333333333333333,
             "#9c179e"
            ],
            [
             0.4444444444444444,
             "#bd3786"
            ],
            [
             0.5555555555555556,
             "#d8576b"
            ],
            [
             0.6666666666666666,
             "#ed7953"
            ],
            [
             0.7777777777777778,
             "#fb9f3a"
            ],
            [
             0.8888888888888888,
             "#fdca26"
            ],
            [
             1,
             "#f0f921"
            ]
           ]
          },
          "colorway": [
           "#636efa",
           "#EF553B",
           "#00cc96",
           "#ab63fa",
           "#FFA15A",
           "#19d3f3",
           "#FF6692",
           "#B6E880",
           "#FF97FF",
           "#FECB52"
          ],
          "font": {
           "color": "#2a3f5f"
          },
          "geo": {
           "bgcolor": "white",
           "lakecolor": "white",
           "landcolor": "#E5ECF6",
           "showlakes": true,
           "showland": true,
           "subunitcolor": "white"
          },
          "hoverlabel": {
           "align": "left"
          },
          "hovermode": "closest",
          "mapbox": {
           "style": "light"
          },
          "paper_bgcolor": "white",
          "plot_bgcolor": "#E5ECF6",
          "polar": {
           "angularaxis": {
            "gridcolor": "white",
            "linecolor": "white",
            "ticks": ""
           },
           "bgcolor": "#E5ECF6",
           "radialaxis": {
            "gridcolor": "white",
            "linecolor": "white",
            "ticks": ""
           }
          },
          "scene": {
           "xaxis": {
            "backgroundcolor": "#E5ECF6",
            "gridcolor": "white",
            "gridwidth": 2,
            "linecolor": "white",
            "showbackground": true,
            "ticks": "",
            "zerolinecolor": "white"
           },
           "yaxis": {
            "backgroundcolor": "#E5ECF6",
            "gridcolor": "white",
            "gridwidth": 2,
            "linecolor": "white",
            "showbackground": true,
            "ticks": "",
            "zerolinecolor": "white"
           },
           "zaxis": {
            "backgroundcolor": "#E5ECF6",
            "gridcolor": "white",
            "gridwidth": 2,
            "linecolor": "white",
            "showbackground": true,
            "ticks": "",
            "zerolinecolor": "white"
           }
          },
          "shapedefaults": {
           "line": {
            "color": "#2a3f5f"
           }
          },
          "ternary": {
           "aaxis": {
            "gridcolor": "white",
            "linecolor": "white",
            "ticks": ""
           },
           "baxis": {
            "gridcolor": "white",
            "linecolor": "white",
            "ticks": ""
           },
           "bgcolor": "#E5ECF6",
           "caxis": {
            "gridcolor": "white",
            "linecolor": "white",
            "ticks": ""
           }
          },
          "title": {
           "x": 0.05
          },
          "xaxis": {
           "automargin": true,
           "gridcolor": "white",
           "linecolor": "white",
           "ticks": "",
           "title": {
            "standoff": 15
           },
           "zerolinecolor": "white",
           "zerolinewidth": 2
          },
          "yaxis": {
           "automargin": true,
           "gridcolor": "white",
           "linecolor": "white",
           "ticks": "",
           "title": {
            "standoff": 15
           },
           "zerolinecolor": "white",
           "zerolinewidth": 2
          }
         }
        },
        "title": {
         "text": "Viability score"
        }
       }
      }
     },
     "metadata": {},
     "output_type": "display_data"
    }
   ],
   "source": [
    "# we plot the choropleth map of the viability score\n",
    "fig = px.choropleth(dfEdStatsDataWorthToSettleIn, locations='country_code', color='viability_score', hover_name='country_name', color_continuous_scale=px.colors.sequential.Plasma, title='Viability score', labels={'viability_score':'Viability score'})\n",
    "fig.show()"
   ]
  },
  {
   "cell_type": "markdown",
   "id": "8c0c8bb3",
   "metadata": {},
   "source": [
    "## TOP 10 to settle in"
   ]
  },
  {
   "cell_type": "code",
   "execution_count": 221,
   "id": "a992214f",
   "metadata": {},
   "outputs": [
    {
     "data": {
      "text/html": [
       "<div>\n",
       "<style scoped>\n",
       "    .dataframe tbody tr th:only-of-type {\n",
       "        vertical-align: middle;\n",
       "    }\n",
       "\n",
       "    .dataframe tbody tr th {\n",
       "        vertical-align: top;\n",
       "    }\n",
       "\n",
       "    .dataframe thead th {\n",
       "        text-align: right;\n",
       "    }\n",
       "</style>\n",
       "<table border=\"1\" class=\"dataframe\">\n",
       "  <thead>\n",
       "    <tr style=\"text-align: right;\">\n",
       "      <th></th>\n",
       "      <th>country_name</th>\n",
       "      <th>viability_score</th>\n",
       "    </tr>\n",
       "  </thead>\n",
       "  <tbody>\n",
       "    <tr>\n",
       "      <th>40</th>\n",
       "      <td>China</td>\n",
       "      <td>100.000000</td>\n",
       "    </tr>\n",
       "    <tr>\n",
       "      <th>85</th>\n",
       "      <td>India</td>\n",
       "      <td>96.046281</td>\n",
       "    </tr>\n",
       "    <tr>\n",
       "      <th>199</th>\n",
       "      <td>United States</td>\n",
       "      <td>23.443211</td>\n",
       "    </tr>\n",
       "    <tr>\n",
       "      <th>86</th>\n",
       "      <td>Indonesia</td>\n",
       "      <td>18.939498</td>\n",
       "    </tr>\n",
       "    <tr>\n",
       "      <th>26</th>\n",
       "      <td>Brazil</td>\n",
       "      <td>15.062103</td>\n",
       "    </tr>\n",
       "    <tr>\n",
       "      <th>144</th>\n",
       "      <td>Pakistan</td>\n",
       "      <td>14.012900</td>\n",
       "    </tr>\n",
       "    <tr>\n",
       "      <th>140</th>\n",
       "      <td>Nigeria</td>\n",
       "      <td>13.489685</td>\n",
       "    </tr>\n",
       "    <tr>\n",
       "      <th>15</th>\n",
       "      <td>Bangladesh</td>\n",
       "      <td>11.818407</td>\n",
       "    </tr>\n",
       "    <tr>\n",
       "      <th>156</th>\n",
       "      <td>Russian Federation</td>\n",
       "      <td>10.470897</td>\n",
       "    </tr>\n",
       "    <tr>\n",
       "      <th>124</th>\n",
       "      <td>Mexico</td>\n",
       "      <td>9.251603</td>\n",
       "    </tr>\n",
       "  </tbody>\n",
       "</table>\n",
       "</div>"
      ],
      "text/plain": [
       "           country_name  viability_score\n",
       "40                China       100.000000\n",
       "85                India        96.046281\n",
       "199       United States        23.443211\n",
       "86            Indonesia        18.939498\n",
       "26               Brazil        15.062103\n",
       "144            Pakistan        14.012900\n",
       "140             Nigeria        13.489685\n",
       "15           Bangladesh        11.818407\n",
       "156  Russian Federation        10.470897\n",
       "124              Mexico         9.251603"
      ]
     },
     "execution_count": 221,
     "metadata": {},
     "output_type": "execute_result"
    }
   ],
   "source": [
    "dfEdStatsDataWorthToSettleIn.head(10)[['country_name', 'viability_score']]"
   ]
  }
 ],
 "metadata": {
  "kernelspec": {
   "display_name": "Python 3",
   "language": "python",
   "name": "python3"
  },
  "language_info": {
   "codemirror_mode": {
    "name": "ipython",
    "version": 3
   },
   "file_extension": ".py",
   "mimetype": "text/x-python",
   "name": "python",
   "nbconvert_exporter": "python",
   "pygments_lexer": "ipython3",
   "version": "3.12.3"
  },
  "toc": {
   "base_numbering": 1,
   "nav_menu": {},
   "number_sections": true,
   "sideBar": true,
   "skip_h1_title": false,
   "title_cell": "Table of Contents",
   "title_sidebar": "Contents",
   "toc_cell": false,
   "toc_position": {},
   "toc_section_display": true,
   "toc_window_display": false
  }
 },
 "nbformat": 4,
 "nbformat_minor": 5
}
