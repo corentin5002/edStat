{
 "cells": [
  {
   "cell_type": "markdown",
   "id": "79599688",
   "metadata": {},
   "source": [
    "Vous êtes Data Scientist dans une start-up de la EdTech, nommée academy, qui propose des contenus de formation en ligne pour un public de niveau lycée et université.\n",
    "\n",
    "Mark, votre manager, vous a convié à une réunion pour vous présenter le projet d’expansion à l’international de l’entreprise. Il vous confie une première mission d’analyse exploratoire, pour déterminer si les données sur l’éducation de la banque mondiale permettent d’informer le projet d’expansion.\n",
    "\n",
    "Voici les différentes questions que Mark aimerait explorer, que vous avez notées durant la réunion :\n",
    "\n",
    "Quels sont les pays avec un fort potentiel de clients pour nos services ?\n",
    "Pour chacun de ces pays, quelle sera l’évolution de ce potentiel de clients ?\n",
    "Dans quels pays l'entreprise doit-elle opérer en priorité ?\n",
    "Votre mission\n",
    "Mark vous a donc demandé de réaliser une analyse pré-exploratoire de ce jeu de données. Il vous a transmis cet email à la suite de la réunion :\n",
    "\n",
    "Hello,\n",
    "\n",
    "Les données de la Banque mondiale sont disponibles à l’adresse suivante :\n",
    "\n",
    "https://datacatalog.worldbank.org/dataset/education-statistics\n",
    "\n",
    "Ou en téléchargement direct à ce lien.\n",
    "\n",
    "Je te laisse regarder la page d'accueil qui décrit le jeu de données. En résumé, l’organisme “EdStats All Indicator Query” de la Banque mondiale répertorie 4000 indicateurs internationaux décrivant l’accès à l’éducation, l’obtention de diplômes et des informations relatives aux professeurs, aux dépenses liées à l’éducation... Tu trouveras plus d'info sur ce site :\n",
    "\n",
    "http://datatopics.worldbank.org/education/\n",
    "\n",
    "Pour la pré-analyse, pourrais-tu :\n",
    "\n",
    "Valider la qualité de ce jeu de données (comporte-t-il beaucoup de données manquantes, dupliquées ?)\n",
    "\n",
    "Décrire les informations contenues dans le jeu de données (nombre de colonnes ? nombre de lignes ?)\n",
    "\n",
    "Sélectionner les informations qui semblent pertinentes pour répondre à la problématique (quelles sont les colonnes contenant des informations qui peuvent être utiles pour répondre à la problématique de l’entreprise ?)\n",
    "\n",
    "Déterminer des ordres de grandeurs des indicateurs statistiques classiques pour les différentes zones géographiques et pays du monde (moyenne/médiane/écart-type par pays et par continent ou bloc géographique)\n",
    "\n",
    "Ton travail va nous permettre de déterminer si ce jeu de données peut informer les décisions d'ouverture vers de nouveaux pays. On va partager ton analyse avec le board, alors merci de soigner la présentation et de l'illustrer avec des graphiques pertinents et lisibles !"
   ]
  },
  {
   "cell_type": "code",
   "execution_count": null,
   "id": "8ba42ade",
   "metadata": {},
   "outputs": [],
   "source": []
  }
 ],
 "metadata": {
  "kernelspec": {
   "display_name": "Python 3",
   "language": "python",
   "name": "python3"
  },
  "language_info": {
   "codemirror_mode": {
    "name": "ipython",
    "version": 3
   },
   "file_extension": ".py",
   "mimetype": "text/x-python",
   "name": "python",
   "nbconvert_exporter": "python",
   "pygments_lexer": "ipython3",
   "version": "3.9.16"
  },
  "toc": {
   "base_numbering": 1,
   "nav_menu": {},
   "number_sections": true,
   "sideBar": true,
   "skip_h1_title": false,
   "title_cell": "Table of Contents",
   "title_sidebar": "Contents",
   "toc_cell": false,
   "toc_position": {},
   "toc_section_display": true,
   "toc_window_display": false
  }
 },
 "nbformat": 4,
 "nbformat_minor": 5
}
